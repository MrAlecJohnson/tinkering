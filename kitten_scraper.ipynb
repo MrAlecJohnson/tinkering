{
 "cells": [
  {
   "cell_type": "code",
   "execution_count": null,
   "metadata": {},
   "outputs": [],
   "source": [
    "from pathlib import Path\n",
    "\n",
    "import requests\n",
    "from bs4 import BeautifulSoup\n",
    "from selenium import webdriver\n",
    "from selenium.webdriver.support.ui import WebDriverWait\n",
    "from selenium.webdriver.support import expected_conditions as EC\n",
    "from selenium.webdriver.common.by import By\n",
    "from selenium.common.exceptions import TimeoutException\n",
    "from unidecode import unidecode\n",
    "\n",
    "AGENT = \"Mozilla/5.0 (X11; Ubuntu; Linux x86_64; rv:15.0) Gecko/20100101 Firefox/15.0.1\"\n",
    "URL = \"https://www.celiahammond.org/canning-town/index.php/animals-needing-homes/canning-town-london\""
   ]
  },
  {
   "cell_type": "code",
   "execution_count": null,
   "metadata": {},
   "outputs": [],
   "source": [
    "def get_link(\n",
    "    url: str, agent: str = AGENT, allow_redirects: bool = True, verify: bool = True\n",
    "):\n",
    "    \"\"\"Return http response from a given url\"\"\"\n",
    "    headers = {\"User-Agent\": agent}\n",
    "    return requests.get(\n",
    "        url,\n",
    "        headers=headers,\n",
    "        allow_redirects=allow_redirects,\n",
    "        timeout=None,\n",
    "        verify=verify,\n",
    "    )\n",
    "\n",
    "def make_soup(url: str, verify: bool = True):\n",
    "    \"\"\"Get content from a url and parse it with Beautiful Soup.\"\"\"\n",
    "    response = get_link(url, verify=verify)\n",
    "    return BeautifulSoup(response.text, \"lxml\")\n"
   ]
  },
  {
   "cell_type": "code",
   "execution_count": null,
   "metadata": {},
   "outputs": [],
   "source": [
    "soup = make_soup(URL)\n",
    "\n",
    "options = webdriver.ChromeOptions()\n",
    "options.add_argument(\"--ignore-certificate-errors\")\n",
    "options.add_argument(\"--incognito\")\n",
    "options.add_argument(\"--headless\")\n",
    "\n",
    "def get_page(url):\n",
    "    \"\"\"Get page, using Selenium for Arcgis pages\"\"\"\n",
    "    path = Path.cwd().parent / \"code\" / \"chromedriver\"\n",
    "    print(path)\n",
    "    driver = webdriver.Chrome(path, options=options)\n",
    "    driver.get(url)\n",
    "    try:\n",
    "        WebDriverWait(driver, 10).until(\n",
    "            EC.presence_of_element_located((By.CLASS_NAME, \"slides_control\"))\n",
    "        )\n",
    "    except TimeoutException:\n",
    "        return []\n",
    "    html = driver.page_source\n",
    "    content = BeautifulSoup(html, \"lxml\")\n",
    "    return content"
   ]
  },
  {
   "cell_type": "code",
   "execution_count": null,
   "metadata": {},
   "outputs": [],
   "source": [
    "content = get_page(URL)"
   ]
  },
  {
   "cell_type": "code",
   "execution_count": null,
   "metadata": {},
   "outputs": [],
   "source": [
    "intros = content.find_all(\"div\", {\"class\": \"bt-introtext\"})\n",
    "intro_texts = [intro.text.strip().replace(\"\\n\", \" \") for intro in intros]\n",
    "[text for text in intro_texts if \"indoor\" in text.lower()]"
   ]
  },
  {
   "cell_type": "code",
   "execution_count": null,
   "metadata": {},
   "outputs": [],
   "source": [
    "headings = content.find_all(\"a\", {\"class\": \"bt-title\"})\n",
    "heading_texts = [(heading[\"title\"], \"https://www.celiahammond.org\" + heading[\"href\"]) for heading in headings if \"indoor\" in heading[\"title\"].lower()]\n",
    "heading_texts"
   ]
  },
  {
   "cell_type": "code",
   "execution_count": null,
   "metadata": {},
   "outputs": [],
   "source": []
  }
 ],
 "metadata": {
  "kernelspec": {
   "display_name": "Python 3.10.5 64-bit ('tinkering')",
   "language": "python",
   "name": "python3"
  },
  "language_info": {
   "codemirror_mode": {
    "name": "ipython",
    "version": 3
   },
   "file_extension": ".py",
   "mimetype": "text/x-python",
   "name": "python",
   "nbconvert_exporter": "python",
   "pygments_lexer": "ipython3",
   "version": "3.10.5 (main, Jul 27 2022, 16:38:46) [Clang 13.1.6 (clang-1316.0.21.2.5)]"
  },
  "orig_nbformat": 4,
  "vscode": {
   "interpreter": {
    "hash": "3d825a01861c385af652f16a2977ea66e0de4606550880b855ea48bc953bcb2b"
   }
  }
 },
 "nbformat": 4,
 "nbformat_minor": 2
}
