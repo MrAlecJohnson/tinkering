{
 "cells": [
  {
   "cell_type": "code",
   "execution_count": null,
   "metadata": {},
   "outputs": [],
   "source": [
    "from pathlib import Path\n",
    "\n",
    "import requests\n",
    "from bs4 import BeautifulSoup\n",
    "from selenium import webdriver\n",
    "from selenium.webdriver.support.ui import WebDriverWait\n",
    "from selenium.webdriver.support import expected_conditions as EC\n",
    "from selenium.webdriver.common.by import By\n",
    "from selenium.common.exceptions import TimeoutException\n",
    "from unidecode import unidecode\n",
    "\n",
    "AGENT = \"Mozilla/5.0 (X11; Ubuntu; Linux x86_64; rv:15.0) Gecko/20100101 Firefox/15.0.1\"\n",
    "URL = \"https://www.celiahammond.org/canning-town/index.php/animals-needing-homes/canning-town-london\""
   ]
  },
  {
   "cell_type": "code",
   "execution_count": null,
   "metadata": {},
   "outputs": [],
   "source": [
    "def get_link(\n",
    "    url: str, agent: str = AGENT, allow_redirects: bool = True, verify: bool = True\n",
    "):\n",
    "    \"\"\"Return http response from a given url\"\"\"\n",
    "    headers = {\"User-Agent\": agent}\n",
    "    return requests.get(\n",
    "        url,\n",
    "        headers=headers,\n",
    "        allow_redirects=allow_redirects,\n",
    "        timeout=None,\n",
    "        verify=verify,\n",
    "    )\n",
    "\n",
    "def make_soup(url: str, verify: bool = True):\n",
    "    \"\"\"Get content from a url and parse it with Beautiful Soup.\"\"\"\n",
    "    response = get_link(url, verify=verify)\n",
    "    return BeautifulSoup(response.text, \"lxml\")\n"
   ]
  },
  {
   "cell_type": "code",
   "execution_count": null,
   "metadata": {},
   "outputs": [],
   "source": [
    "soup = make_soup(URL)\n",
    "\n",
    "options = webdriver.ChromeOptions()\n",
    "options.add_argument(\"--ignore-certificate-errors\")\n",
    "options.add_argument(\"--incognito\")\n",
    "options.add_argument(\"--headless\")\n",
    "\n",
    "def get_page(url):\n",
    "    \"\"\"Get page, using Selenium for Arcgis pages\"\"\"\n",
    "    path = Path.cwd().parent / \"code\" / \"chromedriver\"\n",
    "    print(path)\n",
    "    driver = webdriver.Chrome(path, options=options)\n",
    "    driver.get(url)\n",
    "    try:\n",
    "        WebDriverWait(driver, 10).until(\n",
    "            EC.presence_of_element_located((By.CLASS_NAME, \"slides_control\"))\n",
    "        )\n",
    "    except TimeoutException:\n",
    "        return []\n",
    "    html = driver.page_source\n",
    "    content = BeautifulSoup(html, \"lxml\")\n",
    "    return content"
   ]
  },
  {
   "cell_type": "code",
   "execution_count": null,
   "metadata": {},
   "outputs": [],
   "source": [
    "content = get_page(URL)"
   ]
  },
  {
   "cell_type": "code",
   "execution_count": 45,
   "metadata": {},
   "outputs": [
    {
     "data": {
      "text/plain": [
       "[]"
      ]
     },
     "execution_count": 45,
     "metadata": {},
     "output_type": "execute_result"
    }
   ],
   "source": [
    "intros = content.find_all(\"div\", {\"class\": \"bt-introtext\"})\n",
    "intro_texts = [intro.text.strip().replace(\"\\n\", \" \") for intro in intros]\n",
    "[text for text in intro_texts if \"indoor\" in text.lower()]"
   ]
  },
  {
   "cell_type": "code",
   "execution_count": 46,
   "metadata": {},
   "outputs": [
    {
     "data": {
      "text/plain": [
       "[('Eric - Indoor only home ',\n",
       "  'https://www.celiahammond.org/canning-town/index.php/animals-needing-homes/canning-town-london/8-animals-needing-homes/2621-eric'),\n",
       " ('Ellie - Could be indoor',\n",
       "  'https://www.celiahammond.org/canning-town/index.php/animals-needing-homes/canning-town-london/8-animals-needing-homes/2724-ellie'),\n",
       " ('Stanley - Indoor',\n",
       "  'https://www.celiahammond.org/canning-town/index.php/animals-needing-homes/canning-town-london/8-animals-needing-homes/2736-stanley-indoor'),\n",
       " ('Blueberry and Blackberry - Permanent foster - Indoor ',\n",
       "  'https://www.celiahammond.org/canning-town/index.php/animals-needing-homes/canning-town-london/8-animals-needing-homes/2739-blueberry-and-blackberry'),\n",
       " ('Jack Sparrow and Isabela - Indoor only home',\n",
       "  'https://www.celiahammond.org/canning-town/index.php/animals-needing-homes/canning-town-london/8-animals-needing-homes/2740-jack-sparrow-and-isabela-indoor-only'),\n",
       " ('Boggle - Indoor home only ',\n",
       "  'https://www.celiahammond.org/canning-town/index.php/animals-needing-homes/canning-town-london/8-animals-needing-homes/2745-boggle-indoor-home-only'),\n",
       " ('Lady - Indoor only home  ',\n",
       "  'https://www.celiahammond.org/canning-town/index.php/animals-needing-homes/canning-town-london/8-animals-needing-homes/2756-lady-indoor-home'),\n",
       " (' Shy - Indoor only home',\n",
       "  'https://www.celiahammond.org/canning-town/index.php/animals-needing-homes/canning-town-london/8-animals-needing-homes/2757-shy-indoor-home'),\n",
       " ('Beautiful - Indoor only home ',\n",
       "  'https://www.celiahammond.org/canning-town/index.php/animals-needing-homes/canning-town-london/8-animals-needing-homes/2758-beautiful-indoor-only'),\n",
       " ('Diana - foster with view to adopt - Indoor ',\n",
       "  'https://www.celiahammond.org/canning-town/index.php/animals-needing-homes/canning-town-london/8-animals-needing-homes/2737-diana-foster-with-view-to-adopt'),\n",
       " ('Cats and older kittens - indoor-only homes needed',\n",
       "  'https://www.celiahammond.org/canning-town/index.php/animals-needing-homes/canning-town-london/8-animals-needing-homes/2681-older-kittens-indoor-homes-needed'),\n",
       " ('Snowy - Indoor Only Home',\n",
       "  'https://www.celiahammond.org/canning-town/index.php/animals-needing-homes/canning-town-london/8-animals-needing-homes/2767-snowy-indoor-only-home'),\n",
       " ('Audrey - Indoor only',\n",
       "  'https://www.celiahammond.org/canning-town/index.php/animals-needing-homes/canning-town-london/8-animals-needing-homes/2785-audrey-indoor-only-read-and-publish')]"
      ]
     },
     "execution_count": 46,
     "metadata": {},
     "output_type": "execute_result"
    }
   ],
   "source": [
    "headings = content.find_all(\"a\", {\"class\": \"bt-title\"})\n",
    "heading_texts = [(heading[\"title\"], \"https://www.celiahammond.org\" + heading[\"href\"]) for heading in headings if \"indoor\" in heading[\"title\"].lower()]\n",
    "heading_texts"
   ]
  }
 ],
 "metadata": {
  "kernelspec": {
   "display_name": "Python 3.10.5 64-bit ('tinkering')",
   "language": "python",
   "name": "python3"
  },
  "language_info": {
   "codemirror_mode": {
    "name": "ipython",
    "version": 3
   },
   "file_extension": ".py",
   "mimetype": "text/x-python",
   "name": "python",
   "nbconvert_exporter": "python",
   "pygments_lexer": "ipython3",
   "version": "3.10.5"
  },
  "orig_nbformat": 4,
  "vscode": {
   "interpreter": {
    "hash": "3d825a01861c385af652f16a2977ea66e0de4606550880b855ea48bc953bcb2b"
   }
  }
 },
 "nbformat": 4,
 "nbformat_minor": 2
}
