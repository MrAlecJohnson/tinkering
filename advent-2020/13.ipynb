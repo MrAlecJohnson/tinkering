{
 "cells": [
  {
   "cell_type": "code",
   "execution_count": 2,
   "metadata": {},
   "outputs": [],
   "source": [
    "import re\n",
    "import numpy as np\n",
    "import utils\n",
    "\n",
    "import copy\n",
    "\n",
    "utils.get_input(13)"
   ]
  },
  {
   "cell_type": "code",
   "execution_count": 3,
   "metadata": {},
   "outputs": [],
   "source": [
    "data = [x for x in utils.get_local_input(\"inputs_13.txt\", True)]"
   ]
  },
  {
   "cell_type": "code",
   "execution_count": 43,
   "metadata": {},
   "outputs": [],
   "source": [
    "# smallest multiple of one of the numbers in list 1 that is larger than the value in list 0\n",
    "buses = [int(num) for num in data[1].split(\",\") if num != \"x\"]\n",
    "test = [7, 13, 59, 31, 19]"
   ]
  },
  {
   "cell_type": "code",
   "execution_count": 39,
   "metadata": {},
   "outputs": [
    {
     "data": {
      "text/plain": [
       "2045"
      ]
     },
     "execution_count": 39,
     "metadata": {},
     "output_type": "execute_result"
    }
   ],
   "source": [
    "earliest = int(data[0])\n",
    "waits = [(x, x - (earliest % x)) for x in buses]\n",
    "first = sorted(waits, key=lambda x: x[1])[0]\n",
    "result = first[0] * first[1]\n",
    "result"
   ]
  },
  {
   "cell_type": "code",
   "execution_count": 44,
   "metadata": {},
   "outputs": [],
   "source": [
    "# Part 2\n",
    "buses = data[1].split(\",\")\n",
    "schedule = [(x, int(y)) for x, y in enumerate(buses) if y != \"x\"]\n",
    "test_schedule = [(0, 7), (1, 13), (4, 59), (6, 31), (7, 19)]\n",
    "simple = [(0, 5), (1,7), (2,11)]"
   ]
  },
  {
   "cell_type": "code",
   "execution_count": 96,
   "metadata": {},
   "outputs": [
    {
     "name": "stdout",
     "output_type": "stream",
     "text": [
      "20\n"
     ]
    }
   ],
   "source": [
    "# Correct but too slow\n",
    "def check(value, seq):\n",
    "    return all([value % x[1] == (x[1] - x[0]) % x[1] for x in seq])\n",
    "\n",
    "use = simple\n",
    "\n",
    "divisor = ([x[1] for x in use])[0]\n",
    "current = 0\n",
    "\n",
    "while True:\n",
    "    if check(current, use):\n",
    "        print(current)\n",
    "        break\n",
    "    else:\n",
    "        current = current + divisor"
   ]
  },
  {
   "cell_type": "code",
   "execution_count": 47,
   "metadata": {},
   "outputs": [
    {
     "data": {
      "text/plain": [
       "402251700208309"
      ]
     },
     "execution_count": 47,
     "metadata": {},
     "output_type": "execute_result"
    }
   ],
   "source": [
    "import math\n",
    "\n",
    "use = schedule\n",
    "buses = [u[1] for u in use]\n",
    "delays = [u[1] - u[0] for u in use]\n",
    "\n",
    "#https://brilliant.org/wiki/chinese-remainder-theorem/\n",
    "# Product of remainders\n",
    "product = math.prod(buses)\n",
    "\n",
    "# Modulo of 1/(product/bus)\n",
    "inverses = [pow((product // b), -1, b) for b in buses]\n",
    "\n",
    "# Multiply delays, inverses\n",
    "total = sum([delays[i] * inverses[i] * (product // b) for i, b in enumerate(buses)])\n",
    "\n",
    "# Solution for timestamp (x mod N)\n",
    "result = total % product\n",
    "\n",
    "# must say I don't really understand this yet\n",
    "result\n"
   ]
  }
 ],
 "metadata": {
  "kernelspec": {
   "display_name": "scrapbook",
   "language": "python",
   "name": "scrapbook"
  },
  "language_info": {
   "codemirror_mode": {
    "name": "ipython",
    "version": 3
   },
   "file_extension": ".py",
   "mimetype": "text/x-python",
   "name": "python",
   "nbconvert_exporter": "python",
   "pygments_lexer": "ipython3",
   "version": "3.8.5"
  }
 },
 "nbformat": 4,
 "nbformat_minor": 4
}
