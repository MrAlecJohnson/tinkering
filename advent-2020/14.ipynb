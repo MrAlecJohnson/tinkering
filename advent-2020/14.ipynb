{
 "cells": [
  {
   "cell_type": "code",
   "execution_count": 1,
   "metadata": {},
   "outputs": [],
   "source": [
    "import re\n",
    "import numpy as np\n",
    "import utils\n",
    "\n",
    "import copy\n",
    "\n",
    "utils.get_input(14)"
   ]
  },
  {
   "cell_type": "code",
   "execution_count": 21,
   "metadata": {},
   "outputs": [],
   "source": [
    "data = [x for x in utils.get_local_input(\"inputs_14.txt\", True)]\n",
    "test = [\n",
    "    \"mask = XXXXXXXXXXXXXXXXXXXXXXXXXXXXX1XXXX0X\", \n",
    "    \"mem[8] = 11\",\n",
    "    \"mem[7] = 101\",\n",
    "    \"mem[8] = 0\",\n",
    "]"
   ]
  },
  {
   "cell_type": "code",
   "execution_count": 35,
   "metadata": {},
   "outputs": [
    {
     "data": {
      "text/plain": [
       "7477696999511"
      ]
     },
     "execution_count": 35,
     "metadata": {},
     "output_type": "execute_result"
    }
   ],
   "source": [
    "mask = None\n",
    "values = {}\n",
    "size = 36\n",
    "pattern = re.compile(r\"\\d+\")\n",
    "\n",
    "for d in data:\n",
    "    if d.startswith(\"mask\"):\n",
    "        mask = list(d[7:])\n",
    "    else:\n",
    "        k, v = pattern.findall(d)\n",
    "        binary = list(bin(int(v))[2:].rjust(size, \"0\"))\n",
    "        for i, r in enumerate(mask):\n",
    "            if r in [\"0\", \"1\"]:\n",
    "                binary[i] = mask[i]\n",
    "        new = int(\"\".join(binary), 2)\n",
    "        values[k] = new\n",
    "        \n",
    "sum(values.values())"
   ]
  },
  {
   "cell_type": "code",
   "execution_count": 34,
   "metadata": {},
   "outputs": [],
   "source": [
    "test2 = [\n",
    "    \"mask = 000000000000000000000000000000X1001X\",\n",
    "    \"mem[42] = 100\",\n",
    "    \"mask = 00000000000000000000000000000000X0XX\",\n",
    "    \"mem[26] = 1\",\n",
    "]"
   ]
  },
  {
   "cell_type": "code",
   "execution_count": 39,
   "metadata": {},
   "outputs": [
    {
     "data": {
      "text/plain": [
       "3687727854171"
      ]
     },
     "execution_count": 39,
     "metadata": {},
     "output_type": "execute_result"
    }
   ],
   "source": [
    "mask = None\n",
    "values = {}\n",
    "size = 36\n",
    "pattern = re.compile(r\"\\d+\")\n",
    "\n",
    "def process_instruction(row, mask):\n",
    "    k, v = pattern.findall(row)\n",
    "    binary_k = list(bin(int(k))[2:].rjust(size, \"0\"))\n",
    "    for i, r in enumerate(mask):\n",
    "        if r in [\"1\", \"X\"]:\n",
    "            binary_k[i] = mask[i]\n",
    "    write_back(\"\".join(binary_k), v)\n",
    "\n",
    "\n",
    "def write_back(binary_string, value):\n",
    "    if \"X\" in binary_string:  # could compare efficiency with try/except\n",
    "        write_back(binary_string.replace(\"X\", \"0\", 1), value)\n",
    "        write_back(binary_string.replace(\"X\", \"1\", 1), value)\n",
    "    else:\n",
    "        values[int(binary_string, 2)] = int(value)\n",
    "        \n",
    "for d in data:\n",
    "    if d.startswith(\"mask\"):\n",
    "        mask = list(d[7:])\n",
    "    else:\n",
    "        process_instruction(d, mask)\n",
    "\n",
    "sum(values.values())"
   ]
  },
  {
   "cell_type": "code",
   "execution_count": null,
   "metadata": {},
   "outputs": [],
   "source": []
  }
 ],
 "metadata": {
  "kernelspec": {
   "display_name": "scrapbook",
   "language": "python",
   "name": "scrapbook"
  },
  "language_info": {
   "codemirror_mode": {
    "name": "ipython",
    "version": 3
   },
   "file_extension": ".py",
   "mimetype": "text/x-python",
   "name": "python",
   "nbconvert_exporter": "python",
   "pygments_lexer": "ipython3",
   "version": "3.8.5"
  }
 },
 "nbformat": 4,
 "nbformat_minor": 4
}
