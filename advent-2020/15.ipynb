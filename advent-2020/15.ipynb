{
 "cells": [
  {
   "cell_type": "code",
   "execution_count": 1,
   "metadata": {},
   "outputs": [],
   "source": [
    "import re\n",
    "import numpy as np\n",
    "import utils\n",
    "\n",
    "import copy\n",
    "\n",
    "utils.get_input(15)"
   ]
  },
  {
   "cell_type": "code",
   "execution_count": 5,
   "metadata": {},
   "outputs": [],
   "source": [
    "data = [x for x in utils.get_local_input(\"inputs_15.txt\", True)]"
   ]
  },
  {
   "cell_type": "code",
   "execution_count": 35,
   "metadata": {},
   "outputs": [
    {
     "name": "stdout",
     "output_type": "stream",
     "text": [
      "[1, 12, 0, 20, 8, 16]\n"
     ]
    }
   ],
   "source": [
    "puzzle = [int(x) for x in data[0].split(\",\")]\n",
    "test = [0, 3, 6]\n",
    "test2 = [1, 3, 2]\n",
    "test3 = [3, 1, 2]\n",
    "print(puzzle)"
   ]
  },
  {
   "cell_type": "code",
   "execution_count": 37,
   "metadata": {},
   "outputs": [
    {
     "name": "stdout",
     "output_type": "stream",
     "text": [
      "273\n"
     ]
    }
   ],
   "source": [
    "# say 0 for new number\n",
    "# if number said before, difference between most recent 2 turns\n",
    "start = copy.copy(puzzle)\n",
    "start.reverse()\n",
    "for x in range(2020 - len(start)):\n",
    "    try:\n",
    "        new = start[1:].index(start[0]) + 1\n",
    "        start.insert(0, new)\n",
    "    except ValueError:\n",
    "        start.insert(0, 0)\n",
    "\n",
    "#print(len(start))\n",
    "print(start[0])    "
   ]
  },
  {
   "cell_type": "code",
   "execution_count": 67,
   "metadata": {},
   "outputs": [
    {
     "name": "stdout",
     "output_type": "stream",
     "text": [
      "47205\n"
     ]
    }
   ],
   "source": [
    "# Part 2\n",
    "start = copy.copy(puzzle)\n",
    "numbers = {i: start.index(i) for i in start[:-1]}\n",
    "previous = start[-1]\n",
    "for x in range(len(start), 30000000):\n",
    "    current = (x - 1) - numbers.get(previous, x - 1)\n",
    "    numbers[previous] = x - 1\n",
    "    previous = current\n",
    "\n",
    "print(current)"
   ]
  },
  {
   "cell_type": "code",
   "execution_count": null,
   "metadata": {},
   "outputs": [],
   "source": []
  }
 ],
 "metadata": {
  "kernelspec": {
   "display_name": "scrapbook",
   "language": "python",
   "name": "scrapbook"
  },
  "language_info": {
   "codemirror_mode": {
    "name": "ipython",
    "version": 3
   },
   "file_extension": ".py",
   "mimetype": "text/x-python",
   "name": "python",
   "nbconvert_exporter": "python",
   "pygments_lexer": "ipython3",
   "version": "3.8.5"
  }
 },
 "nbformat": 4,
 "nbformat_minor": 4
}
