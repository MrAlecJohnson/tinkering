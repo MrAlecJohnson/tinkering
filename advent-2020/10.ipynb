{
 "cells": [
  {
   "cell_type": "code",
   "execution_count": 1,
   "metadata": {},
   "outputs": [],
   "source": [
    "import re\n",
    "\n",
    "import utils"
   ]
  },
  {
   "cell_type": "code",
   "execution_count": 3,
   "metadata": {},
   "outputs": [],
   "source": [
    "utils.get_input(10)"
   ]
  },
  {
   "cell_type": "code",
   "execution_count": 27,
   "metadata": {},
   "outputs": [],
   "source": [
    "data = [int(d) for d in utils.get_local_input(\"inputs_10.txt\", True)]\n",
    "test = [int(t) for t in utils.get_local_input(\"test_10.txt\", True)]\n",
    "test_b = [int(t) for t in utils.get_local_input(\"test_10b.txt\", True)]"
   ]
  },
  {
   "cell_type": "code",
   "execution_count": 32,
   "metadata": {},
   "outputs": [
    {
     "data": {
      "text/plain": [
       "2592"
      ]
     },
     "execution_count": 32,
     "metadata": {},
     "output_type": "execute_result"
    }
   ],
   "source": [
    "# get from 0 to max +3\n",
    "# each device can attach to one up to 3 less\n",
    "# find the difference at each step of the chain \n",
    "# count 1 step, multiply by count 3-step\n",
    "\n",
    "def arrange_adaptors(seq):\n",
    "    adaptors = sorted(seq)\n",
    "    ones = 0\n",
    "    threes = 1\n",
    "    current = 0\n",
    "    previous = 0\n",
    "    for a in range(0, len(adaptors)):\n",
    "        current = adaptors[a]\n",
    "        if current - previous == 1:\n",
    "            ones += 1\n",
    "        elif current - previous == 3:\n",
    "            threes += 1\n",
    "        previous = current\n",
    "    return (ones, threes)\n",
    "    \n",
    "    \n",
    "result = arrange_adaptors(data)\n",
    "result[0] * result[1]"
   ]
  },
  {
   "cell_type": "code",
   "execution_count": 132,
   "metadata": {},
   "outputs": [],
   "source": [
    "# Okay, no, this is slow\n",
    "import networkx as nx\n",
    "\n",
    "nodes = sorted(data)\n",
    "top = max(nodes) + 3\n",
    "nodes.append(0)\n",
    "nodes.append(top)\n",
    "\n",
    "# Create graph\n",
    "G = nx.DiGraph()\n",
    "G.add_nodes_from(nodes)\n",
    "\n",
    "for n in nodes:\n",
    "    for potential in range(n+1,n+4):\n",
    "        if potential in nodes:\n",
    "            G.add_edge(n, potential)\n",
    "\n",
    "#result = len(list(nx.all_simple_paths(G, 0, top)))\n",
    "#result"
   ]
  },
  {
   "cell_type": "code",
   "execution_count": 134,
   "metadata": {},
   "outputs": [],
   "source": [
    "# try to split at bottlenecks, then multiply totals for each side? \n",
    "# surely there's a neater way to do this!\n",
    "remove = []\n",
    "for node in G.nodes:\n",
    "    if G.in_degree(node) <= 1 and G.out_degree(node) <= 1:\n",
    "        for n in G.predecessors(node):\n",
    "            before = G.out_degree(n) == 1\n",
    "        for s in G.successors(node):\n",
    "            after = G.in_degree(n) == 1\n",
    "        if before and after:\n",
    "            remove.append(node)\n",
    "            \n",
    "G.remove_nodes_from(remove)"
   ]
  },
  {
   "cell_type": "code",
   "execution_count": 135,
   "metadata": {},
   "outputs": [
    {
     "data": {
      "text/plain": [
       "198428693313536"
      ]
     },
     "execution_count": 135,
     "metadata": {},
     "output_type": "execute_result"
    }
   ],
   "source": [
    "from math import prod\n",
    "\n",
    "components = [G.subgraph(c).copy() for c in nx.weakly_connected_components(G)]\n",
    "totals = [len(list(nx.all_simple_paths(c, min(c.nodes), max(c.nodes)))) for c in components]\n",
    "prod(totals)"
   ]
  }
 ],
 "metadata": {
  "kernelspec": {
   "display_name": "scrapbook",
   "language": "python",
   "name": "scrapbook"
  },
  "language_info": {
   "codemirror_mode": {
    "name": "ipython",
    "version": 3
   },
   "file_extension": ".py",
   "mimetype": "text/x-python",
   "name": "python",
   "nbconvert_exporter": "python",
   "pygments_lexer": "ipython3",
   "version": "3.8.5"
  }
 },
 "nbformat": 4,
 "nbformat_minor": 4
}
