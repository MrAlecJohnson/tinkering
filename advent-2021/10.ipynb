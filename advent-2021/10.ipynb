{
 "cells": [
  {
   "cell_type": "markdown",
   "metadata": {},
   "source": [
    "# Day 1\n",
    "\n",
    "## Imports and data loading"
   ]
  },
  {
   "cell_type": "code",
   "execution_count": null,
   "metadata": {},
   "outputs": [],
   "source": [
    "from utils import get_input, load_data\n",
    "\n",
    "day = 10\n"
   ]
  },
  {
   "cell_type": "code",
   "execution_count": null,
   "metadata": {},
   "outputs": [],
   "source": [
    "get_input(day)\n"
   ]
  },
  {
   "cell_type": "code",
   "execution_count": null,
   "metadata": {},
   "outputs": [],
   "source": [
    "data = load_data(day, list_type=\"line\", number=False)\n",
    "test_data = [\n",
    "    \"[({(<(())[]>[[{[]{<()<>>\",\n",
    "    \"[(()[<>])]({[<{<<[]>>(\",\n",
    "    \"{([(<{}[<>[]}>{[]{[(<()>\",\n",
    "    \"(((({<>}<{<{<>}{[]{[]{}\",\n",
    "    \"[[<[([]))<([[{}[[()]]]\",\n",
    "    \"[{[{({}]{}}([{[{{{}}([]\",\n",
    "    \"{<[[]]>}<{[{[{[]{()[[[]\",\n",
    "    \"[<(<(<(<{}))><([]([]()\",\n",
    "    \"<{([([[(<>()){}]>(<<{{\",\n",
    "    \"<{([{{}}[<[[[<>{}]]]>[]]\",\n",
    "]\n",
    "test_answer_1 = 26397\n",
    "test_answer_2 = 288957\n"
   ]
  },
  {
   "cell_type": "markdown",
   "metadata": {},
   "source": [
    "## Part one"
   ]
  },
  {
   "cell_type": "code",
   "execution_count": null,
   "metadata": {},
   "outputs": [],
   "source": [
    "pairs = {\n",
    "    \"(\": \")\",\n",
    "    \"[\": \"]\",\n",
    "    \"{\": \"}\",\n",
    "    \"<\": \">\",\n",
    "}\n",
    "\n",
    "\n",
    "def check_syntax(line: str, pairs: dict = pairs) -> str:\n",
    "    \"\"\"Return empty string if everything's fine, or error character if not.\"\"\"\n",
    "    expected = {\n",
    "        \")\": 0,\n",
    "        \"]\": 0,\n",
    "        \"}\": 0,\n",
    "        \">\": 0,\n",
    "    }\n",
    "    last = []\n",
    "    for character in line:\n",
    "        if character in pairs:\n",
    "            expected[pairs[character]] += 1\n",
    "            last.append(character)\n",
    "        elif expected[character] > 0 and character == pairs[last.pop()]:\n",
    "            expected[character] -= 1\n",
    "        else:\n",
    "            # Error found!\n",
    "            return character\n",
    "\n",
    "        # print(expected)\n",
    "\n",
    "    return \"\"\n",
    "\n",
    "\n",
    "def count_errors(lines: list[str]) -> int:\n",
    "    scores = {\n",
    "        \")\": 3,\n",
    "        \"]\": 57,\n",
    "        \"}\": 1197,\n",
    "        \">\": 25137,\n",
    "    }\n",
    "    totals = {\n",
    "        \")\": 0,\n",
    "        \"]\": 0,\n",
    "        \"}\": 0,\n",
    "        \">\": 0,\n",
    "    }\n",
    "    for line in lines:\n",
    "        result = check_syntax(line)\n",
    "        if result:\n",
    "            totals[result] += 1\n",
    "    return sum([totals[character] * scores[character] for character in totals])\n"
   ]
  },
  {
   "cell_type": "code",
   "execution_count": null,
   "metadata": {},
   "outputs": [],
   "source": [
    "assert count_errors(test_data) == test_answer_1\n",
    "count_errors(data)\n"
   ]
  },
  {
   "cell_type": "markdown",
   "metadata": {},
   "source": [
    "## Part two"
   ]
  },
  {
   "cell_type": "code",
   "execution_count": null,
   "metadata": {},
   "outputs": [],
   "source": [
    "def remove_corrupt(lines):\n",
    "    return [line for line in lines if not check_syntax(line)]\n",
    "\n",
    "\n",
    "test_lines = remove_corrupt(test_data)\n",
    "assert test_lines == [\n",
    "    \"[({(<(())[]>[[{[]{<()<>>\",\n",
    "    \"[(()[<>])]({[<{<<[]>>(\",\n",
    "    \"(((({<>}<{<{<>}{[]{[]{}\",\n",
    "    \"{<[[]]>}<{[{[{[]{()[[[]\",\n",
    "    \"<{([{{}}[<[[[<>{}]]]>[]]\",\n",
    "]\n",
    "lines = remove_corrupt(data)\n"
   ]
  },
  {
   "cell_type": "code",
   "execution_count": null,
   "metadata": {},
   "outputs": [],
   "source": [
    "from statistics import median\n",
    "\n",
    "\n",
    "def complete_line(line: str, pairs: dict = pairs) -> str:\n",
    "    expected = []\n",
    "    for character in line:\n",
    "        if character in pairs:\n",
    "            expected.append(pairs[character])\n",
    "        elif character == expected.pop():\n",
    "            pass\n",
    "        else:\n",
    "            # Error found!\n",
    "            raise ValueError()\n",
    "    expected.reverse()\n",
    "    return \"\".join(expected)\n",
    "\n",
    "\n",
    "def score_completion(completion: str) -> int:\n",
    "    scores = {\n",
    "        \")\": 1,\n",
    "        \"]\": 2,\n",
    "        \"}\": 3,\n",
    "        \">\": 4,\n",
    "    }\n",
    "    total = 0\n",
    "    for character in completion:\n",
    "        total *= 5\n",
    "        total += scores[character]\n",
    "    return total\n",
    "\n",
    "\n",
    "def complete_lines(lines: list[str]) -> int:\n",
    "    results = []\n",
    "    for line in lines:\n",
    "        results.append(complete_line(line))\n",
    "    result_scores = [score_completion(result) for result in results]\n",
    "    return median(result_scores)\n"
   ]
  },
  {
   "cell_type": "code",
   "execution_count": null,
   "metadata": {},
   "outputs": [],
   "source": [
    "assert complete_lines(test_lines[:1]) == test_answer_2\n",
    "complete_lines(lines)\n"
   ]
  },
  {
   "cell_type": "code",
   "execution_count": null,
   "metadata": {},
   "outputs": [],
   "source": []
  }
 ],
 "metadata": {
  "interpreter": {
   "hash": "f55019471d8c7990b4811b8d274212ff300a811828c03b53e2c14451c3d668a7"
  },
  "kernelspec": {
   "display_name": "Python 3.9.6 64-bit ('tinkering': pyenv)",
   "language": "python",
   "name": "python3"
  },
  "language_info": {
   "codemirror_mode": {
    "name": "ipython",
    "version": 3
   },
   "file_extension": ".py",
   "mimetype": "text/x-python",
   "name": "python",
   "nbconvert_exporter": "python",
   "pygments_lexer": "ipython3",
   "version": "3.9.6"
  },
  "orig_nbformat": 4
 },
 "nbformat": 4,
 "nbformat_minor": 2
}
