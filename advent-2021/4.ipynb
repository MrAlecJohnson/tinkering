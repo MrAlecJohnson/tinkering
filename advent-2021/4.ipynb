{
 "cells": [
  {
   "cell_type": "markdown",
   "metadata": {},
   "source": [
    "# Day 4\n",
    "\n",
    "## Imports and data loading"
   ]
  },
  {
   "cell_type": "code",
   "execution_count": null,
   "metadata": {},
   "outputs": [],
   "source": [
    "from utils import get_input, load_data\n",
    "\n",
    "day = 4\n"
   ]
  },
  {
   "cell_type": "code",
   "execution_count": null,
   "metadata": {},
   "outputs": [],
   "source": [
    "get_input(day)\n"
   ]
  },
  {
   "cell_type": "code",
   "execution_count": null,
   "metadata": {},
   "outputs": [],
   "source": [
    "data = load_data(day, list_type=\"none\", number=False)\n",
    "test_data = \"\"\"7,4,9,5,11,17,23,2,0,14,21,24,10,16,13,6,15,25,12,22,18,20,8,19,3,26,1\n",
    "\n",
    "22 13 17 11  0\n",
    " 8  2 23  4 24\n",
    "21  9 14 16  7\n",
    " 6 10  3 18  5\n",
    " 1 12 20 15 19\n",
    "\n",
    " 3 15  0  2 22\n",
    " 9 18 13 17  5\n",
    "19  8  7 25 23\n",
    "20 11 10 24  4\n",
    "14 21 16 12  6\n",
    "\n",
    "14 21 17 24  4\n",
    "10 16 15  9 19\n",
    "18  8 23 26 20\n",
    "22 11 13  6  5\n",
    " 2  0 12  3  7\"\"\"\n",
    "test_answer_1 = 4512\n",
    "test_answer_2 = 1924\n"
   ]
  },
  {
   "cell_type": "markdown",
   "metadata": {},
   "source": [
    "## Prepare boards"
   ]
  },
  {
   "cell_type": "code",
   "execution_count": null,
   "metadata": {},
   "outputs": [],
   "source": [
    "class Board:\n",
    "    def __init__(self, text_input: str):\n",
    "        # Create board\n",
    "        self.layout = [\n",
    "            [int(num) for num in row.strip().split(\" \") if num]\n",
    "            for row in text_input.split(\"\\n\")\n",
    "        ]\n",
    "\n",
    "        # Check input\n",
    "        if len(self.layout) != 5:\n",
    "            raise ValueError(\n",
    "                f\"Board {self.position} has {len(self.layout)} rows instead of 5\"\n",
    "            )\n",
    "        for row in self.layout:\n",
    "            if len(row) != 5:\n",
    "                raise ValueError(f\"Row {row} doesn't have 5 numbers\")\n",
    "\n",
    "        # Create winning lists\n",
    "        self.winners = [set(row) for row in self.layout] + [\n",
    "            {r[i] for r in self.layout} for i in range(5)\n",
    "        ]\n",
    "\n",
    "        # Create unmarked list\n",
    "        self.unmarked = set()\n",
    "        for row in self.layout:\n",
    "            self.unmarked.update(row)\n",
    "\n",
    "        # For part 2\n",
    "        self.won = False\n",
    "\n",
    "    def mark(self, num):\n",
    "        \"\"\"Tick off a number from a board and change winning status if relevant.\"\"\"\n",
    "        self.unmarked.discard(num)\n",
    "        for w in self.winners:\n",
    "            w.discard(num)\n",
    "            if not w:\n",
    "                self.won = True\n",
    "\n",
    "    def score(self, num):\n",
    "        \"\"\"Add up unmarked numbers and multiply by current number\"\"\"\n",
    "        return sum(self.unmarked) * num\n",
    "\n",
    "    def __repr__(self):\n",
    "        \"\"\"Print the board in a vaguely readable way\"\"\"\n",
    "        rows = [\" \".join([str(r).rjust(2) for r in row]) for row in self.layout]\n",
    "        return \"\\n\".join(rows)\n",
    "\n",
    "\n",
    "def create_boards(text_input):\n",
    "    \"\"\"Turn input data into list of numbers and list of boards\"\"\"\n",
    "    numbers, _, boards = text_input.partition(\"\\n\\n\")\n",
    "    numbers = [int(num) for num in numbers.split(\",\")]\n",
    "    boards = [Board(board.strip()) for board in boards.split(\"\\n\\n\")]\n",
    "    return numbers, boards\n",
    "\n",
    "\n",
    "test_numbers, test_boards = create_boards(test_data)\n",
    "assert len(test_boards) == 3\n",
    "numbers, boards = create_boards(data)\n"
   ]
  },
  {
   "cell_type": "markdown",
   "metadata": {},
   "source": [
    "## Part one"
   ]
  },
  {
   "cell_type": "code",
   "execution_count": null,
   "metadata": {},
   "outputs": [],
   "source": [
    "def find_winner(called_numbers: list, boards: list) -> int:\n",
    "    \"\"\"Go through a list of numbers till a board wins.\"\"\"\n",
    "    for num in called_numbers:\n",
    "        for board in boards:\n",
    "            board.mark(num)\n",
    "            if board.won:\n",
    "                return board.score(num)\n",
    "\n",
    "\n",
    "assert find_winner(test_numbers, test_boards) == test_answer_1\n",
    "find_winner(numbers, boards)\n"
   ]
  },
  {
   "cell_type": "markdown",
   "metadata": {},
   "source": [
    "## Part two"
   ]
  },
  {
   "cell_type": "code",
   "execution_count": null,
   "metadata": {},
   "outputs": [],
   "source": [
    "test_numbers, test_boards = create_boards(test_data)\n",
    "numbers, boards = create_boards(data)\n",
    "\n",
    "\n",
    "def find_loser(called_numbers: list, boards: list) -> int:\n",
    "    \"\"\"Call numbers, dropping boards when they win, and return score of last winner.\"\"\"\n",
    "    to_check = boards.copy()\n",
    "    for num in called_numbers:\n",
    "        for board in to_check:\n",
    "            board.mark(num)\n",
    "\n",
    "        if len(to_check) == 1 and to_check[0].won:\n",
    "            # Return if the last board has won\n",
    "            return to_check[0].score(num)\n",
    "        else:\n",
    "            # Otherwise drop the boards that have won so far\n",
    "            to_check = [board for board in to_check if not board.won]\n",
    "\n",
    "\n",
    "assert test_answer_2 == find_loser(test_numbers, test_boards)\n",
    "\n",
    "find_loser(numbers, boards)\n"
   ]
  },
  {
   "cell_type": "code",
   "execution_count": null,
   "metadata": {},
   "outputs": [],
   "source": []
  }
 ],
 "metadata": {
  "interpreter": {
   "hash": "f55019471d8c7990b4811b8d274212ff300a811828c03b53e2c14451c3d668a7"
  },
  "kernelspec": {
   "display_name": "Python 3.9.6 64-bit ('tinkering': pyenv)",
   "language": "python",
   "name": "python3"
  },
  "language_info": {
   "codemirror_mode": {
    "name": "ipython",
    "version": 3
   },
   "file_extension": ".py",
   "mimetype": "text/x-python",
   "name": "python",
   "nbconvert_exporter": "python",
   "pygments_lexer": "ipython3",
   "version": "3.9.6"
  },
  "orig_nbformat": 4
 },
 "nbformat": 4,
 "nbformat_minor": 2
}
