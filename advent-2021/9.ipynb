{
 "cells": [
  {
   "cell_type": "markdown",
   "metadata": {},
   "source": [
    "# Day 9\n",
    "\n",
    "## Imports and data loading"
   ]
  },
  {
   "cell_type": "code",
   "execution_count": 65,
   "metadata": {},
   "outputs": [],
   "source": [
    "from math import prod\n",
    "\n",
    "from utils import get_input, load_data\n",
    "\n",
    "day = 9\n"
   ]
  },
  {
   "cell_type": "code",
   "execution_count": 2,
   "metadata": {},
   "outputs": [
    {
     "name": "stdout",
     "output_type": "stream",
     "text": [
      "Data saved\n"
     ]
    }
   ],
   "source": [
    "get_input(day)\n"
   ]
  },
  {
   "cell_type": "code",
   "execution_count": 2,
   "metadata": {},
   "outputs": [],
   "source": [
    "data = load_data(day, list_type=\"line\", number=False)\n",
    "test_data = [\n",
    "    \"2199943210\",\n",
    "    \"3987894921\",\n",
    "    \"9856789892\",\n",
    "    \"8767896789\",\n",
    "    \"9899965678\",\n",
    "]\n",
    "test_answer_1 = 15\n",
    "test_answer_2 = 1134\n"
   ]
  },
  {
   "cell_type": "markdown",
   "metadata": {},
   "source": [
    "## Part one"
   ]
  },
  {
   "cell_type": "code",
   "execution_count": 66,
   "metadata": {},
   "outputs": [],
   "source": [
    "class Grid:\n",
    "    def __init__(self, input_rows):\n",
    "        self.neighbours = [(-1, 0), (1, 0), (0, -1), (0, 1)]\n",
    "        self.rows = [[int(i) for i in row] for row in input_rows]\n",
    "        self.grid = {}\n",
    "        for y, row in enumerate(self.rows):\n",
    "            for x, point in enumerate(row):\n",
    "                self.grid[(x, y)] = point\n",
    "        self.low_points = self._find_low_points()\n",
    "\n",
    "    def __repr__(self):\n",
    "        rows = [\"\".join([str(r) for r in row]) for row in self.rows]\n",
    "        return \"\\n\".join(rows)\n",
    "\n",
    "    def point(self, x, y):\n",
    "        return self.grid[(x, y)]\n",
    "\n",
    "    def get_neighbours(self, x, y):\n",
    "        return [\n",
    "            self.grid[(x + neighbour_x, y + neighbour_y)]\n",
    "            for neighbour_x, neighbour_y in self.neighbours\n",
    "            if (x + neighbour_x, y + neighbour_y) in self.grid\n",
    "        ]\n",
    "\n",
    "    def is_low_point(self, x, y):\n",
    "        point = self.rows[y][x]\n",
    "        neighbours = self.get_neighbours(x, y)\n",
    "        return all(point < n for n in neighbours)\n",
    "\n",
    "    def add_low_points(self):\n",
    "        \"\"\"Note that this adds 1 to each low point to match the question text.\"\"\"\n",
    "        return sum([(point + 1) for point in self.low_points.values()])\n",
    "\n",
    "    def _find_low_points(self):\n",
    "        points = {}\n",
    "        for y, row in enumerate(self.rows):\n",
    "            for x, point in enumerate(row):\n",
    "                if self.is_low_point(x, y):\n",
    "                    points[(x, y)] = point\n",
    "        return points\n",
    "\n",
    "    def explore_basin(self, x, y, so_far=None):\n",
    "        \"\"\"Get set of points in basin starting from a given low point.\"\"\"\n",
    "        if not so_far:\n",
    "            so_far = {(x, y)}\n",
    "        neighbours = {\n",
    "            (x + neighbour_x, y + neighbour_y)\n",
    "            for neighbour_x, neighbour_y in self.neighbours\n",
    "            if self.grid.get((x + neighbour_x, y + neighbour_y), 9) < 9\n",
    "            and (x + neighbour_x, y + neighbour_y) not in so_far\n",
    "        }\n",
    "        if neighbours.issubset(so_far):\n",
    "            return so_far\n",
    "        else:\n",
    "            so_far.update(neighbours)\n",
    "            for a, b in neighbours:\n",
    "                so_far.update(self.explore_basin(a, b, so_far))\n",
    "        return so_far\n",
    "\n",
    "    def measure_basin(self, x, y):\n",
    "        return len(self.explore_basin(x, y))\n",
    "\n",
    "    def multiply_biggest_basins(self):\n",
    "        basin_sizes = [self.measure_basin(x, y) for x, y in self.low_points]\n",
    "        return prod(sorted(basin_sizes, reverse=True)[0:3])\n"
   ]
  },
  {
   "cell_type": "code",
   "execution_count": 67,
   "metadata": {},
   "outputs": [
    {
     "data": {
      "text/plain": [
       "506"
      ]
     },
     "execution_count": 67,
     "metadata": {},
     "output_type": "execute_result"
    }
   ],
   "source": [
    "test_grid = Grid(test_data)\n",
    "assert test_grid.add_low_points() == test_answer_1\n",
    "grid = Grid(data)\n",
    "grid.add_low_points()\n"
   ]
  },
  {
   "cell_type": "markdown",
   "metadata": {},
   "source": [
    "## Part two"
   ]
  },
  {
   "cell_type": "code",
   "execution_count": 68,
   "metadata": {},
   "outputs": [
    {
     "data": {
      "text/plain": [
       "931200"
      ]
     },
     "execution_count": 68,
     "metadata": {},
     "output_type": "execute_result"
    }
   ],
   "source": [
    "assert test_grid.multiply_biggest_basins() == test_answer_2\n",
    "grid.multiply_biggest_basins()\n"
   ]
  },
  {
   "cell_type": "code",
   "execution_count": null,
   "metadata": {},
   "outputs": [],
   "source": []
  }
 ],
 "metadata": {
  "interpreter": {
   "hash": "f55019471d8c7990b4811b8d274212ff300a811828c03b53e2c14451c3d668a7"
  },
  "kernelspec": {
   "display_name": "Python 3.9.6 64-bit ('tinkering': pyenv)",
   "language": "python",
   "name": "python3"
  },
  "language_info": {
   "codemirror_mode": {
    "name": "ipython",
    "version": 3
   },
   "file_extension": ".py",
   "mimetype": "text/x-python",
   "name": "python",
   "nbconvert_exporter": "python",
   "pygments_lexer": "ipython3",
   "version": "3.9.6"
  },
  "orig_nbformat": 4
 },
 "nbformat": 4,
 "nbformat_minor": 2
}
