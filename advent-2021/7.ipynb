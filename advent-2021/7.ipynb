{
 "cells": [
  {
   "cell_type": "markdown",
   "metadata": {},
   "source": [
    "# Day 1\n",
    "\n",
    "## Imports and data loading"
   ]
  },
  {
   "cell_type": "code",
   "execution_count": null,
   "metadata": {},
   "outputs": [],
   "source": [
    "from utils import get_input, load_data\n",
    "\n",
    "day = 7\n"
   ]
  },
  {
   "cell_type": "code",
   "execution_count": null,
   "metadata": {},
   "outputs": [],
   "source": [
    "get_input(day)\n"
   ]
  },
  {
   "cell_type": "code",
   "execution_count": null,
   "metadata": {},
   "outputs": [],
   "source": [
    "data = load_data(day, list_type=\"comma\", number=True)\n",
    "test_data = [16, 1, 2, 0, 4, 2, 7, 1, 2, 14]\n",
    "test_answer_1 = 37\n",
    "test_answer_2 = 168\n"
   ]
  },
  {
   "cell_type": "markdown",
   "metadata": {},
   "source": [
    "## Part one"
   ]
  },
  {
   "cell_type": "code",
   "execution_count": null,
   "metadata": {},
   "outputs": [],
   "source": [
    "# Is it just the median?\n",
    "from statistics import median\n",
    "\n",
    "\n",
    "def lowest_cost_flat(positions: list) -> int:\n",
    "    \"\"\"Minimum total cost to get everyone in same place if cost is 1 per move.\"\"\"\n",
    "    middle = median(positions)\n",
    "    return sum([abs(middle - x) for x in positions])\n",
    "\n",
    "\n",
    "assert lowest_cost_flat(test_data) == test_answer_1\n",
    "lowest_cost_flat(data)\n"
   ]
  },
  {
   "cell_type": "markdown",
   "metadata": {},
   "source": [
    "## Part two"
   ]
  },
  {
   "cell_type": "code",
   "execution_count": null,
   "metadata": {},
   "outputs": [],
   "source": [
    "from collections import Counter\n",
    "from statistics import mean\n",
    "from math import ceil, floor\n",
    "\n",
    "# Not sure of the maths here\n",
    "# I feel like it might be the mean\n",
    "def cost(num: int, target: int) -> int:\n",
    "    \"\"\"Cost for num to reach target using triangular numbers.\"\"\"\n",
    "    distance = abs(target - num)\n",
    "    return round(0.5 * distance * (distance + 1))\n",
    "\n",
    "\n",
    "def total_cost(positions: list, target: int) -> int:\n",
    "    \"\"\"Minimum total cost to get everyone in positions to the target value.\"\"\"\n",
    "    as_dict = Counter(positions)\n",
    "    return sum([value * cost(key, target) for key, value in as_dict.items()])\n",
    "\n",
    "\n",
    "def optimise_cost(positions: list) -> int:\n",
    "    \"\"\"Find the lowest possible cost to get everyone in list to the same position.\"\"\"\n",
    "    # Start at mean - but which way to round?\n",
    "    target = mean(positions)\n",
    "    targets = [ceil(target), floor(target)]\n",
    "    return min([total_cost(positions, t) for t in targets])\n"
   ]
  },
  {
   "cell_type": "code",
   "execution_count": null,
   "metadata": {},
   "outputs": [],
   "source": [
    "assert optimise_cost(test_data) == test_answer_2\n",
    "print(optimise_cost(data))\n"
   ]
  },
  {
   "cell_type": "code",
   "execution_count": null,
   "metadata": {},
   "outputs": [],
   "source": []
  }
 ],
 "metadata": {
  "interpreter": {
   "hash": "f55019471d8c7990b4811b8d274212ff300a811828c03b53e2c14451c3d668a7"
  },
  "kernelspec": {
   "display_name": "Python 3.9.6 64-bit ('tinkering': pyenv)",
   "language": "python",
   "name": "python3"
  },
  "language_info": {
   "codemirror_mode": {
    "name": "ipython",
    "version": 3
   },
   "file_extension": ".py",
   "mimetype": "text/x-python",
   "name": "python",
   "nbconvert_exporter": "python",
   "pygments_lexer": "ipython3",
   "version": "3.9.6"
  },
  "orig_nbformat": 4
 },
 "nbformat": 4,
 "nbformat_minor": 2
}
