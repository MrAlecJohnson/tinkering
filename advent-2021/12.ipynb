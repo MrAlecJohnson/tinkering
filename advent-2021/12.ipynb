{
 "cells": [
  {
   "cell_type": "markdown",
   "metadata": {},
   "source": [
    "# Day 12\n",
    "\n",
    "## Imports and data loading"
   ]
  },
  {
   "cell_type": "code",
   "execution_count": null,
   "metadata": {},
   "outputs": [],
   "source": [
    "from utils import get_input, load_data\n",
    "\n",
    "day = 12\n"
   ]
  },
  {
   "cell_type": "code",
   "execution_count": null,
   "metadata": {},
   "outputs": [],
   "source": [
    "get_input(day)\n"
   ]
  },
  {
   "cell_type": "code",
   "execution_count": null,
   "metadata": {},
   "outputs": [],
   "source": [
    "data = load_data(day, list_type=\"line\", number=False)\n",
    "test_data_a = [\n",
    "    \"start-A\",\n",
    "    \"start-b\",\n",
    "    \"A-c\",\n",
    "    \"A-b\",\n",
    "    \"b-d\",\n",
    "    \"A-end\",\n",
    "    \"b-end\",\n",
    "]\n",
    "test_data_b = [\n",
    "    \"dc-end\",\n",
    "    \"HN-start\",\n",
    "    \"start-kj\",\n",
    "    \"dc-start\",\n",
    "    \"dc-HN\",\n",
    "    \"LN-dc\",\n",
    "    \"HN-end\",\n",
    "    \"kj-sa\",\n",
    "    \"kj-HN\",\n",
    "    \"kj-dc\",\n",
    "]\n",
    "test_data_c = [\n",
    "    \"fs-end\",\n",
    "    \"he-DX\",\n",
    "    \"fs-he\",\n",
    "    \"start-DX\",\n",
    "    \"pj-DX\",\n",
    "    \"end-zg\",\n",
    "    \"zg-sl\",\n",
    "    \"zg-pj\",\n",
    "    \"pj-he\",\n",
    "    \"RW-he\",\n",
    "    \"fs-DX\",\n",
    "    \"pj-RW\",\n",
    "    \"zg-RW\",\n",
    "    \"start-pj\",\n",
    "    \"he-WI\",\n",
    "    \"zg-he\",\n",
    "    \"pj-fs\",\n",
    "    \"start-RW\",\n",
    "]\n",
    "test_answer_a = 10\n",
    "test_answer_b = 19\n",
    "test_answer_c = 226\n",
    "\n",
    "test_answer_2a = 36\n",
    "test_answer_2b = 103\n",
    "test_answer_2c = 3509\n"
   ]
  },
  {
   "cell_type": "markdown",
   "metadata": {},
   "source": [
    "## Part one"
   ]
  },
  {
   "cell_type": "code",
   "execution_count": 87,
   "metadata": {},
   "outputs": [],
   "source": [
    "from collections import Counter\n",
    "\n",
    "import networkx as nx\n",
    "\n",
    "\n",
    "class CaveGraph:\n",
    "    def __init__(self, data):\n",
    "        to_add = [edge.split(\"-\") for edge in data]\n",
    "        graph = nx.Graph()\n",
    "        graph.add_edges_from(to_add)\n",
    "        self.graph = graph\n",
    "        self.visited = set()\n",
    "        self.routes = []\n",
    "        self.repeat_routes = []\n",
    "\n",
    "    def traverse(self, route_so_far):\n",
    "        \"\"\"Traverse all routes from start to end with max 1 visit per lower case cave\n",
    "        \"\"\"\n",
    "        current = route_so_far[-1]\n",
    "        # Stop if you get to the end\n",
    "        if current == \"end\":\n",
    "            self.routes.append(route_so_far)\n",
    "            return\n",
    "\n",
    "        # Work out possible next directions by listing unvisited neighbour nodes\n",
    "        visited = {node for node in route_so_far if node.islower()}\n",
    "        directions = [node for node in self.graph[current] if node not in visited]\n",
    "        if directions:\n",
    "            for d in directions:\n",
    "                self.traverse(route_so_far + [d])\n",
    "        # Stop if no more directions to travel\n",
    "        else:\n",
    "            return\n",
    "\n",
    "    def traverse_with_repeats(self, route_so_far):\n",
    "        \"\"\"Traverse all routes from start to end, with 1 return visit allowed to 1 \n",
    "        lower-case cave.\n",
    "\n",
    "        If a route reaches the end, stop looking and add that route to the route list.\n",
    "        \"\"\"\n",
    "        current = route_so_far[-1]\n",
    "        # Stop if you get to the end\n",
    "        if current == \"end\":\n",
    "            self.repeat_routes.append(route_so_far)\n",
    "            return\n",
    "\n",
    "        # Count visits to lower case caves\n",
    "        visited = [node for node in route_so_far if node.islower()]\n",
    "        visited = Counter(visited)\n",
    "        # Check if there has already been a second visit to a lower-case cave\n",
    "        if visited.most_common(1)[0][1] > 1:\n",
    "            directions = [node for node in self.graph[current] if node not in visited]\n",
    "        else:\n",
    "            # If no second visits yet, allow all directions except \"start\"\n",
    "            directions = [node for node in self.graph[current]]\n",
    "            if \"start\" in directions:\n",
    "                directions.remove(\"start\")\n",
    "\n",
    "        if directions:\n",
    "            for d in directions:\n",
    "                self.traverse_with_repeats(route_so_far + [d])\n",
    "        # Stop if no more directions to travel\n",
    "        else:\n",
    "            return\n",
    "\n",
    "    def count_routes(self):\n",
    "        \"\"\"All routes from start to end, allowing multiple visits to capital letter nodes.\"\"\"\n",
    "        self.traverse([\"start\"])\n",
    "        return len(self.routes)\n",
    "\n",
    "    def count_routes_with_repeats(self):\n",
    "        \"\"\"All routes from start to end, allowing multiple visits to capital letter nodes.\"\"\"\n",
    "        self.traverse_with_repeats([\"start\"])\n",
    "        return len(self.repeat_routes)\n"
   ]
  },
  {
   "cell_type": "code",
   "execution_count": 88,
   "metadata": {},
   "outputs": [
    {
     "name": "stdout",
     "output_type": "stream",
     "text": [
      "3779\n"
     ]
    }
   ],
   "source": [
    "test_cave_a = CaveGraph(test_data_a)\n",
    "assert test_cave_a.count_routes() == test_answer_a\n",
    "\n",
    "test_cave_b = CaveGraph(test_data_b)\n",
    "assert test_cave_b.count_routes() == test_answer_b\n",
    "\n",
    "test_cave_c = CaveGraph(test_data_c)\n",
    "assert test_cave_c.count_routes() == test_answer_c\n",
    "\n",
    "cave = CaveGraph(data)\n",
    "print(cave.count_routes())\n"
   ]
  },
  {
   "cell_type": "markdown",
   "metadata": {},
   "source": [
    "## Part two"
   ]
  },
  {
   "cell_type": "code",
   "execution_count": 89,
   "metadata": {},
   "outputs": [
    {
     "name": "stdout",
     "output_type": "stream",
     "text": [
      "96988\n"
     ]
    }
   ],
   "source": [
    "assert test_cave_a.count_routes_with_repeats() == test_answer_2a\n",
    "assert test_cave_b.count_routes_with_repeats() == test_answer_2b\n",
    "assert test_cave_c.count_routes_with_repeats() == test_answer_2c\n",
    "\n",
    "cave = CaveGraph(data)\n",
    "print(cave.count_routes_with_repeats())\n"
   ]
  },
  {
   "cell_type": "code",
   "execution_count": null,
   "metadata": {},
   "outputs": [],
   "source": []
  }
 ],
 "metadata": {
  "interpreter": {
   "hash": "f55019471d8c7990b4811b8d274212ff300a811828c03b53e2c14451c3d668a7"
  },
  "kernelspec": {
   "display_name": "Python 3.9.6 64-bit ('tinkering': pyenv)",
   "language": "python",
   "name": "python3"
  },
  "language_info": {
   "codemirror_mode": {
    "name": "ipython",
    "version": 3
   },
   "file_extension": ".py",
   "mimetype": "text/x-python",
   "name": "python",
   "nbconvert_exporter": "python",
   "pygments_lexer": "ipython3",
   "version": "3.9.6"
  },
  "orig_nbformat": 4
 },
 "nbformat": 4,
 "nbformat_minor": 2
}
