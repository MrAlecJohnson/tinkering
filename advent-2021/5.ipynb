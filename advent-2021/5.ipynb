{
 "cells": [
  {
   "cell_type": "markdown",
   "metadata": {},
   "source": [
    "# Day 5\n",
    "\n",
    "## Imports and data loading"
   ]
  },
  {
   "cell_type": "code",
   "execution_count": 1,
   "metadata": {},
   "outputs": [],
   "source": [
    "from utils import get_input, load_data\n",
    "day = 5"
   ]
  },
  {
   "cell_type": "code",
   "execution_count": 2,
   "metadata": {},
   "outputs": [
    {
     "name": "stdout",
     "output_type": "stream",
     "text": [
      "Data saved\n"
     ]
    }
   ],
   "source": [
    "get_input(day)"
   ]
  },
  {
   "cell_type": "code",
   "execution_count": 5,
   "metadata": {},
   "outputs": [],
   "source": [
    "data = load_data(day, as_list=True, number=False)\n",
    "test_data = [\n",
    "    \"0,9 -> 5,9\",\n",
    "    \"8,0 -> 0,8\",\n",
    "    \"9,4 -> 3,4\",\n",
    "    \"2,2 -> 2,1\",\n",
    "    \"7,0 -> 7,4\",\n",
    "    \"6,4 -> 2,0\",\n",
    "    \"0,9 -> 2,9\",\n",
    "    \"3,4 -> 1,4\",\n",
    "    \"0,0 -> 8,8\",\n",
    "    \"5,5 -> 8,2\",\n",
    "]\n",
    "test_answer_1 = 5\n",
    "test_answer_2 = 12"
   ]
  },
  {
   "cell_type": "markdown",
   "metadata": {},
   "source": [
    "## Part one"
   ]
  },
  {
   "cell_type": "code",
   "execution_count": 27,
   "metadata": {},
   "outputs": [],
   "source": [
    "# Make each entry into a list of coordinate tuples\n",
    "# Then counter them\n",
    "from collections import Counter\n",
    "import re\n",
    "\n",
    "def list_coordinates(input_list: list, include_diagonal: bool = False) -> list:\n",
    "    \"\"\"Turn list of strings into list of coordinate tuples\"\"\"\n",
    "    results = []\n",
    "    for text in input_list:\n",
    "        coordinates = []\n",
    "        x_start, y_start, x_end, y_end = [int(num) for num in re.findall(\"\\d+\", text)]\n",
    "        # Sometimes the first coordinate has the bigger numbers - if so, swap them\n",
    "        x_low, x_high = min(x_start, x_end), max(x_start, x_end)\n",
    "        y_low, y_high = min(y_start, y_end), max(y_start, y_end)\n",
    "\n",
    "        # Vertical\n",
    "        if x_start == x_end and y_start != y_end:\n",
    "            coordinates = [(x_low, y) for y in range(y_low, y_high+1)]\n",
    "        # Horizontal\n",
    "        elif y_start == y_end and x_start != x_end:\n",
    "            coordinates = [(x, y_low) for x in range(x_low, x_high+1)]\n",
    "        # Exactly diagonal\n",
    "        elif include_diagonal and (y_high - y_low) == (x_high - x_low):\n",
    "            if x_low == x_start:\n",
    "                x_range = range(x_low, x_high + 1)\n",
    "            else:\n",
    "                x_range = range(x_high, x_low - 1, -1)\n",
    "            \n",
    "            if y_low == y_start:\n",
    "                y_range = range(y_low, y_high + 1)\n",
    "            else:\n",
    "                y_range = range(y_high, y_low - 1, -1)\n",
    "\n",
    "            coordinates = list(zip(x_range, y_range))\n",
    "        # Ignore anything else\n",
    "        else:\n",
    "            pass\n",
    "\n",
    "        results.extend(coordinates)\n",
    "\n",
    "    return results\n",
    "\n",
    "\n",
    "def repeated_coordinates(coordinates: list) -> int:\n",
    "    \"\"\"Count number of coordinates that appear more than once.\"\"\"\n",
    "    counts = Counter(coordinates)\n",
    "    return len([coord for coord, count in counts.most_common() if count >1])\n",
    "\n",
    "def answer_part_one(data):\n",
    "    coordinates = list_coordinates(data)\n",
    "    return repeated_coordinates(coordinates)\n",
    "\n",
    "def answer_part_two(data):\n",
    "    coordinates = list_coordinates(data, include_diagonal=True)\n",
    "    return repeated_coordinates(coordinates)\n",
    "\n",
    "def print_test_board(coordinates: list) -> None:\n",
    "    counts = Counter(coordinates)\n",
    "    for y in range(10):\n",
    "        for x in range(10):\n",
    "            print(counts[(x, y)], end=\" \")\n",
    "        print()\n",
    "    print()"
   ]
  },
  {
   "cell_type": "code",
   "execution_count": null,
   "metadata": {},
   "outputs": [],
   "source": [
    "assert answer_part_one(test_data) == test_answer_1\n",
    "answer_part_one(data)\n"
   ]
  },
  {
   "cell_type": "markdown",
   "metadata": {},
   "source": [
    "## Part two"
   ]
  },
  {
   "cell_type": "code",
   "execution_count": 28,
   "metadata": {},
   "outputs": [
    {
     "name": "stdout",
     "output_type": "stream",
     "text": [
      "1 0 1 0 0 0 0 1 1 0 \n",
      "0 1 1 1 0 0 0 2 0 0 \n",
      "0 0 2 0 1 0 1 1 1 0 \n",
      "0 0 0 1 0 2 0 2 0 0 \n",
      "0 1 1 2 3 1 3 2 1 1 \n",
      "0 0 0 1 0 2 0 0 0 0 \n",
      "0 0 1 0 0 0 1 0 0 0 \n",
      "0 1 0 0 0 0 0 1 0 0 \n",
      "1 0 0 0 0 0 0 0 1 0 \n",
      "2 2 2 1 1 1 0 0 0 0 \n",
      "\n"
     ]
    }
   ],
   "source": [
    "coords = list_coordinates(test_data, include_diagonal=True)\n",
    "print_test_board(coords)"
   ]
  },
  {
   "cell_type": "code",
   "execution_count": 29,
   "metadata": {},
   "outputs": [
    {
     "data": {
      "text/plain": [
       "16793"
      ]
     },
     "execution_count": 29,
     "metadata": {},
     "output_type": "execute_result"
    }
   ],
   "source": [
    "assert answer_part_two(test_data) == test_answer_2\n",
    "answer_part_two(data)"
   ]
  },
  {
   "cell_type": "code",
   "execution_count": null,
   "metadata": {},
   "outputs": [],
   "source": []
  }
 ],
 "metadata": {
  "interpreter": {
   "hash": "f55019471d8c7990b4811b8d274212ff300a811828c03b53e2c14451c3d668a7"
  },
  "kernelspec": {
   "display_name": "Python 3.9.6 64-bit ('tinkering': pyenv)",
   "language": "python",
   "name": "python3"
  },
  "language_info": {
   "codemirror_mode": {
    "name": "ipython",
    "version": 3
   },
   "file_extension": ".py",
   "mimetype": "text/x-python",
   "name": "python",
   "nbconvert_exporter": "python",
   "pygments_lexer": "ipython3",
   "version": "3.9.6"
  },
  "orig_nbformat": 4
 },
 "nbformat": 4,
 "nbformat_minor": 2
}
