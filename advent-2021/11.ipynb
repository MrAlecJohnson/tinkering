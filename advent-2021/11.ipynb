{
 "cells": [
  {
   "cell_type": "markdown",
   "metadata": {},
   "source": [
    "# Day 11\n",
    "\n",
    "## Imports and data loading"
   ]
  },
  {
   "cell_type": "code",
   "execution_count": null,
   "metadata": {},
   "outputs": [],
   "source": [
    "from utils import get_input, load_data\n",
    "\n",
    "day = 11\n"
   ]
  },
  {
   "cell_type": "code",
   "execution_count": null,
   "metadata": {},
   "outputs": [],
   "source": [
    "get_input(day)\n"
   ]
  },
  {
   "cell_type": "code",
   "execution_count": null,
   "metadata": {},
   "outputs": [],
   "source": [
    "data = load_data(day, list_type=\"line\", number=False)\n",
    "test_data = [\n",
    "    \"5483143223\",\n",
    "    \"2745854711\",\n",
    "    \"5264556173\",\n",
    "    \"6141336146\",\n",
    "    \"6357385478\",\n",
    "    \"4167524645\",\n",
    "    \"2176841721\",\n",
    "    \"6882881134\",\n",
    "    \"4846848554\",\n",
    "    \"5283751526\",\n",
    "]\n",
    "test_answer_1 = 1656\n",
    "test_answer_2 = 195\n"
   ]
  },
  {
   "cell_type": "markdown",
   "metadata": {},
   "source": [
    "## Part one"
   ]
  },
  {
   "cell_type": "code",
   "execution_count": null,
   "metadata": {},
   "outputs": [],
   "source": [
    "# Let's try this with numpy\n",
    "import numpy as np\n",
    "\n",
    "\n",
    "class Cave:\n",
    "    def __init__(self, data):\n",
    "        \"\"\"Create an array of arrays from the data, plus a 10x10 matrix of False.\"\"\"\n",
    "        self.matrix = np.array([[int(i) for i in row] for row in data])\n",
    "        self.flash_matrix = np.zeros((10, 10), dtype=bool)\n",
    "        self.flash_count = 0\n",
    "        self.time = 0\n",
    "        self.all_flash = None\n",
    "\n",
    "    def __repr__(self):\n",
    "        \"\"\"Print the arrays out neatly\"\"\"\n",
    "        rows = [\"\".join([str(r).rjust(3, \" \") for r in row]) for row in self.matrix]\n",
    "        return \"\\n\".join(rows)\n",
    "\n",
    "    def step(self):\n",
    "        \"\"\"Increase values by 1, increase neighbours over 9, count flashes and reset.\"\"\"\n",
    "        self.matrix += 1\n",
    "        # Run the iterative routine to look for elements over 9 and increase neighbours\n",
    "        self.increase()\n",
    "        # Flash and reset everything over 9\n",
    "        self.flash()\n",
    "        self.time += 1\n",
    "        # For part 2 - flag if the whole matrix has been reset to 0\n",
    "        if np.array_equal(self.matrix, np.zeros((10, 10))):\n",
    "            self.all_flash = self.time\n",
    "\n",
    "    def flash(self):\n",
    "        \"\"\"Count number of elements over 9, then reset them to 0.\"\"\"\n",
    "        self.flash_count += np.count_nonzero(self.matrix > 9)\n",
    "        self.matrix[self.matrix > 9] = 0\n",
    "\n",
    "    def increase_neighbours(self, y, x):\n",
    "        \"\"\"Keep (y, x) the same but increase its 8 neighbours by 1.\"\"\"\n",
    "        # Use mins and maxes to adjust for matrix edges\n",
    "        self.matrix[max(y - 1, 0) : min(y + 2, 10), max(x - 1, 0) : min(x + 2, 10)] += 1\n",
    "        # Previous line also increases (y, x), so this one reduces it again\n",
    "        self.matrix[y, x] -= 1\n",
    "        # Note that this element has flashed\n",
    "        self.flash_matrix[y, x] = True\n",
    "\n",
    "    def increase(self):\n",
    "        \"\"\"increase_neighbours on anything over 9, and continue until no more to flash.\"\"\"\n",
    "        # Continue until all the elements over 9 have already flashed\n",
    "        while (self.matrix > 9).sum() - self.flash_matrix[self.matrix > 9].sum() > 0:\n",
    "            # Set up an iterator that allows writing back to the matrix\n",
    "            iter = np.nditer(self.matrix, flags=[\"multi_index\"], op_flags=[\"readwrite\"])\n",
    "            for point in iter:\n",
    "                if (\n",
    "                    # Only flash if that element hasn't already flashed\n",
    "                    point > 9\n",
    "                    and not self.flash_matrix[iter.multi_index[0], iter.multi_index[1]]\n",
    "                ):\n",
    "                    self.increase_neighbours(iter.multi_index[0], iter.multi_index[1])\n",
    "        # Remember to reset the flash_matrix after each step\n",
    "        self.flash_matrix = np.zeros((10, 10), dtype=bool)\n"
   ]
  },
  {
   "cell_type": "code",
   "execution_count": null,
   "metadata": {},
   "outputs": [],
   "source": [
    "test_cave = Cave(test_data)\n",
    "cave = Cave(data)\n",
    "for i in range(100):\n",
    "    test_cave.step()\n",
    "    cave.step()\n",
    "assert test_cave.flash_count == test_answer_1\n",
    "\n",
    "cave.flash_count\n"
   ]
  },
  {
   "cell_type": "markdown",
   "metadata": {},
   "source": [
    "## Part two"
   ]
  },
  {
   "cell_type": "code",
   "execution_count": null,
   "metadata": {},
   "outputs": [],
   "source": [
    "test_cave = Cave(test_data)\n",
    "cave = Cave(data)\n",
    "\n",
    "while not test_cave.all_flash:\n",
    "    test_cave.step()\n",
    "\n",
    "assert test_cave.all_flash == test_answer_2\n",
    "\n",
    "while not cave.all_flash:\n",
    "    cave.step()\n",
    "\n",
    "print(cave.all_flash)\n"
   ]
  },
  {
   "cell_type": "code",
   "execution_count": null,
   "metadata": {},
   "outputs": [],
   "source": []
  }
 ],
 "metadata": {
  "interpreter": {
   "hash": "f55019471d8c7990b4811b8d274212ff300a811828c03b53e2c14451c3d668a7"
  },
  "kernelspec": {
   "display_name": "Python 3.9.6 64-bit ('tinkering': pyenv)",
   "language": "python",
   "name": "python3"
  },
  "language_info": {
   "codemirror_mode": {
    "name": "ipython",
    "version": 3
   },
   "file_extension": ".py",
   "mimetype": "text/x-python",
   "name": "python",
   "nbconvert_exporter": "python",
   "pygments_lexer": "ipython3",
   "version": "3.9.6"
  },
  "orig_nbformat": 4
 },
 "nbformat": 4,
 "nbformat_minor": 2
}
