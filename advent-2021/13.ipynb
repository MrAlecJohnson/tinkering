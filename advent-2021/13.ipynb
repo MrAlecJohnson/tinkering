{
 "cells": [
  {
   "cell_type": "markdown",
   "metadata": {},
   "source": [
    "# Day 13\n",
    "\n",
    "## Imports and data loading"
   ]
  },
  {
   "cell_type": "code",
   "execution_count": null,
   "metadata": {},
   "outputs": [],
   "source": [
    "from utils import get_input, load_data\n",
    "\n",
    "day = 13\n"
   ]
  },
  {
   "cell_type": "code",
   "execution_count": null,
   "metadata": {},
   "outputs": [],
   "source": [
    "get_input(day)\n"
   ]
  },
  {
   "cell_type": "code",
   "execution_count": null,
   "metadata": {},
   "outputs": [],
   "source": [
    "data = load_data(day, list_type=\"line\", number=False)\n",
    "test_data = [\n",
    "    \"6,10\",\n",
    "    \"0,14\",\n",
    "    \"9,10\",\n",
    "    \"0,3\",\n",
    "    \"10,4\",\n",
    "    \"4,11\",\n",
    "    \"6,0\",\n",
    "    \"6,12\",\n",
    "    \"4,1\",\n",
    "    \"0,13\",\n",
    "    \"10,12\",\n",
    "    \"3,4\",\n",
    "    \"3,0\",\n",
    "    \"8,4\",\n",
    "    \"1,10\",\n",
    "    \"2,14\",\n",
    "    \"8,10\",\n",
    "    \"9,0\",\n",
    "    \"fold along y=7\",\n",
    "    \"fold along x=5\",\n",
    "]\n",
    "test_answer_1 = 17\n",
    "test_answer_2 = None\n"
   ]
  },
  {
   "cell_type": "markdown",
   "metadata": {},
   "source": [
    "## Part one"
   ]
  },
  {
   "cell_type": "code",
   "execution_count": null,
   "metadata": {},
   "outputs": [],
   "source": [
    "def organise_instructions(data):\n",
    "    \"\"\"Split the data into a list of points and a list of folds.\"\"\"\n",
    "    folds = [d.rsplit(\" \")[-1] for d in data if d and d.startswith(\"fold\")]\n",
    "    folds = [tuple(f.split(\"=\")) for f in folds]\n",
    "    points = [\n",
    "        tuple([int(s) for s in d.split(\",\")])\n",
    "        for d in data\n",
    "        if d and not d.startswith(\"fold\")\n",
    "    ]\n",
    "    return points, folds\n",
    "\n",
    "\n",
    "def fold_points(points, fold):\n",
    "    \"\"\"Make a fold by checking if it's y or x then adjusting the coordinates.\"\"\"\n",
    "    new_points = set()\n",
    "    fold_type = fold[0]\n",
    "    fold_pos = int(fold[1])\n",
    "    if fold_type == \"y\":\n",
    "        for point in points:\n",
    "            if point[1] > fold_pos:\n",
    "                new_points.add((point[0], 2 * fold_pos - point[1]))\n",
    "            else:\n",
    "                new_points.add(point)\n",
    "    elif fold_type == \"x\":\n",
    "        for point in points:\n",
    "            if point[0] > fold_pos:\n",
    "                new_points.add((2 * fold_pos - point[0], point[1]))\n",
    "            else:\n",
    "                new_points.add(point)\n",
    "    return new_points\n",
    "\n",
    "\n",
    "def fold_all(data):\n",
    "    \"\"\"Do all the folds in a list and return new coordinates.\"\"\"\n",
    "    points, folds = organise_instructions(data)\n",
    "    for fold in folds:\n",
    "        points = fold_points(points, fold)\n",
    "\n",
    "    return points\n",
    "\n",
    "\n",
    "def print_points(points):\n",
    "    \"\"\"Draw the results of folding, with _ for empty and O for marked points.\"\"\"\n",
    "    x_points = [point[0] for point in points]\n",
    "    y_points = [point[1] for point in points]\n",
    "    min_x = min(x_points)\n",
    "    min_y = min(y_points)\n",
    "    max_x = max(x_points)\n",
    "    max_y = max(y_points)\n",
    "\n",
    "    grid = [[\"_\" for x in range(min_x, max_x + 1)] for y in range(min_y, max_y + 1)]\n",
    "    for point in points:\n",
    "        select_y = point[1] - min_y\n",
    "        select_x = point[0] - min_x\n",
    "        grid[select_y][select_x] = \"O\"\n",
    "    for y in grid:\n",
    "        print(\"\\n\")\n",
    "        for x in y:\n",
    "            print(x, end=\" \")\n"
   ]
  },
  {
   "cell_type": "code",
   "execution_count": null,
   "metadata": {},
   "outputs": [],
   "source": [
    "test_points, test_folds = organise_instructions(test_data)\n",
    "assert len(fold_points(test_points, test_folds[0])) == test_answer_1\n",
    "\n",
    "points, folds = organise_instructions(data)\n",
    "len(fold_points(points, folds[0]))\n"
   ]
  },
  {
   "cell_type": "markdown",
   "metadata": {},
   "source": [
    "## Part two"
   ]
  },
  {
   "cell_type": "code",
   "execution_count": null,
   "metadata": {},
   "outputs": [],
   "source": [
    "test_points = fold_all(test_data)\n",
    "print_points(test_points)\n"
   ]
  },
  {
   "cell_type": "code",
   "execution_count": null,
   "metadata": {},
   "outputs": [],
   "source": [
    "part_two_points = fold_all(data)\n",
    "print_points(part_two_points)\n"
   ]
  },
  {
   "cell_type": "code",
   "execution_count": null,
   "metadata": {},
   "outputs": [],
   "source": []
  },
  {
   "cell_type": "code",
   "execution_count": null,
   "metadata": {},
   "outputs": [],
   "source": []
  }
 ],
 "metadata": {
  "interpreter": {
   "hash": "f55019471d8c7990b4811b8d274212ff300a811828c03b53e2c14451c3d668a7"
  },
  "kernelspec": {
   "display_name": "Python 3.9.6 64-bit ('tinkering': pyenv)",
   "language": "python",
   "name": "python3"
  },
  "language_info": {
   "codemirror_mode": {
    "name": "ipython",
    "version": 3
   },
   "file_extension": ".py",
   "mimetype": "text/x-python",
   "name": "python",
   "nbconvert_exporter": "python",
   "pygments_lexer": "ipython3",
   "version": "3.9.6"
  },
  "orig_nbformat": 4
 },
 "nbformat": 4,
 "nbformat_minor": 2
}
