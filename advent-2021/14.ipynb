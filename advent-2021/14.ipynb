{
 "cells": [
  {
   "cell_type": "markdown",
   "metadata": {},
   "source": [
    "# Day 1\n",
    "\n",
    "## Imports and data loading"
   ]
  },
  {
   "cell_type": "code",
   "execution_count": 2,
   "metadata": {},
   "outputs": [],
   "source": [
    "from typing import List, Tuple, Dict\n",
    "\n",
    "from utils import get_input, load_data\n",
    "\n",
    "day = 14\n"
   ]
  },
  {
   "cell_type": "code",
   "execution_count": 3,
   "metadata": {},
   "outputs": [
    {
     "name": "stdout",
     "output_type": "stream",
     "text": [
      "Data saved\n"
     ]
    }
   ],
   "source": [
    "get_input(day)\n"
   ]
  },
  {
   "cell_type": "code",
   "execution_count": 3,
   "metadata": {},
   "outputs": [],
   "source": [
    "data = load_data(day, list_type=\"line\", number=False)\n",
    "test_data = [\n",
    "    \"NNCB\",\n",
    "    \"\",\n",
    "    \"CH -> B\",\n",
    "    \"HH -> N\",\n",
    "    \"CB -> H\",\n",
    "    \"NH -> C\",\n",
    "    \"HB -> C\",\n",
    "    \"HC -> B\",\n",
    "    \"HN -> C\",\n",
    "    \"NN -> C\",\n",
    "    \"BH -> H\",\n",
    "    \"NC -> B\",\n",
    "    \"NB -> B\",\n",
    "    \"BN -> B\",\n",
    "    \"BB -> N\",\n",
    "    \"BC -> B\",\n",
    "    \"CC -> N\",\n",
    "    \"CN -> C\",\n",
    "]\n",
    "test_answer_1 = 1588\n",
    "test_answer_2 = 2188189693529\n"
   ]
  },
  {
   "cell_type": "markdown",
   "metadata": {},
   "source": [
    "## Part one"
   ]
  },
  {
   "cell_type": "code",
   "execution_count": 6,
   "metadata": {},
   "outputs": [],
   "source": [
    "from collections import Counter\n",
    "\n",
    "\n",
    "def organise_data(data: List[str]) -> Tuple[str, Dict[str, str]]:\n",
    "    \"\"\"Split data into starting string and dictionary of expansion rules.\"\"\"\n",
    "    start_string = data[0]\n",
    "    rules = {}\n",
    "    # Structure is always one line of input, then a blank line, then rules lines\n",
    "    for d in data[2:]:\n",
    "        divided = d.split(\" -> \")\n",
    "        rules[divided[0]] = divided[1]\n",
    "\n",
    "    return start_string, rules\n",
    "\n",
    "\n",
    "def step(start_string: str, rules: Dict[str, str]):\n",
    "    \"\"\"Insert rules value between each pair of letters that matches a rules key.\"\"\"\n",
    "    result = []\n",
    "    for i, letter in enumerate(start_string[:-1]):\n",
    "        # For each letter, look up that letter plus the next letter\n",
    "        insertion = rules.get(letter + start_string[i + 1], \"\")\n",
    "        result.append(letter + insertion)\n",
    "    # Add the last letter at the end\n",
    "    result.append(start_string[-1])\n",
    "    return \"\".join(result)\n",
    "\n",
    "\n",
    "def calculate_answer(polymer_string: str) -> int:\n",
    "    \"\"\"Subtract least common letter from most common letter\"\"\"\n",
    "    letters = Counter(polymer_string)\n",
    "    counts = letters.most_common()\n",
    "    return counts[0][1] - counts[-1][1]\n",
    "\n",
    "\n",
    "def run_part_one(data: List[str], repeats: int) -> int:\n",
    "    \"\"\"Run the whole process on a given list of input data.\"\"\"\n",
    "    polymer_chain, rules = organise_data(data)\n",
    "    for r in range(repeats):\n",
    "        polymer_chain = step(polymer_chain, rules)\n",
    "    return calculate_answer(polymer_chain)\n"
   ]
  },
  {
   "cell_type": "code",
   "execution_count": 7,
   "metadata": {},
   "outputs": [
    {
     "data": {
      "text/plain": [
       "3259"
      ]
     },
     "execution_count": 7,
     "metadata": {},
     "output_type": "execute_result"
    }
   ],
   "source": [
    "assert run_part_one(test_data, 10) == test_answer_1\n",
    "run_part_one(data, 10)\n"
   ]
  },
  {
   "cell_type": "markdown",
   "metadata": {},
   "source": [
    "## Part two"
   ]
  },
  {
   "cell_type": "code",
   "execution_count": 24,
   "metadata": {},
   "outputs": [],
   "source": [
    "# Oh no, it's an efficiency question...\n",
    "# But order doesn't matter, so let's just dict it\n",
    "\n",
    "# def efficient_step(letters: Dict[str, int], rules: Dict[str, str]) -> Dict[str, int]:\n",
    "def make_dict(start_string: str) -> Dict[str, int]:\n",
    "    \"\"\"Turn the starting string into a dictionary of letter pairs and counts.\"\"\"\n",
    "    letters = {}\n",
    "    for i, letter in enumerate(start_string[:-1]):\n",
    "        letters[(letter, start_string[i + 1])] = (\n",
    "            letters.get((letter, start_string[i + 1]), 0) + 1\n",
    "        )\n",
    "    return letters\n",
    "\n",
    "\n",
    "def efficient_step(\n",
    "    letters: Dict[Tuple[int, int], int], rules: Dict[str, str]\n",
    ") -> Dict[Tuple[int, int], int]:\n",
    "    \"\"\"Run a dictionary of letter pair counts through the rules dictionary.\"\"\"\n",
    "    new_letters = {}\n",
    "    for letter_pair, count in letters.items():\n",
    "        pair_as_string = \"\".join(list(letter_pair))\n",
    "        new_letters[(letter_pair[0], rules[pair_as_string])] = (\n",
    "            new_letters.get((letter_pair[0], rules[pair_as_string]), 0) + count\n",
    "        )\n",
    "        new_letters[(rules[pair_as_string], letter_pair[1])] = (\n",
    "            new_letters.get((rules[pair_as_string], letter_pair[1]), 0) + count\n",
    "        )\n",
    "    return new_letters\n",
    "\n",
    "\n",
    "def calculate_answer_from_dict(\n",
    "    letter_counts: Dict[Tuple[str, str], int], last_letter: str\n",
    ") -> int:\n",
    "    \"\"\"Subtract least common letter from most common letter, using a letter-pair dict.\"\"\"\n",
    "    counts = {}\n",
    "    for letter_pair, count in letter_counts.items():\n",
    "        counts[letter_pair[0]] = counts.get(letter_pair[0], 0) + count\n",
    "    counts[last_letter] = counts.get(last_letter, 0) + 1\n",
    "    ordered = sorted(counts.items(), key=lambda x: x[1])\n",
    "    return ordered[-1][1] - ordered[0][1]\n",
    "\n",
    "\n",
    "def run_part_two(data: List[str], repeats: int) -> int:\n",
    "    \"\"\"Run the whole process on a given list of input data.\"\"\"\n",
    "    polymer_chain, rules = organise_data(data)\n",
    "    letters = make_dict(polymer_chain)\n",
    "    # Last letter won't change\n",
    "    last_letter = polymer_chain[-1]\n",
    "    for r in range(repeats):\n",
    "        letters = efficient_step(letters, rules)\n",
    "    return calculate_answer_from_dict(letters, last_letter)\n"
   ]
  },
  {
   "cell_type": "code",
   "execution_count": 27,
   "metadata": {},
   "outputs": [
    {
     "data": {
      "text/plain": [
       "3459174981021"
      ]
     },
     "execution_count": 27,
     "metadata": {},
     "output_type": "execute_result"
    }
   ],
   "source": [
    "assert run_part_two(test_data, 10) == test_answer_1\n",
    "assert run_part_two(test_data, 40) == test_answer_2\n",
    "run_part_two(data, 40)\n"
   ]
  },
  {
   "cell_type": "code",
   "execution_count": null,
   "metadata": {},
   "outputs": [],
   "source": []
  }
 ],
 "metadata": {
  "interpreter": {
   "hash": "f55019471d8c7990b4811b8d274212ff300a811828c03b53e2c14451c3d668a7"
  },
  "kernelspec": {
   "display_name": "Python 3.9.6 64-bit ('tinkering': pyenv)",
   "language": "python",
   "name": "python3"
  },
  "language_info": {
   "codemirror_mode": {
    "name": "ipython",
    "version": 3
   },
   "file_extension": ".py",
   "mimetype": "text/x-python",
   "name": "python",
   "nbconvert_exporter": "python",
   "pygments_lexer": "ipython3",
   "version": "3.9.6"
  },
  "orig_nbformat": 4
 },
 "nbformat": 4,
 "nbformat_minor": 2
}
