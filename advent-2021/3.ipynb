{
 "cells": [
  {
   "cell_type": "markdown",
   "metadata": {},
   "source": [
    "# Day 3\n",
    "\n",
    "## Imports and data loading"
   ]
  },
  {
   "cell_type": "code",
   "execution_count": 36,
   "metadata": {},
   "outputs": [],
   "source": [
    "from utils import get_input, load_data\n",
    "\n",
    "day = 3\n"
   ]
  },
  {
   "cell_type": "code",
   "execution_count": 37,
   "metadata": {},
   "outputs": [
    {
     "name": "stdout",
     "output_type": "stream",
     "text": [
      "Data saved\n"
     ]
    }
   ],
   "source": [
    "get_input(day)\n"
   ]
  },
  {
   "cell_type": "code",
   "execution_count": 47,
   "metadata": {},
   "outputs": [],
   "source": [
    "data = load_data(day, as_list=True, number=False)\n",
    "test_data = [\n",
    "    \"00100\",\n",
    "    \"11110\",\n",
    "    \"10110\",\n",
    "    \"10111\",\n",
    "    \"10101\",\n",
    "    \"01111\",\n",
    "    \"00111\",\n",
    "    \"11100\",\n",
    "    \"10000\",\n",
    "    \"11001\",\n",
    "    \"00010\",\n",
    "    \"01010\",\n",
    "]\n",
    "test_answer_1 = 198\n"
   ]
  },
  {
   "cell_type": "markdown",
   "metadata": {},
   "source": [
    "## Part one"
   ]
  },
  {
   "cell_type": "code",
   "execution_count": 48,
   "metadata": {},
   "outputs": [
    {
     "name": "stdout",
     "output_type": "stream",
     "text": [
      "2003336\n"
     ]
    }
   ],
   "source": [
    "from collections import Counter\n",
    "\n",
    "inverter = str.maketrans({\"0\": \"1\", \"1\": \"0\"})\n",
    "\n",
    "\n",
    "def majority_bits(inputs: list, bit: int, get_most: bool = True) -> int:\n",
    "    # Is 1 more or equally common?\n",
    "    counted = Counter([(num[bit]) for num in inputs])\n",
    "    most_common = str(int(counted[\"1\"] >= counted[\"0\"]))\n",
    "\n",
    "    # Flip answer if we want least common\n",
    "    if get_most:\n",
    "        return most_common\n",
    "    else:\n",
    "        return most_common.translate(inverter)\n",
    "\n",
    "\n",
    "def calculate_power(inputs: list) -> int:\n",
    "    # First get gamma - most common in each bit\n",
    "    num_length = len(inputs[0])\n",
    "    gamma = []\n",
    "    for i in range(num_length):\n",
    "        gamma.append(str(majority_bits(inputs, i)))\n",
    "    gamma = \"\".join(gamma)\n",
    "    # Epsilon is gamma flipped\n",
    "    epsilon = gamma.translate(inverter)\n",
    "    # Convert binaries to decimal and multiply\n",
    "    return int(gamma, 2) * int(epsilon, 2)\n",
    "\n",
    "\n",
    "assert (calculate_power(test_data)) == test_answer_1\n",
    "print(calculate_power(data))\n"
   ]
  },
  {
   "cell_type": "markdown",
   "metadata": {},
   "source": [
    "## Part two"
   ]
  },
  {
   "cell_type": "code",
   "execution_count": 50,
   "metadata": {},
   "outputs": [
    {
     "data": {
      "text/plain": [
       "1877139"
      ]
     },
     "execution_count": 50,
     "metadata": {},
     "output_type": "execute_result"
    }
   ],
   "source": [
    "test_answer_2 = 230\n",
    "\n",
    "\n",
    "def get_rating(inputs: list, bit: int) -> int:\n",
    "    num_length = len(inputs[0])\n",
    "    new_list = inputs.copy()\n",
    "    # Remake the list, keeping most common bit each time till one item left\n",
    "    for i in range(num_length):\n",
    "        # Bit to keep\n",
    "        keep = str(majority_bits(new_list, i, bool(bit)))\n",
    "        # New list is where specified bit matches keep\n",
    "        new_list = [num for num in new_list if num[i] == keep]\n",
    "        if len(new_list) == 1:\n",
    "            break\n",
    "    # Convert binary to decimal\n",
    "    return int(new_list[0], 2)\n",
    "\n",
    "\n",
    "def answer(inputs: list) -> int:\n",
    "    # Multiply the two approaches\n",
    "    return get_rating(inputs, 1) * get_rating(inputs, 0)\n",
    "\n",
    "\n",
    "assert (answer(test_data)) == test_answer_2\n",
    "answer(data)\n"
   ]
  },
  {
   "cell_type": "code",
   "execution_count": null,
   "metadata": {},
   "outputs": [],
   "source": []
  }
 ],
 "metadata": {
  "interpreter": {
   "hash": "f55019471d8c7990b4811b8d274212ff300a811828c03b53e2c14451c3d668a7"
  },
  "kernelspec": {
   "display_name": "Python 3.9.6 64-bit ('tinkering': pyenv)",
   "language": "python",
   "name": "python3"
  },
  "language_info": {
   "codemirror_mode": {
    "name": "ipython",
    "version": 3
   },
   "file_extension": ".py",
   "mimetype": "text/x-python",
   "name": "python",
   "nbconvert_exporter": "python",
   "pygments_lexer": "ipython3",
   "version": "3.9.6"
  },
  "orig_nbformat": 4
 },
 "nbformat": 4,
 "nbformat_minor": 2
}
