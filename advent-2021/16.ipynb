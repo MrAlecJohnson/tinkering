{
 "cells": [
  {
   "cell_type": "markdown",
   "metadata": {},
   "source": [
    "# Day 16\n",
    "\n",
    "Got bored trying to work this out - incomplete\n",
    "\n",
    "## Imports and data loading"
   ]
  },
  {
   "cell_type": "code",
   "execution_count": 2,
   "metadata": {},
   "outputs": [],
   "source": [
    "from utils import get_input, load_data\n",
    "\n",
    "day = 16\n"
   ]
  },
  {
   "cell_type": "code",
   "execution_count": 3,
   "metadata": {},
   "outputs": [
    {
     "name": "stdout",
     "output_type": "stream",
     "text": [
      "Data saved\n"
     ]
    }
   ],
   "source": [
    "get_input(day)\n"
   ]
  },
  {
   "cell_type": "code",
   "execution_count": 3,
   "metadata": {},
   "outputs": [],
   "source": [
    "data = load_data(day, list_type=\"none\", number=False)\n",
    "test_data_1 = \"8A004A801A8002F478\"\n",
    "test_data_2 = \"620080001611562C8802118E34\"\n",
    "test_data_3 = \"A0016C880162017C3686B18A3D4780\"\n",
    "test_answer_1 = 16\n",
    "test_answer_2 = 23\n",
    "test_answer_3 = 31\n"
   ]
  },
  {
   "cell_type": "markdown",
   "metadata": {},
   "source": [
    "## Part one"
   ]
  },
  {
   "cell_type": "code",
   "execution_count": null,
   "metadata": {},
   "outputs": [],
   "source": [
    "# Skip this for now...\n",
    "\n",
    "# 3 binary number bits for version\n",
    "# 3 binary number bits for type ID\n",
    "# If type id is 4, it's then groups of 5 bits\n",
    "# will be abinary number with leading zero padding until it's a multiple of 4 bits, then split into groups of 4 bits\n",
    "# Each group starts with a 1 except the last group, which starts with 0\n",
    "# Then some zeroes at the end, potentially\n",
    "\n",
    "# If type ID isn't 4, it's an operator. These contain packets\n",
    "# After first 6 bits (the header - version and type) there's the length type id\n",
    "# if length type id == 0, next 15 bits are a number. This is total number of bits in subpackets\n",
    "# if length type id == 1, next 11 bits are a number. This is number of subpackets\n",
    "\n",
    "# Goal is to parse the packets and add up version numbers\n"
   ]
  },
  {
   "cell_type": "code",
   "execution_count": 13,
   "metadata": {},
   "outputs": [],
   "source": [
    "class Packet:\n",
    "    def __init__():\n",
    "        return\n",
    "\n",
    "\n",
    "def parse_packet(data: str):\n",
    "    binary = bin(int(data, 16))[2:]\n",
    "    starts = [0]\n",
    "    version_nums = []\n",
    "    start = 0\n",
    "\n",
    "    while True:\n",
    "        version = int(binary[start : start + 3], 2)\n",
    "        type_id = int(binary[start + 3 : start + 6], 2)\n",
    "        if type_id == 4:\n",
    "            # It's a literal\n",
    "            number = \"\"\n",
    "\n",
    "            while True:\n",
    "                group = binary[start + 5 : start + 10]\n",
    "                number += group[1:]\n",
    "                start += 5\n",
    "                if group[0] == 0:\n",
    "                    starts.append(start)\n",
    "                    version_nums.append(version)\n",
    "                    break\n",
    "\n",
    "        else:\n",
    "            # It's an operator\n",
    "            length_type = binary[7]\n",
    "            contents = []\n",
    "            if length_type == 1:\n",
    "                total_subpacket_length = binary[8:23]\n",
    "                contents.append(parse_packet(binary[24 : 24 + total_subpacket_length]))\n",
    "                # What about everything after that? It's another packet, right?\n",
    "                contents.append(parse_packet(binary[24 + total_subpacket_length :]))\n",
    "            elif length_type == 0:\n",
    "                subpacket_count = binary[8:19]\n",
    "                for s in subpacket_count:\n",
    "                    pass\n",
    "\n",
    "        return contents\n"
   ]
  },
  {
   "cell_type": "code",
   "execution_count": 14,
   "metadata": {},
   "outputs": [
    {
     "data": {
      "text/plain": [
       "Binary string: 100010100000000001001010100000000001101010000000000000101111010001111000\n",
       "Version: 4\n",
       "Type ID: 2"
      ]
     },
     "execution_count": 14,
     "metadata": {},
     "output_type": "execute_result"
    }
   ],
   "source": [
    "# Or do it as a class?\n",
    "Parser(test_data_1)\n"
   ]
  },
  {
   "cell_type": "markdown",
   "metadata": {},
   "source": [
    "## Part two"
   ]
  },
  {
   "cell_type": "code",
   "execution_count": null,
   "metadata": {},
   "outputs": [],
   "source": []
  },
  {
   "cell_type": "code",
   "execution_count": null,
   "metadata": {},
   "outputs": [],
   "source": []
  }
 ],
 "metadata": {
  "interpreter": {
   "hash": "f55019471d8c7990b4811b8d274212ff300a811828c03b53e2c14451c3d668a7"
  },
  "kernelspec": {
   "display_name": "Python 3.9.6 64-bit ('tinkering': pyenv)",
   "language": "python",
   "name": "python3"
  },
  "language_info": {
   "codemirror_mode": {
    "name": "ipython",
    "version": 3
   },
   "file_extension": ".py",
   "mimetype": "text/x-python",
   "name": "python",
   "nbconvert_exporter": "python",
   "pygments_lexer": "ipython3",
   "version": "3.9.6"
  },
  "orig_nbformat": 4
 },
 "nbformat": 4,
 "nbformat_minor": 2
}
