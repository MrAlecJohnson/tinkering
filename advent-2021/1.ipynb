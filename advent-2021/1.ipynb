{
 "cells": [
  {
   "cell_type": "markdown",
   "metadata": {},
   "source": [
    "# Day 1\n",
    "\n",
    "## Imports and data loading"
   ]
  },
  {
   "cell_type": "code",
   "execution_count": 4,
   "metadata": {},
   "outputs": [],
   "source": [
    "import math\n",
    "\n",
    "from utils import get_input, load_data"
   ]
  },
  {
   "cell_type": "code",
   "execution_count": 2,
   "metadata": {},
   "outputs": [],
   "source": [
    "get_input(1)\n",
    "data = load_data(1, as_list=True, number=True)"
   ]
  },
  {
   "cell_type": "markdown",
   "metadata": {},
   "source": [
    "## Part one"
   ]
  },
  {
   "cell_type": "code",
   "execution_count": 5,
   "metadata": {},
   "outputs": [
    {
     "name": "stdout",
     "output_type": "stream",
     "text": [
      "1752\n"
     ]
    }
   ],
   "source": [
    "current = math.inf\n",
    "increases = 0\n",
    "\n",
    "for num in data:\n",
    "    if num > current:\n",
    "        increases += 1\n",
    "    current = num\n",
    "\n",
    "print(increases)"
   ]
  },
  {
   "cell_type": "markdown",
   "metadata": {},
   "source": [
    "## Part two"
   ]
  },
  {
   "cell_type": "code",
   "execution_count": null,
   "metadata": {},
   "outputs": [],
   "source": [
    "two_ago = data[0]\n",
    "previous = data[1]\n",
    "current = data[2]\n",
    "last_total = sum([two_ago, previous, current])\n",
    "increases = 0\n",
    "\n",
    "for num in data[3:]:\n",
    "    two_ago = previous\n",
    "    previous = current\n",
    "    current = num\n",
    "    new_total = sum([two_ago, previous, current])\n",
    "    if new_total > last_total:\n",
    "        increases += 1\n",
    "    last_total = new_total\n",
    "\n",
    "print(increases)    \n"
   ]
  }
 ],
 "metadata": {
  "interpreter": {
   "hash": "f55019471d8c7990b4811b8d274212ff300a811828c03b53e2c14451c3d668a7"
  },
  "kernelspec": {
   "display_name": "Python 3.9.6 64-bit ('tinkering': pyenv)",
   "language": "python",
   "name": "python3"
  },
  "language_info": {
   "codemirror_mode": {
    "name": "ipython",
    "version": 3
   },
   "file_extension": ".py",
   "mimetype": "text/x-python",
   "name": "python",
   "nbconvert_exporter": "python",
   "pygments_lexer": "ipython3",
   "version": "3.9.6"
  },
  "orig_nbformat": 4
 },
 "nbformat": 4,
 "nbformat_minor": 2
}
