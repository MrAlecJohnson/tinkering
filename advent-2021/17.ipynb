{
 "cells": [
  {
   "cell_type": "markdown",
   "metadata": {},
   "source": [
    "# Day 17\n",
    "\n",
    "## Imports and data loading"
   ]
  },
  {
   "cell_type": "code",
   "execution_count": 1,
   "metadata": {},
   "outputs": [],
   "source": [
    "from collections import namedtuple\n",
    "import re\n",
    "from typing import Tuple\n",
    "\n",
    "from utils import get_input, load_data\n",
    "day = 17"
   ]
  },
  {
   "cell_type": "code",
   "execution_count": 2,
   "metadata": {},
   "outputs": [
    {
     "name": "stdout",
     "output_type": "stream",
     "text": [
      "Data saved\n"
     ]
    }
   ],
   "source": [
    "get_input(day)"
   ]
  },
  {
   "cell_type": "code",
   "execution_count": 2,
   "metadata": {},
   "outputs": [],
   "source": [
    "data = load_data(day, list_type=\"none\", number=False)\n",
    "test_data = \"target area: x=20..30, y=-10..-5\"\n",
    "test_answer_1 = 45\n",
    "test_answer_2 = None"
   ]
  },
  {
   "cell_type": "markdown",
   "metadata": {},
   "source": [
    "## Part one"
   ]
  },
  {
   "cell_type": "code",
   "execution_count": 15,
   "metadata": {},
   "outputs": [],
   "source": [
    "Zone = namedtuple(\"Zone\", [\"x_min\", \"x_max\", \"y_min\", \"y_max\"])\n",
    "Point = namedtuple(\"Point\", [\"x\", \"y\"])\n",
    "\n",
    "\n",
    "def parse_input(text: str) -> Tuple[int, int, int, int]:\n",
    "    \"\"\"Turn input string into x min, x max, y min, y max.\"\"\"\n",
    "    nums = [int(num) for num in re.findall(r\"-?\\d+\", text)]\n",
    "    return Zone(*nums)\n",
    "\n",
    "\n",
    "def probe_in_zone(x_vel: int, y_vel: int, zone: Zone) -> bool:\n",
    "    \"\"\"Check if a given probe with velocity x_vel, y_vel will pass through the zone.\"\"\"\n",
    "    pos = Point(0, 0)\n",
    "    max_height = 0\n",
    "    while pos.x <= zone.x_max and pos.y >= zone.y_min:\n",
    "        pos.x += x_vel\n",
    "        pos.y += y_vel\n",
    "        if x_vel > 0:\n",
    "            x_vel -= 1\n",
    "        elif x_vel < 0: \n",
    "            x_vel += 1\n",
    "        y_vel -= 1\n",
    "        if pos.y > max_height:\n",
    "            max_height = pos.y\n",
    "\n",
    "    return (pos, max_height)\n",
    "\n",
    "\n",
    "def probe_in_zone(zone: Zone, point: Point) -> bool:\n",
    "    \"\"\"Check if a given Point is in a target Zone.\"\"\"\n",
    "    return zone.x_min <= point.x <= zone.x_max and zone.y_min <= point.y <= zone.y_max\n",
    "\n",
    "\n",
    "def fire_x(x_vel: int) -> int: \n",
    "    \"\"\"Work out final x position given an initial velocity.\"\"\"\n",
    "    pos = 0\n",
    "    while abs(x_vel > 0):\n",
    "        pos += x_vel\n",
    "        if x_vel > 0:\n",
    "            x_vel -= 1\n",
    "        elif x_vel < 0: \n",
    "            x_vel += 1\n",
    "    return pos\n",
    "\n",
    "def fire_y(y_vel: int, x_vel: int) -> int: \n",
    "    \"\"\"Work out final y position and max height given initial x and y velocity.\"\"\"\n",
    "    timer = abs(x_vel)\n",
    "    pos = 0\n",
    "    max_height = 0  # assumes always possible to get to at least 1 \n",
    "    while timer > 0:\n",
    "        pos += y_vel\n",
    "        if pos > max_height:\n",
    "            max_height = pos\n",
    "        y_vel -= 1\n",
    "        timer -= 1\n",
    "    return pos, max_height\n",
    "\n",
    "\n",
    "def x_in_zone(x_pos: int, zone: Zone) -> bool:\n",
    "    \"\"\"Check if an x position is in a Zone.\"\"\"\n",
    "    return zone.x_min <= x_pos <= zone.x_max\n",
    "\n",
    "\n",
    "def find_max_height(zone: Zone) -> int:\n",
    "    # x velocity is always positive or 0\n",
    "    # x velocity can't be higher than zone max (can refine this if needed)\n",
    "    max_height = 0\n",
    "    for x_vel in range(zone.x_max):\n",
    "        for y_vel in range(max([abs(zone.y_max), abs(zone.y_min)])):\n",
    "            current_x_vel = x_vel\n",
    "            current_y_vel = y_vel\n",
    "            x_travel = 0\n",
    "            while x_travel < zone.x_max:\n",
    "                # take\n",
    "                if current_x_vel == 0 and x_travel < zone.x_min:\n",
    "                    break\n",
    "\n",
    "\n",
    "\n",
    "\n",
    "\n",
    "def find_max_height_WRONG(zone: Zone) -> int:\n",
    "    \"\"\"WRONG APPROACH - MISREAD QUESTION.\"\"\"\n",
    "    # Get minimum x velocity\n",
    "    min_x_vel = 0\n",
    "    x_pos = 0\n",
    "    if zone.x_min < 0:\n",
    "        # Find where it drops below the minimum\n",
    "        while x_pos >= zone.x_min:\n",
    "            min_x_vel -= 1\n",
    "            x_pos = fire_x(min_x_vel)\n",
    "        else:\n",
    "            # Add one to it again after\n",
    "            min_x_vel += 1\n",
    "            x_pos = fire_x(min_x_vel)\n",
    "\n",
    "    elif zone.x_min > 0:\n",
    "        # Find where it goes above the minimum\n",
    "        while x_pos <= zone.x_min:\n",
    "            min_x_vel += 1\n",
    "            x_pos = fire_x(min_x_vel)\n",
    "    \n",
    "    print(f\"MIN X VEL = {min_x_vel}\")\n",
    "\n",
    "    # Got up from minimum to find maximum x velocity\n",
    "    max_x_vel = min_x_vel\n",
    "    while x_pos <= zone.x_max:\n",
    "        # Find where it goes above the top of the zone\n",
    "        max_x_vel += 1\n",
    "        x_pos = fire_x(max_x_vel)\n",
    "        print(max_x_vel, x_pos)\n",
    "    else:\n",
    "        max_x_vel -= 1\n",
    "\n",
    "    print(f\"MAX X VEL = {max_x_vel}\")\n",
    "\n",
    "    # For each possible x value, find valid y values and max height\n",
    "    max_height = 0\n",
    "    for x_vel in range(min_x_vel, max_x_vel + 1):\n",
    "        print(f\"FOR X = {x_vel}\")\n",
    "        # Go to minimum y\n",
    "        y_vel = 0\n",
    "        y_pos, current_height = fire_y(y_vel, x_vel)\n",
    "        if y_pos >= zone.y_min:\n",
    "            while y_pos >= zone.y_min:\n",
    "                y_vel -= 1\n",
    "                y_pos, current_height = fire_y(y_vel, x_vel)\n",
    "            y_vel += 1\n",
    "            y_pos, current_height = fire_y(y_vel, x_vel)\n",
    "\n",
    "        elif y_pos <= zone.y_min:\n",
    "            while y_pos <= zone.y_min:\n",
    "                y_vel += 1\n",
    "                y_pos, current_height = fire_y(y_vel, x_vel)\n",
    "\n",
    "        print(f\"MIN Y = {y_vel}\")\n",
    "\n",
    "\n",
    "        # y_vel is now the minimum level to hit the zone\n",
    "        # Now go up to max y velocity, tracking max height on the way\n",
    "        # Yes this is inefficient, but it might not be a problem\n",
    "        while y_pos <= zone.y_max:\n",
    "            print(f\"CURRENT Y VEL = {y_vel}\")\n",
    "            print(f\"CURRENT HEIGHT = {current_height}\")\n",
    "            if current_height > max_height:\n",
    "                max_height = current_height\n",
    "                print(f\"MAX HEIGHT = {max_height}\")\n",
    "            y_vel += 1\n",
    "            y_pos, current_height = fire_y(y_vel, x_vel)\n",
    "\n",
    "    return max_height\n",
    "        \n",
    "        \n",
    "        \n",
    "\n",
    "\n",
    "\n",
    "\n"
   ]
  },
  {
   "cell_type": "code",
   "execution_count": 16,
   "metadata": {},
   "outputs": [
    {
     "name": "stdout",
     "output_type": "stream",
     "text": [
      "MIN X VEL = 6\n",
      "7 28\n",
      "8 36\n",
      "MAX X VEL = 7\n",
      "FOR X = 6\n",
      "MIN Y = 1\n",
      "CURRENT Y VEL = 1\n",
      "CURRENT HEIGHT = 1\n",
      "MAX HEIGHT = 1\n",
      "FOR X = 7\n",
      "MIN Y = 2\n",
      "CURRENT Y VEL = 2\n",
      "CURRENT HEIGHT = 3\n",
      "MAX HEIGHT = 3\n"
     ]
    },
    {
     "data": {
      "text/plain": [
       "3"
      ]
     },
     "execution_count": 16,
     "metadata": {},
     "output_type": "execute_result"
    }
   ],
   "source": [
    "zone = parse_input(test_data)\n",
    "\n",
    "find_max_height(zone)"
   ]
  },
  {
   "cell_type": "markdown",
   "metadata": {},
   "source": [
    "## Part two"
   ]
  },
  {
   "cell_type": "code",
   "execution_count": null,
   "metadata": {},
   "outputs": [],
   "source": []
  },
  {
   "cell_type": "code",
   "execution_count": null,
   "metadata": {},
   "outputs": [],
   "source": []
  }
 ],
 "metadata": {
  "interpreter": {
   "hash": "f55019471d8c7990b4811b8d274212ff300a811828c03b53e2c14451c3d668a7"
  },
  "kernelspec": {
   "display_name": "Python 3.9.6 64-bit ('tinkering': pyenv)",
   "language": "python",
   "name": "python3"
  },
  "language_info": {
   "codemirror_mode": {
    "name": "ipython",
    "version": 3
   },
   "file_extension": ".py",
   "mimetype": "text/x-python",
   "name": "python",
   "nbconvert_exporter": "python",
   "pygments_lexer": "ipython3",
   "version": "3.9.6"
  },
  "orig_nbformat": 4
 },
 "nbformat": 4,
 "nbformat_minor": 2
}
