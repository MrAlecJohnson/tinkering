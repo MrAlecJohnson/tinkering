{
 "cells": [
  {
   "cell_type": "markdown",
   "metadata": {},
   "source": [
    "# Day 1\n",
    "\n",
    "## Imports and data loading"
   ]
  },
  {
   "cell_type": "code",
   "execution_count": 1,
   "metadata": {},
   "outputs": [],
   "source": [
    "from utils import get_input, load_data\n",
    "day = 8"
   ]
  },
  {
   "cell_type": "code",
   "execution_count": 5,
   "metadata": {},
   "outputs": [
    {
     "name": "stdout",
     "output_type": "stream",
     "text": [
      "Data saved\n"
     ]
    }
   ],
   "source": [
    "get_input(day)"
   ]
  },
  {
   "cell_type": "code",
   "execution_count": 2,
   "metadata": {},
   "outputs": [],
   "source": [
    "data = load_data(day, list_type=\"line\", number=False)\n",
    "test_data = [\n",
    "    \"be cfbegad cbdgef fgaecd cgeb fdcge agebfd fecdb fabcd edb | fdgacbe cefdb cefbgd gcbe\",\n",
    "    \"edbfga begcd cbg gc gcadebf fbgde acbgfd abcde gfcbed gfec | fcgedb cgb dgebacf gc\",\n",
    "    \"fgaebd cg bdaec gdafb agbcfd gdcbef bgcad gfac gcb cdgabef | cg cg fdcagb cbg\",\n",
    "    \"fbegcd cbd adcefb dageb afcb bc aefdc ecdab fgdeca fcdbega | efabcd cedba gadfec cb\",\n",
    "    \"aecbfdg fbg gf bafeg dbefa fcge gcbea fcaegb dgceab fcbdga | gecf egdcabf bgf bfgea\",\n",
    "    \"fgeab ca afcebg bdacfeg cfaedg gcfdb baec bfadeg bafgc acf | gebdcfa ecba ca fadegcb\",\n",
    "    \"dbcfg fgd bdegcaf fgec aegbdf ecdfab fbedc dacgb gdcebf gf | cefg dcbef fcge gbcadfe\",\n",
    "    \"bdfegc cbegaf gecbf dfcage bdacg ed bedf ced adcbefg gebcd | ed bcgafe cdgba cbgef\",\n",
    "    \"egadfb cdbfeg cegd fecab cgb gbdefca cg fgcdab egfdb bfceg | gbdfcae bgc cg cgb\",\n",
    "    \"gcafb gcf dcaebfg ecagb gf abcdeg gaef cafbge fdbac fegbdc | fgae cfgab fg bagce\",\n",
    "]\n",
    "test_answer_1 = 26\n",
    "test_answer_2 = None"
   ]
  },
  {
   "cell_type": "markdown",
   "metadata": {},
   "source": [
    "## Prep"
   ]
  },
  {
   "cell_type": "code",
   "execution_count": 3,
   "metadata": {},
   "outputs": [],
   "source": [
    "num_to_segment = {\n",
    "    0: 0,\n",
    "    1: 2,\n",
    "    2: 5,\n",
    "    3: 5,\n",
    "    4: 4,\n",
    "    5: 5,\n",
    "    6: 6,\n",
    "    7: 3,\n",
    "    8: 7,\n",
    "    9: 6,\n",
    "}\n",
    "segment_to_num = {x: [] for x in range(10)}"
   ]
  },
  {
   "cell_type": "code",
   "execution_count": 4,
   "metadata": {},
   "outputs": [],
   "source": [
    "def split_data(inputs) -> tuple:\n",
    "    divided = list(zip(*[line.partition(\" | \") for line in inputs]))\n",
    "    return divided[0], divided[2]\n",
    "\n",
    "def count_digits(after) -> list:\n",
    "    lengths = [[len(c.strip())for c in codes.split()] for codes in after]\n",
    "    return lengths\n",
    "\n",
    "def count_uniques(counts) -> int:\n",
    "    total = 0\n",
    "    for line in counts:\n",
    "        for val in line:\n",
    "            if val in [2, 4, 3, 7]:\n",
    "                total +=1\n",
    "    return total\n",
    "\n",
    "\n",
    "def part_one_answer(data) -> int:\n",
    "    counts = count_digits(data)\n",
    "    return count_uniques(counts)\n"
   ]
  },
  {
   "cell_type": "markdown",
   "metadata": {},
   "source": [
    "## Part one"
   ]
  },
  {
   "cell_type": "code",
   "execution_count": 5,
   "metadata": {},
   "outputs": [
    {
     "data": {
      "text/plain": [
       "512"
      ]
     },
     "execution_count": 5,
     "metadata": {},
     "output_type": "execute_result"
    }
   ],
   "source": [
    "divided_test = split_data(test_data)\n",
    "divided = split_data(data)\n",
    "\n",
    "assert part_one_answer(divided_test[1]) == test_answer_1\n",
    "part_one_answer(divided[1])"
   ]
  },
  {
   "cell_type": "markdown",
   "metadata": {},
   "source": [
    "## Part two"
   ]
  },
  {
   "cell_type": "code",
   "execution_count": 35,
   "metadata": {},
   "outputs": [],
   "source": [
    "# a\n",
    "#b c\n",
    "# d\n",
    "#e f\n",
    "# g\n",
    "\n",
    "# give each of a to g a set of possible translations, then gradually reduce them?\n",
    "LETTERS = {\"a\", \"b\", \"c\", \"d\", \"e\", \"f\", \"g\"}\n",
    "DISPLAYS = {\n",
    "    (\"a\", \"b\", \"c\", \"e\", \"f\", \"g\"): 0,\n",
    "    (\"c\", \"f\"): 1,\n",
    "    (\"a\", \"c\", \"d\", \"e\", \"g\"): 2,\n",
    "    (\"a\", \"c\", \"d\", \"f\", \"g\"): 3,\n",
    "    (\"b\", \"c\", \"d\", \"f\"): 4,\n",
    "    (\"a\", \"b\", \"d\", \"f\", \"g\"): 5,\n",
    "    (\"a\", \"b\", \"d\", \"e\", \"f\", \"g\"): 6,\n",
    "    (\"a\", \"c\", \"f\"): 7,\n",
    "    (\"a\", \"b\", \"c\", \"d\", \"e\", \"f\", \"g\"): 2,\n",
    "    (\"a\", \"b\", \"c\", \"d\", \"f\", \"g\"): 9,\n",
    "}\n",
    "\n",
    "class LetterBoard():\n",
    "    def __init__(self, line):\n",
    "        divided = line.partition(\" | \")\n",
    "        self.codes = [set(i.strip()) for i in divided[0].split()]\n",
    "        self.output = [set(d) for d in divided[2].split()]\n",
    "        self.possible_letters = {letter: LETTERS.copy() for letter in LETTERS}\n",
    "        self.translations = {}\n",
    "\n",
    "    def limit_letters(self, letters_used: set, intended_letters: str):\n",
    "        for letter in self.possible_letters:\n",
    "            if letter in letters_used:\n",
    "                self.possible_letters[letter] &= set(intended_letters)\n",
    "            else:\n",
    "                self.possible_letters[letter] -= set(intended_letters)\n",
    "\n",
    "    def untangle(self):\n",
    "        \"\"\"Work out the actual letter represented by each of the used letters\"\"\"\n",
    "        for code in self.codes:\n",
    "            if len(code) == 2:\n",
    "                self.limit_letters(code, \"cf\")\n",
    "            elif len(code) == 3:\n",
    "                self.limit_letters(code, \"acf\")\n",
    "            elif len(code) == 4:\n",
    "                self.limit_letters(code, \"bcdf\")\n",
    "\n",
    "    def identify_numbers(self):\n",
    "        for code in self.output:\n",
    "            translated = set()\n",
    "            for c in code:\n",
    "                translated.update(c)\n",
    "            hashable = tuple(sorted(translated))\n",
    "            number = DISPLAYS.get(hashable, \"unknown\")\n",
    "            if number == \"unknown\":\n",
    "                print(f\"Can't convert {code} to integer\")\n",
    "                print(self.possible_letters)\n",
    "                print()\n",
    "            return number\n",
    "        \n",
    "\n",
    "    def convert_to_number(self):\n",
    "        \"\"\"Check all the letters have only one possible translation.\"\"\"\n",
    "        self.untangle()\n",
    "        return self.identify_numbers()"
   ]
  },
  {
   "cell_type": "code",
   "execution_count": 36,
   "metadata": {},
   "outputs": [
    {
     "name": "stdout",
     "output_type": "stream",
     "text": [
      "Can't convert {'b', 'g', 'd', 'c', 'e', 'f'} to integer\n",
      "{'f': {'b', 'd'}, 'e': {'b', 'd'}, 'c': {'f', 'c'}, 'b': {'a'}, 'a': {'e', 'g'}, 'g': {'f', 'c'}, 'd': {'e', 'g'}}\n",
      "\n"
     ]
    },
    {
     "ename": "TypeError",
     "evalue": "unsupported operand type(s) for +=: 'int' and 'str'",
     "output_type": "error",
     "traceback": [
      "\u001b[0;31m---------------------------------------------------------------------------\u001b[0m",
      "\u001b[0;31mTypeError\u001b[0m                                 Traceback (most recent call last)",
      "\u001b[0;32m/var/folders/dv/4vjn623s4qn4m9z89dy6d2f40000gp/T/ipykernel_2484/1513221880.py\u001b[0m in \u001b[0;36m<module>\u001b[0;34m\u001b[0m\n\u001b[1;32m      3\u001b[0m \u001b[0;32mfor\u001b[0m \u001b[0mtest\u001b[0m \u001b[0;32min\u001b[0m \u001b[0mtest_data\u001b[0m\u001b[0;34m:\u001b[0m\u001b[0;34m\u001b[0m\u001b[0;34m\u001b[0m\u001b[0m\n\u001b[1;32m      4\u001b[0m     \u001b[0mboard\u001b[0m \u001b[0;34m=\u001b[0m \u001b[0mLetterBoard\u001b[0m\u001b[0;34m(\u001b[0m\u001b[0mtest\u001b[0m\u001b[0;34m)\u001b[0m\u001b[0;34m\u001b[0m\u001b[0;34m\u001b[0m\u001b[0m\n\u001b[0;32m----> 5\u001b[0;31m     \u001b[0mtotal\u001b[0m \u001b[0;34m+=\u001b[0m \u001b[0mboard\u001b[0m\u001b[0;34m.\u001b[0m\u001b[0mconvert_to_number\u001b[0m\u001b[0;34m(\u001b[0m\u001b[0;34m)\u001b[0m\u001b[0;34m\u001b[0m\u001b[0;34m\u001b[0m\u001b[0m\n\u001b[0m\u001b[1;32m      6\u001b[0m \u001b[0;34m\u001b[0m\u001b[0m\n\u001b[1;32m      7\u001b[0m \u001b[0mtotal\u001b[0m\u001b[0;34m\u001b[0m\u001b[0;34m\u001b[0m\u001b[0m\n",
      "\u001b[0;31mTypeError\u001b[0m: unsupported operand type(s) for +=: 'int' and 'str'"
     ]
    }
   ],
   "source": [
    "total = 0\n",
    "\n",
    "for test in test_data:\n",
    "    board = LetterBoard(test)\n",
    "    total += board.convert_to_number()\n",
    "\n",
    "total"
   ]
  },
  {
   "cell_type": "code",
   "execution_count": null,
   "metadata": {},
   "outputs": [],
   "source": []
  }
 ],
 "metadata": {
  "interpreter": {
   "hash": "f55019471d8c7990b4811b8d274212ff300a811828c03b53e2c14451c3d668a7"
  },
  "kernelspec": {
   "display_name": "Python 3.9.6 64-bit ('tinkering': pyenv)",
   "language": "python",
   "name": "python3"
  },
  "language_info": {
   "codemirror_mode": {
    "name": "ipython",
    "version": 3
   },
   "file_extension": ".py",
   "mimetype": "text/x-python",
   "name": "python",
   "nbconvert_exporter": "python",
   "pygments_lexer": "ipython3",
   "version": "3.9.6"
  },
  "orig_nbformat": 4
 },
 "nbformat": 4,
 "nbformat_minor": 2
}
