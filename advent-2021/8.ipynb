{
 "cells": [
  {
   "cell_type": "markdown",
   "metadata": {},
   "source": [
    "# Day 1\n",
    "\n",
    "## Imports and data loading"
   ]
  },
  {
   "cell_type": "code",
   "execution_count": 1,
   "metadata": {},
   "outputs": [],
   "source": [
    "from utils import get_input, load_data\n",
    "\n",
    "day = 8\n"
   ]
  },
  {
   "cell_type": "code",
   "execution_count": 5,
   "metadata": {},
   "outputs": [
    {
     "name": "stdout",
     "output_type": "stream",
     "text": [
      "Data saved\n"
     ]
    }
   ],
   "source": [
    "get_input(day)\n"
   ]
  },
  {
   "cell_type": "code",
   "execution_count": 2,
   "metadata": {},
   "outputs": [],
   "source": [
    "data = load_data(day, list_type=\"line\", number=False)\n",
    "test_data = [\n",
    "    \"be cfbegad cbdgef fgaecd cgeb fdcge agebfd fecdb fabcd edb | fdgacbe cefdb cefbgd gcbe\",\n",
    "    \"edbfga begcd cbg gc gcadebf fbgde acbgfd abcde gfcbed gfec | fcgedb cgb dgebacf gc\",\n",
    "    \"fgaebd cg bdaec gdafb agbcfd gdcbef bgcad gfac gcb cdgabef | cg cg fdcagb cbg\",\n",
    "    \"fbegcd cbd adcefb dageb afcb bc aefdc ecdab fgdeca fcdbega | efabcd cedba gadfec cb\",\n",
    "    \"aecbfdg fbg gf bafeg dbefa fcge gcbea fcaegb dgceab fcbdga | gecf egdcabf bgf bfgea\",\n",
    "    \"fgeab ca afcebg bdacfeg cfaedg gcfdb baec bfadeg bafgc acf | gebdcfa ecba ca fadegcb\",\n",
    "    \"dbcfg fgd bdegcaf fgec aegbdf ecdfab fbedc dacgb gdcebf gf | cefg dcbef fcge gbcadfe\",\n",
    "    \"bdfegc cbegaf gecbf dfcage bdacg ed bedf ced adcbefg gebcd | ed bcgafe cdgba cbgef\",\n",
    "    \"egadfb cdbfeg cegd fecab cgb gbdefca cg fgcdab egfdb bfceg | gbdfcae bgc cg cgb\",\n",
    "    \"gcafb gcf dcaebfg ecagb gf abcdeg gaef cafbge fdbac fegbdc | fgae cfgab fg bagce\",\n",
    "]\n",
    "test_answer_1 = 26\n",
    "test_answer_2 = 61229\n"
   ]
  },
  {
   "cell_type": "markdown",
   "metadata": {},
   "source": [
    "## Prep"
   ]
  },
  {
   "cell_type": "code",
   "execution_count": 3,
   "metadata": {},
   "outputs": [],
   "source": [
    "def split_data(inputs) -> tuple:\n",
    "    divided = list(zip(*[line.partition(\" | \") for line in inputs]))\n",
    "    return divided[0], divided[2]\n",
    "\n",
    "\n",
    "def count_digits(after) -> list:\n",
    "    lengths = [[len(c.strip()) for c in codes.split()] for codes in after]\n",
    "    return lengths\n",
    "\n",
    "\n",
    "def count_uniques(counts) -> int:\n",
    "    total = 0\n",
    "    for line in counts:\n",
    "        for val in line:\n",
    "            if val in [2, 4, 3, 7]:\n",
    "                total += 1\n",
    "    return total\n",
    "\n",
    "\n",
    "def part_one_answer(data) -> int:\n",
    "    counts = count_digits(data)\n",
    "    return count_uniques(counts)\n"
   ]
  },
  {
   "cell_type": "markdown",
   "metadata": {},
   "source": [
    "## Part one"
   ]
  },
  {
   "cell_type": "code",
   "execution_count": 8,
   "metadata": {},
   "outputs": [
    {
     "data": {
      "text/plain": [
       "512"
      ]
     },
     "execution_count": 8,
     "metadata": {},
     "output_type": "execute_result"
    }
   ],
   "source": [
    "divided_test = split_data(test_data)\n",
    "divided = split_data(data)\n",
    "\n",
    "assert part_one_answer(divided_test[1]) == test_answer_1\n",
    "part_one_answer(divided[1])\n"
   ]
  },
  {
   "cell_type": "markdown",
   "metadata": {},
   "source": [
    "## Part two"
   ]
  },
  {
   "cell_type": "code",
   "execution_count": 14,
   "metadata": {},
   "outputs": [],
   "source": [
    "# a\n",
    "#b c\n",
    "# d\n",
    "#e f\n",
    "# g\n",
    "\n",
    "# Use differences between eg 4 and 1 to identify individual letters\n",
    "\n",
    "# give each of a to g a set of possible translations, then gradually reduce them?\n",
    "LETTERS = {\"a\", \"b\", \"c\", \"d\", \"e\", \"f\", \"g\"}\n",
    "DISPLAYS = {\n",
    "    (\"a\", \"b\", \"c\", \"e\", \"f\", \"g\"): 0,\n",
    "    (\"c\", \"f\"): 1,\n",
    "    (\"a\", \"c\", \"d\", \"e\", \"g\"): 2,\n",
    "    (\"a\", \"c\", \"d\", \"f\", \"g\"): 3,\n",
    "    (\"b\", \"c\", \"d\", \"f\"): 4,\n",
    "    (\"a\", \"b\", \"d\", \"f\", \"g\"): 5,\n",
    "    (\"a\", \"b\", \"d\", \"e\", \"f\", \"g\"): 6,\n",
    "    (\"a\", \"c\", \"f\"): 7,\n",
    "    (\"a\", \"b\", \"c\", \"d\", \"e\", \"f\", \"g\"): 8,\n",
    "    (\"a\", \"b\", \"c\", \"d\", \"f\", \"g\"): 9,\n",
    "}\n",
    "INVERTED_DISPLAYS = {val: key for key, val in DISPLAYS.items()}\n",
    "\n",
    "class LetterBoard():\n",
    "    def __init__(self, line):\n",
    "        divided = line.partition(\" | \")\n",
    "        self.codes = [set(i.strip()) for i in divided[0].split()]\n",
    "        self.output = [set(d) for d in divided[2].split()]\n",
    "        self.possible_letters = {letter: LETTERS.copy() for letter in LETTERS}\n",
    "\n",
    "    def limit_letters(self, letters_used: set, intended_letters: str):\n",
    "        for letter in self.possible_letters:\n",
    "            if letter in letters_used:\n",
    "                self.possible_letters[letter] &= set(intended_letters)\n",
    "            else:\n",
    "                self.possible_letters[letter] -= set(intended_letters)\n",
    "            \n",
    "            if len(actual_letter := self.possible_letters[letter]) == 1:\n",
    "                self.translations[next(iter(actual_letter))] = letter\n",
    "\n",
    "    def untangle(self):\n",
    "        \"\"\"Narrow down the possible letters represented by each of the used letters.\"\"\"\n",
    "        for code in self.codes:\n",
    "            if len(code) == 2:\n",
    "                self.limit_letters(code, \"cf\")\n",
    "            elif len(code) == 3:\n",
    "                self.limit_letters(code, \"acf\")\n",
    "            elif len(code) == 4:\n",
    "                self.limit_letters(code, \"bcdf\")\n",
    "\n",
    "        for code in self.codes:\n",
    "            if len(code) == 6:\n",
    "                missing_code = next(iter(LETTERS - code))\n",
    "                actual_missing = self.possible_letters[missing_code]\n",
    "                actual_missing -= {\"a\", \"b\", \"f\", \"g\"}\n",
    "                if len(actual_missing) == 1:\n",
    "                    self.limit_letters(missing_code, actual_missing)\n",
    "\n",
    "        for code in self.codes:\n",
    "            if len(code) == 5:\n",
    "                missing_codes = LETTERS - code\n",
    "                actual_missing = set()\n",
    "                for m in missing_codes:\n",
    "                    actual_missing.update(self.possible_letters[m])\n",
    "                actual_missing -= {\"a\", \"d\", \"g\"}\n",
    "                if len(actual_missing) == 2:\n",
    "                    self.limit_letters(missing_codes, actual_missing)\n",
    "\n",
    "    def identify_numbers(self):\n",
    "        \"\"\"Ludicrous mess that repeats untangle, but I can't be bothered to tidy it.\"\"\"\n",
    "        digits = []\n",
    "        for code in self.output:\n",
    "            if len(code) == 2:\n",
    "                number = 1\n",
    "            elif len(code) == 3:\n",
    "                number = 7\n",
    "            elif len(code) == 4:\n",
    "                number = 4\n",
    "            elif len(code) == 5:\n",
    "                missing = LETTERS - code\n",
    "                possible_missing = set()\n",
    "                possible = set()\n",
    "                for m in missing:\n",
    "                    possible_missing.update(self.possible_letters[m])\n",
    "                for c in code:\n",
    "                    possible.update(self.possible_letters[c])\n",
    "                possible_missing -= {\"a\", \"d\", \"g\"}\n",
    "                if possible_missing == {\"b\", \"f\"}:\n",
    "                    number = 2\n",
    "                elif possible_missing == {\"b\", \"e\"}:\n",
    "                    number = 3\n",
    "                elif possible_missing == {\"c\", \"e\"}:\n",
    "                    number = 5\n",
    "                else:\n",
    "                    raise ValueError(f\"Can't work out {code}\")\n",
    "\n",
    "            elif len(code) == 6:\n",
    "                missing = list(LETTERS - code)[0]\n",
    "                possible = self.possible_letters[missing]\n",
    "                possible -= {\"a\", \"b\", \"f\", \"g\"}\n",
    "                if len(possible) == 1:\n",
    "                    if possible == {\"d\"}:\n",
    "                        number = 0\n",
    "                    elif possible == {\"c\"}:\n",
    "                        number = 6\n",
    "                    elif possible == {\"e\"}:\n",
    "                        number = 9\n",
    "                    else:\n",
    "                        raise ValueError(f\"Can't convert missing {possible} into a number.\")\n",
    "                else:\n",
    "                    raise ValueError(f\"Can't work out {code}.\")\n",
    "            elif len(code) == 7:\n",
    "                number = 8\n",
    "            else:\n",
    "                raise ValueError(f\"Length of {len(code)} can't be a valid number.\")\n",
    "\n",
    "            digits.append(str(number))\n",
    "        \n",
    "        return int(\"\".join(digits))\n",
    "        \n",
    "\n",
    "    def convert_to_number(self):\n",
    "        \"\"\"Check all the letters have only one possible translation.\"\"\"\n",
    "        self.untangle()\n",
    "        return self.identify_numbers()\n",
    "\n",
    "def decode_and_add(lines):\n",
    "    total = 0\n",
    "    for line in lines:\n",
    "        board = LetterBoard(line)\n",
    "        result = board.convert_to_number()\n",
    "        total += result\n",
    "    return total"
   ]
  },
  {
   "cell_type": "code",
   "execution_count": 15,
   "metadata": {},
   "outputs": [
    {
     "name": "stdout",
     "output_type": "stream",
     "text": [
      "8394\n",
      "9781\n",
      "1197\n",
      "9361\n",
      "4873\n",
      "8418\n",
      "4548\n",
      "1625\n",
      "8717\n",
      "4315\n"
     ]
    }
   ],
   "source": [
    "for test in test_data:\n",
    "    board = LetterBoard(test)\n",
    "    board.untangle()\n",
    "    print(board.convert_to_number())\n",
    "assert decode_and_add(test_data) == test_answer_2\n"
   ]
  },
  {
   "cell_type": "code",
   "execution_count": 16,
   "metadata": {},
   "outputs": [
    {
     "data": {
      "text/plain": [
       "1091165"
      ]
     },
     "execution_count": 16,
     "metadata": {},
     "output_type": "execute_result"
    }
   ],
   "source": [
    "decode_and_add(data)\n"
   ]
  },
  {
   "cell_type": "code",
   "execution_count": null,
   "metadata": {},
   "outputs": [],
   "source": []
  }
 ],
 "metadata": {
  "interpreter": {
   "hash": "f55019471d8c7990b4811b8d274212ff300a811828c03b53e2c14451c3d668a7"
  },
  "kernelspec": {
   "display_name": "Python 3.9.6 64-bit ('tinkering': pyenv)",
   "language": "python",
   "name": "python3"
  },
  "language_info": {
   "codemirror_mode": {
    "name": "ipython",
    "version": 3
   },
   "file_extension": ".py",
   "mimetype": "text/x-python",
   "name": "python",
   "nbconvert_exporter": "python",
   "pygments_lexer": "ipython3",
   "version": "3.9.6"
  },
  "orig_nbformat": 4
 },
 "nbformat": 4,
 "nbformat_minor": 2
}
