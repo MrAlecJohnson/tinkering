{
 "cells": [
  {
   "cell_type": "markdown",
   "metadata": {},
   "source": [
    "# Day 1\n",
    "\n",
    "## Imports and data loading"
   ]
  },
  {
   "cell_type": "code",
   "execution_count": null,
   "metadata": {},
   "outputs": [],
   "source": [
    "from utils import get_input, load_data\n",
    "\n",
    "day = 15\n"
   ]
  },
  {
   "cell_type": "code",
   "execution_count": null,
   "metadata": {},
   "outputs": [],
   "source": [
    "get_input(day)\n"
   ]
  },
  {
   "cell_type": "code",
   "execution_count": null,
   "metadata": {},
   "outputs": [],
   "source": [
    "data = load_data(day, list_type=\"line\", number=False)\n",
    "test_data = [\n",
    "    \"1163751742\",\n",
    "    \"1381373672\",\n",
    "    \"2136511328\",\n",
    "    \"3694931569\",\n",
    "    \"7463417111\",\n",
    "    \"1319128137\",\n",
    "    \"1359912421\",\n",
    "    \"3125421639\",\n",
    "    \"1293138521\",\n",
    "    \"2311944581\",\n",
    "]\n",
    "test_answer_1 = 40\n",
    "test_answer_2 = 315\n"
   ]
  },
  {
   "cell_type": "markdown",
   "metadata": {},
   "source": [
    "## Part one"
   ]
  },
  {
   "cell_type": "code",
   "execution_count": null,
   "metadata": {},
   "outputs": [],
   "source": [
    "import networkx as nx\n",
    "\n",
    "\n",
    "class Cave:\n",
    "    def __init__(self, rows):\n",
    "        \"\"\"Turn the input into a directed graph where edge weight is the weight of\n",
    "        the node at the end of that path.\"\"\"\n",
    "        self.rows = rows\n",
    "        self.width = len(self.rows[0])\n",
    "        self.height = len(self.rows)\n",
    "        self.graph = nx.DiGraph()\n",
    "        # Make the grid\n",
    "        for j, y in enumerate(self.rows):\n",
    "            for i, x in enumerate(y):\n",
    "                self.graph.add_node((j, i), cost=x)\n",
    "\n",
    "        # Add the edges to the grid\n",
    "        for node in self.graph.nodes:\n",
    "            if node[0] > 0:\n",
    "                end = (node[0] - 1, node[1])\n",
    "                self._add_edges(node, end)\n",
    "            if node[0] < self.height - 1:\n",
    "                end = (node[0] + 1, node[1])\n",
    "                self._add_edges(node, end)\n",
    "            if node[1] > 0:\n",
    "                end = (node[0], node[1] - 1)\n",
    "                self._add_edges(node, end)\n",
    "            if node[1] < self.width - 1:\n",
    "                end = (node[0], node[1] + 1)\n",
    "                self._add_edges(node, end)\n",
    "\n",
    "    def __repr__(self):\n",
    "        \"\"\"Print a slightly wonky grid of costs.\"\"\"\n",
    "        costs = []\n",
    "        current = 0\n",
    "        for node in self.graph.nodes:\n",
    "            if node[0] != current:\n",
    "                costs.append(\"\\n\")\n",
    "                current += 1\n",
    "            costs.append(str(self.graph.nodes[node][\"cost\"]))\n",
    "        return \" \".join(costs)\n",
    "\n",
    "    def _add_edges(self, start, end):\n",
    "        \"\"\"Add bidirectional edge between 2 nodes, with cost set to cost of end edge.\"\"\"\n",
    "        self.graph.add_edge(start, end, cost=self.graph.nodes[end][\"cost\"])\n",
    "        self.graph.add_edge(end, start, cost=self.graph.nodes[start][\"cost\"])\n",
    "\n",
    "    def draw(self):\n",
    "        \"\"\"Draw the graph, including edge weights and node weights.\n",
    "\n",
    "        Doesn't work if the graph is massive.\n",
    "        \"\"\"\n",
    "        costs = nx.get_node_attributes(self.graph, \"cost\")\n",
    "        edge_costs = nx.get_edge_attributes(self.graph, \"cost\")\n",
    "        pos = nx.spring_layout(self.graph)\n",
    "        nx.draw(self.graph, pos, with_labels=True, labels=costs)\n",
    "        nx.draw_networkx_edge_labels(self.graph, pos, edge_labels=edge_costs)\n",
    "\n",
    "    @classmethod\n",
    "    def normal_grid(cls, input_rows):\n",
    "        \"\"\"Turn input data into a Cave object.\"\"\"\n",
    "        rows = [[int(i) for i in row] for row in input_rows]\n",
    "        return cls(rows)\n",
    "\n",
    "    @classmethod\n",
    "    def big_grid(cls, input_rows):\n",
    "        \"\"\"Expand input data into a big Cave as required by part two.\"\"\"\n",
    "        rows = [[int(i) for i in row] for row in input_rows]\n",
    "        # Extend the rows sideways\n",
    "        width = len(rows[0])\n",
    "        for i in range(4):\n",
    "            for j, row in enumerate(rows):\n",
    "                added = [r + 1 for r in row[-width:]]\n",
    "                added = [a if a <= 9 else a - 9 for a in added]\n",
    "                row.extend(added)\n",
    "        # Extend the rows downwards\n",
    "        new = []\n",
    "        for i in range(5):\n",
    "            for row in rows:\n",
    "                added = [r + i for r in row]\n",
    "                added = [a if a <= 9 else a - 9 for a in added]\n",
    "                new.append(added)\n",
    "\n",
    "        return cls(new)\n",
    "\n",
    "    def get_shortest_path(self):\n",
    "        \"\"\"Run djikstra to find the shortest path.\"\"\"\n",
    "        return nx.shortest_path(\n",
    "            self.graph,\n",
    "            source=(0, 0),\n",
    "            target=(self.height - 1, self.width - 1),\n",
    "            weight=\"cost\",\n",
    "            method=\"dijkstra\",\n",
    "        )\n",
    "\n",
    "    def measure_shortest_path(self):\n",
    "        \"\"\"Add up the node costs in the shortest path and subtract the start node.\"\"\"\n",
    "        path = self.get_shortest_path()\n",
    "        start = self.graph.nodes[(0, 0)][\"cost\"]\n",
    "        return sum([self.graph.nodes[node][\"cost\"] for node in path]) - start\n"
   ]
  },
  {
   "cell_type": "code",
   "execution_count": null,
   "metadata": {},
   "outputs": [],
   "source": [
    "test_cave = Cave.normal_grid(test_data)\n",
    "assert test_cave.measure_shortest_path() == test_answer_1\n",
    "\n",
    "cave = Cave.normal_grid(data)\n",
    "cave.measure_shortest_path()\n"
   ]
  },
  {
   "cell_type": "markdown",
   "metadata": {},
   "source": [
    "## Part two"
   ]
  },
  {
   "cell_type": "code",
   "execution_count": null,
   "metadata": {},
   "outputs": [],
   "source": [
    "big_test = Cave.big_grid(test_data)\n",
    "assert big_test.measure_shortest_path() == test_answer_2\n",
    "\n",
    "big = Cave.big_grid(data)\n",
    "big.measure_shortest_path()\n"
   ]
  },
  {
   "cell_type": "code",
   "execution_count": null,
   "metadata": {},
   "outputs": [],
   "source": []
  }
 ],
 "metadata": {
  "interpreter": {
   "hash": "f55019471d8c7990b4811b8d274212ff300a811828c03b53e2c14451c3d668a7"
  },
  "kernelspec": {
   "display_name": "Python 3.9.6 64-bit ('tinkering': pyenv)",
   "language": "python",
   "name": "python3"
  },
  "language_info": {
   "codemirror_mode": {
    "name": "ipython",
    "version": 3
   },
   "file_extension": ".py",
   "mimetype": "text/x-python",
   "name": "python",
   "nbconvert_exporter": "python",
   "pygments_lexer": "ipython3",
   "version": "3.9.6"
  },
  "orig_nbformat": 4
 },
 "nbformat": 4,
 "nbformat_minor": 2
}
