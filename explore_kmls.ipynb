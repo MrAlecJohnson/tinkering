{
 "cells": [
  {
   "cell_type": "code",
   "execution_count": null,
   "metadata": {},
   "outputs": [],
   "source": [
    "from pathlib import Path\n",
    "\n",
    "# For some reason we must import geopandas before fiona (in notebook only?)\n",
    "import geopandas as gpd\n",
    "import fiona\n",
    "import pandas as pd\n",
    "\n",
    "from common import DOWNLOAD_FOLDER\n",
    "\n",
    "# Add KML support\n",
    "fiona.drvsupport.supported_drivers[\"KML\"] = \"rw\"\n",
    "\n",
    "metadata_folder = DOWNLOAD_FOLDER / \"meta\"\n",
    "kml_folder = DOWNLOAD_FOLDER / \"converted-kml\"\n",
    "kml_files = [file for file in kml_folder.iterdir() if file.suffix == \".kml\"]"
   ]
  },
  {
   "cell_type": "code",
   "execution_count": null,
   "metadata": {},
   "outputs": [],
   "source": [
    "# Basic reading\n",
    "f1 = kml_files[0]\n",
    "f2 = kml_files[1]\n",
    "\n",
    "# Get layers\n",
    "f1_layers = fiona.listlayers(f1)\n",
    "f2_layers = fiona.listlayers(f2)\n",
    "\n",
    "df1_layers = [gpd.read_file(f1, driver=\"KML\", layer=layer) for layer in f1_layers]\n",
    "df2_layers = [gpd.read_file(f2, driver=\"KML\", layer=layer) for layer in f2_layers]\n",
    "\n",
    "print(f1_layers)\n",
    "print(f2_layers)"
   ]
  },
  {
   "cell_type": "code",
   "execution_count": null,
   "metadata": {},
   "outputs": [],
   "source": [
    "# Converting projection\n",
    "# See current projection\n",
    "print(df1_layers[0].crs)\n",
    "\n",
    "# Convert\n",
    "reproj = df1_layers[0].to_crs(epsg=32629)\n",
    "print(reproj.crs)\n",
    "\n",
    "# Well, that was easy"
   ]
  },
  {
   "cell_type": "code",
   "execution_count": null,
   "metadata": {},
   "outputs": [],
   "source": [
    "df1_layers[1].plot()"
   ]
  },
  {
   "cell_type": "code",
   "execution_count": null,
   "metadata": {},
   "outputs": [],
   "source": []
  }
 ],
 "metadata": {
  "kernelspec": {
   "display_name": "Python 3.9.13 64-bit ('data-engineering')",
   "language": "python",
   "name": "python3"
  },
  "language_info": {
   "codemirror_mode": {
    "name": "ipython",
    "version": 3
   },
   "file_extension": ".py",
   "mimetype": "text/x-python",
   "name": "python",
   "nbconvert_exporter": "python",
   "pygments_lexer": "ipython3",
   "version": "3.9.13"
  },
  "vscode": {
   "interpreter": {
    "hash": "f1ddef93d247b3dcfc26b05888e976ae1f598bf90994fc760176814beaeb6372"
   }
  }
 },
 "nbformat": 4,
 "nbformat_minor": 2
}
