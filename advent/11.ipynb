{
 "cells": [
  {
   "cell_type": "code",
   "execution_count": 1,
   "metadata": {},
   "outputs": [],
   "source": [
    "import re\n",
    "import numpy as np\n",
    "import utils\n",
    "\n",
    "import copy\n",
    "\n",
    "utils.get_input(11)"
   ]
  },
  {
   "cell_type": "code",
   "execution_count": 2,
   "metadata": {},
   "outputs": [],
   "source": [
    "data = [list(x) for x in utils.get_local_input(\"inputs_11.txt\", True)]\n",
    "test = [list(x) for x in utils.get_local_input(\"test_11.txt\", True)]"
   ]
  },
  {
   "cell_type": "code",
   "execution_count": 125,
   "metadata": {},
   "outputs": [
    {
     "name": "stdout",
     "output_type": "stream",
     "text": [
      "2310\n"
     ]
    }
   ],
   "source": [
    "option = copy.deepcopy(data)\n",
    "width = len(option[0])\n",
    "length = len(option)\n",
    "\n",
    "def row_by_row(plan, width, length):\n",
    "    \"\"\"Is there a clever way to do edges and corners?\"\"\"\n",
    "    counts = [[0 for col in range(width)] for row in range(length)] \n",
    "    for y in range(length):\n",
    "        for x in range(width):\n",
    "            occupied = plan[y][x] == \"#\"\n",
    "            if occupied:\n",
    "                if x > 0 and y > 0:\n",
    "                    counts[y-1][x-1] += 1\n",
    "                if x > 0:\n",
    "                    counts[y][x-1] += 1\n",
    "                if x > 0 and y < length - 1:\n",
    "                    counts[y+1][x-1] += 1\n",
    "                if y > 0 and x < width - 1:\n",
    "                    counts[y-1][x+1] += 1\n",
    "                if x < width - 1:\n",
    "                    counts[y][x+1] += 1\n",
    "                if y < length - 1 and x < width - 1:\n",
    "                    counts[y+1][x+1] += 1\n",
    "                if y > 0:\n",
    "                    counts[y-1][x] += 1\n",
    "                if y < length - 1:\n",
    "                    counts[y+1][x] += 1\n",
    "\n",
    "    changed = False\n",
    "    for y in range(length):\n",
    "        for x in range(width):\n",
    "            if plan[y][x] == \"#\" and counts[y][x] >= 4:\n",
    "                plan[y][x] = \"L\"\n",
    "                changed = True\n",
    "            elif plan[y][x] == \"L\" and counts[y][x] == 0:\n",
    "                plan[y][x] = \"#\"\n",
    "                changed = True\n",
    "    return changed\n",
    "\n",
    "change = True\n",
    "while change:\n",
    "    change = row_by_row(option, len(option[0]), len(option))\n",
    "        \n",
    "print(sum([row.count(\"#\") for row in option]))"
   ]
  },
  {
   "cell_type": "code",
   "execution_count": 52,
   "metadata": {},
   "outputs": [],
   "source": [
    "def sightlines(y, x, plan, width, length):\n",
    "    \"\"\"Why didn't I do part one this way?\"\"\"\n",
    "    seat = plan[y][x]\n",
    "    if seat == \".\":\n",
    "        return \".\"\n",
    "    total = 0\n",
    "    directions = [(0, 1), (0, -1), (1, -1), (1, 0), (1, 1), (-1, -1), (-1, 0), (-1, 1)]\n",
    "    for d in directions:\n",
    "        current = [y, x]\n",
    "        status = \".\"\n",
    "        while status == \".\":\n",
    "            current = [current[0] + d[0], current[1] + d[1]]\n",
    "            if 0 <= current[0] < length and 0 <= current[1] < width:\n",
    "                status = plan[current[0]][current[1]]\n",
    "                if status == \"#\":\n",
    "                    total +=1\n",
    "            else:\n",
    "                break\n",
    "    if total == 0 and seat == \"L\":\n",
    "        return \"#\"\n",
    "    elif total >= 5 and seat == \"#\":\n",
    "        return \"L\"\n",
    "    else:\n",
    "        return seat"
   ]
  },
  {
   "cell_type": "code",
   "execution_count": 56,
   "metadata": {},
   "outputs": [
    {
     "name": "stdout",
     "output_type": "stream",
     "text": [
      "2074\n"
     ]
    }
   ],
   "source": [
    "current = copy.deepcopy(data)\n",
    "width = len(current[0])\n",
    "length = len(current)\n",
    "\n",
    "while True:\n",
    "    new = copy.deepcopy(current)\n",
    "    for y in range(length):\n",
    "        for x in range(width):\n",
    "            new[y][x] = sightlines(y, x, current, width, length)\n",
    "    if new == current:\n",
    "        print(sum([row.count(\"#\") for row in current]))\n",
    "        break\n",
    "    else:\n",
    "        current = copy.deepcopy(new)\n"
   ]
  },
  {
   "cell_type": "code",
   "execution_count": null,
   "metadata": {},
   "outputs": [],
   "source": []
  }
 ],
 "metadata": {
  "kernelspec": {
   "display_name": "scrapbook",
   "language": "python",
   "name": "scrapbook"
  },
  "language_info": {
   "codemirror_mode": {
    "name": "ipython",
    "version": 3
   },
   "file_extension": ".py",
   "mimetype": "text/x-python",
   "name": "python",
   "nbconvert_exporter": "python",
   "pygments_lexer": "ipython3",
   "version": "3.8.5"
  }
 },
 "nbformat": 4,
 "nbformat_minor": 4
}
