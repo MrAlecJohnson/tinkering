{
 "cells": [
  {
   "cell_type": "code",
   "execution_count": 3,
   "metadata": {},
   "outputs": [],
   "source": [
    "import copy\n",
    "import re\n",
    "import utils\n",
    "\n",
    "from itertools import chain\n",
    "\n",
    "utils.get_input(17)"
   ]
  },
  {
   "cell_type": "code",
   "execution_count": 12,
   "metadata": {},
   "outputs": [],
   "source": [
    "data = utils.get_local_input(\"inputs_17.txt\", True)\n",
    "test = [\n",
    "    \".#.\",\n",
    "    \"..#\",\n",
    "    \"###\",\n",
    "]"
   ]
  },
  {
   "cell_type": "code",
   "execution_count": 21,
   "metadata": {},
   "outputs": [],
   "source": [
    "# 3d version\n",
    "def set_up(data):\n",
    "    result = {}\n",
    "    for i, cube_row in enumerate(data):\n",
    "        for j, cube in enumerate(cube_row):\n",
    "            result[(j, i, 0)] = False if cube == \".\" else True\n",
    "    return result\n",
    "\n",
    "\n",
    "def set_status(cubes, x, y, z):\n",
    "    status = cubes.get((x, y, z), False)\n",
    "    count = 0\n",
    "    for zs in range(z - 1, z + 2):\n",
    "        for ys in range(y - 1, y + 2):\n",
    "            for xs in range(x - 1, x + 2):\n",
    "                if cubes.get((xs, ys, zs), False):\n",
    "                    count += 1\n",
    "    # adjust for self\n",
    "    if status:\n",
    "        count -= 1\n",
    "        return count in [2, 3]\n",
    "    else:\n",
    "        return count == 3\n",
    "            \n",
    "    \n",
    "def iterate(cubes):\n",
    "    zs = [c[2] for c in cubes]\n",
    "    ys = [c[1] for c in cubes]\n",
    "    xs = [c[0] for c in cubes]\n",
    "    new = {}\n",
    "    for z in range(min(zs) - 1, max(zs) + 2):\n",
    "        for y in range(min(ys) - 1, max(ys) + 2):\n",
    "            for x in range(min(xs) - 1, max(xs) + 2):\n",
    "                new[(x, y, z)] = set_status(cubes, x, y, z)\n",
    "    return new"
   ]
  },
  {
   "cell_type": "code",
   "execution_count": 22,
   "metadata": {},
   "outputs": [
    {
     "name": "stdout",
     "output_type": "stream",
     "text": [
      "273\n"
     ]
    }
   ],
   "source": [
    "result = set_up(data)\n",
    "for i in range(6):\n",
    "    result = iterate(result)\n",
    "    \n",
    "print(sum(result.values()))"
   ]
  },
  {
   "cell_type": "code",
   "execution_count": 24,
   "metadata": {},
   "outputs": [],
   "source": [
    "# 4d version\n",
    "def set_up(data):\n",
    "    result = {}\n",
    "    for i, cube_row in enumerate(data):\n",
    "        for j, cube in enumerate(cube_row):\n",
    "            result[(j, i, 0, 0)] = False if cube == \".\" else True\n",
    "    return result\n",
    "\n",
    "\n",
    "def set_status(cubes, w, x, y, z):\n",
    "    status = cubes.get((w, x, y, z), False)\n",
    "    count = 0\n",
    "    for zs in range(z - 1, z + 2):\n",
    "        for ys in range(y - 1, y + 2):\n",
    "            for xs in range(x - 1, x + 2):\n",
    "                for ws in range(w - 1, w + 2):\n",
    "                    if cubes.get((ws, xs, ys, zs), False):\n",
    "                        count += 1\n",
    "    # adjust for self\n",
    "    if status:\n",
    "        count -= 1\n",
    "        return count in [2, 3]\n",
    "    else:\n",
    "        return count == 3\n",
    "            \n",
    "    \n",
    "def iterate(cubes):\n",
    "    zs = [c[3] for c in cubes]\n",
    "    ys = [c[2] for c in cubes]\n",
    "    xs = [c[1] for c in cubes]\n",
    "    ws = [c[0] for c in cubes]\n",
    "    new = {}\n",
    "    for z in range(min(zs) - 1, max(zs) + 2):\n",
    "        for y in range(min(ys) - 1, max(ys) + 2):\n",
    "            for x in range(min(xs) - 1, max(xs) + 2):\n",
    "                for w in range(min(ws) - 1, max(ws) + 2):\n",
    "                    new[(w, x, y, z)] = set_status(cubes, w, x, y, z)\n",
    "    return new"
   ]
  },
  {
   "cell_type": "code",
   "execution_count": 26,
   "metadata": {},
   "outputs": [
    {
     "name": "stdout",
     "output_type": "stream",
     "text": [
      "1504\n"
     ]
    }
   ],
   "source": [
    "result = set_up(data)\n",
    "for i in range(6):\n",
    "    result = iterate(result)\n",
    "    \n",
    "print(sum(result.values()))"
   ]
  },
  {
   "cell_type": "code",
   "execution_count": null,
   "metadata": {},
   "outputs": [],
   "source": []
  }
 ],
 "metadata": {
  "kernelspec": {
   "display_name": "scrapbook",
   "language": "python",
   "name": "scrapbook"
  },
  "language_info": {
   "codemirror_mode": {
    "name": "ipython",
    "version": 3
   },
   "file_extension": ".py",
   "mimetype": "text/x-python",
   "name": "python",
   "nbconvert_exporter": "python",
   "pygments_lexer": "ipython3",
   "version": "3.8.5"
  }
 },
 "nbformat": 4,
 "nbformat_minor": 4
}
