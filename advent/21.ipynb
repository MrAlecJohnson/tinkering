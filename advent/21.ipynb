{
 "cells": [
  {
   "cell_type": "code",
   "execution_count": 1,
   "metadata": {},
   "outputs": [],
   "source": [
    "import copy\n",
    "import re\n",
    "import utils\n",
    "\n",
    "utils.get_input(21)"
   ]
  },
  {
   "cell_type": "code",
   "execution_count": 2,
   "metadata": {},
   "outputs": [],
   "source": [
    "data = [d.strip(\") \").split(\"(\") for d in utils.get_local_input(\"inputs_21.txt\", True)]\n",
    "test = [t.strip(\") \").split(\"(\") for t in [\n",
    "    \"mxmxvkd kfcds sqjhc nhms (contains dairy, fish)\",\n",
    "    \"trh fvjkl sbzzf mxmxvkd (contains dairy)\",\n",
    "    \"sqjhc fvjkl (contains soy)\",\n",
    "    \"sqjhc mxmxvkd sbzzf (contains fish)\"\n",
    "]]"
   ]
  },
  {
   "cell_type": "code",
   "execution_count": 29,
   "metadata": {},
   "outputs": [],
   "source": [
    "use = data\n",
    "foods = [(set(u[0].split()), u[1].replace(\"contains \", \"\").split(\", \")[:]) for u in use]"
   ]
  },
  {
   "cell_type": "code",
   "execution_count": 74,
   "metadata": {},
   "outputs": [],
   "source": [
    "# Oh, I guess I could do this as a scan algorithm rather than working it all out\n",
    "# But maybe this will help with part 2\n",
    "allergens = {}\n",
    "ingredients = set()\n",
    "for food in foods:\n",
    "    ingredients.update(food[0])\n",
    "    for f in food[1]:\n",
    "        allergens[f] = allergens.get(f, food[0]) & food[0]\n",
    "        \n",
    "potential = set.union(*list(allergens.values()))\n",
    "safe = ingredients - potential"
   ]
  },
  {
   "cell_type": "code",
   "execution_count": 75,
   "metadata": {},
   "outputs": [
    {
     "data": {
      "text/plain": [
       "1685"
      ]
     },
     "execution_count": 75,
     "metadata": {},
     "output_type": "execute_result"
    }
   ],
   "source": [
    "total = 0\n",
    "for f in foods:\n",
    "    total += len(set.intersection(f[0], safe))\n",
    "    \n",
    "total"
   ]
  },
  {
   "cell_type": "code",
   "execution_count": 76,
   "metadata": {},
   "outputs": [
    {
     "name": "stdout",
     "output_type": "stream",
     "text": [
      "fish {'xmhsbd', 'nhx', 'chbtp', 'ntft'}\n",
      "soy {'kfxr', 'chbtp'}\n",
      "nuts {'kfxr'}\n",
      "wheat {'xmhsbd', 'xzhxj', 'cqvc'}\n",
      "peanuts {'kfxr', 'xmhsbd'}\n",
      "sesame {'rrjb', 'chbtp', 'ntft'}\n",
      "shellfish {'xzhxj', 'chbtp'}\n",
      "eggs {'kfxr', 'xzhxj', 'ntft'}\n",
      "\n"
     ]
    },
    {
     "data": {
      "text/plain": [
       "{'nuts': 'kfxr',\n",
       " 'peanuts': 'xmhsbd',\n",
       " 'soy': 'chbtp',\n",
       " 'shellfish': 'xzhxj',\n",
       " 'eggs': 'ntft',\n",
       " 'fish': 'nhx',\n",
       " 'wheat': 'cqvc',\n",
       " 'sesame': 'rrjb'}"
      ]
     },
     "execution_count": 76,
     "metadata": {},
     "output_type": "execute_result"
    }
   ],
   "source": [
    "solved = {}\n",
    "target = len(allergens)\n",
    "for a in allergens:\n",
    "    print(a, allergens[a])\n",
    "print()\n",
    "\n",
    "while allergens:\n",
    "    for a in allergens.keys():\n",
    "        if isinstance(allergens[a], set):\n",
    "            if len(allergens[a]) == 1:\n",
    "                (ingredient,) = allergens[a]\n",
    "                solved[a] = ingredient\n",
    "                for b in allergens.keys():\n",
    "                    allergens[b].discard(ingredient)\n",
    "     \n",
    "    new = {a: b for a, b in allergens.items() if len(b) > 0}\n",
    "    if new == allergens:\n",
    "        print(\"Reached an impasse\")\n",
    "        print(allergens)\n",
    "        break\n",
    "\n",
    "    else:\n",
    "        allergens = new\n",
    "solved"
   ]
  },
  {
   "cell_type": "code",
   "execution_count": 77,
   "metadata": {},
   "outputs": [
    {
     "name": "stdout",
     "output_type": "stream",
     "text": [
      "ntft,nhx,kfxr,xmhsbd,rrjb,xzhxj,chbtp,cqvc\n"
     ]
    }
   ],
   "source": [
    "result = sorted([(k, v) for k, v in solved.items()], key=lambda x: x[0])\n",
    "print(\",\".join([r[1] for r in result]))"
   ]
  },
  {
   "cell_type": "code",
   "execution_count": null,
   "metadata": {},
   "outputs": [],
   "source": []
  }
 ],
 "metadata": {
  "kernelspec": {
   "display_name": "scrapbook",
   "language": "python",
   "name": "scrapbook"
  },
  "language_info": {
   "codemirror_mode": {
    "name": "ipython",
    "version": 3
   },
   "file_extension": ".py",
   "mimetype": "text/x-python",
   "name": "python",
   "nbconvert_exporter": "python",
   "pygments_lexer": "ipython3",
   "version": "3.8.5"
  }
 },
 "nbformat": 4,
 "nbformat_minor": 4
}
