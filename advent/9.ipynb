{
 "cells": [
  {
   "cell_type": "code",
   "execution_count": 1,
   "metadata": {},
   "outputs": [],
   "source": [
    "import re\n",
    "\n",
    "import utils"
   ]
  },
  {
   "cell_type": "code",
   "execution_count": 2,
   "metadata": {},
   "outputs": [],
   "source": [
    "utils.get_input(9)"
   ]
  },
  {
   "cell_type": "code",
   "execution_count": 18,
   "metadata": {},
   "outputs": [],
   "source": [
    "data = [int(d) for d in utils.get_local_input(\"inputs_9.txt\", True)]\n",
    "test = [int(t) for t in utils.get_local_input(\"test_9.txt\", True)]"
   ]
  },
  {
   "cell_type": "code",
   "execution_count": 21,
   "metadata": {},
   "outputs": [
    {
     "data": {
      "text/plain": [
       "32321523"
      ]
     },
     "execution_count": 21,
     "metadata": {},
     "output_type": "execute_result"
    }
   ],
   "source": [
    "# after yesterday, I'm keeping this simple - not even clever sorting and pairing of window values\n",
    "def is_valid(value, window):\n",
    "    for i in range(len(window) - 1):\n",
    "        for j in range(i+1, len(window)):\n",
    "            if window[i] + window[j] == value:\n",
    "                return True\n",
    "    return False\n",
    "\n",
    "def find_weakness(numbers, window_size):\n",
    "    window = []\n",
    "    for i in range(window_size):\n",
    "        window.append(numbers[i])\n",
    "    for i in numbers[window_size:]:\n",
    "        if is_valid(i, window):\n",
    "            window.pop(0)\n",
    "            window.append(i)\n",
    "        else:\n",
    "            return i\n",
    "\n",
    "find_weakness(data, 25)"
   ]
  },
  {
   "cell_type": "code",
   "execution_count": 24,
   "metadata": {},
   "outputs": [
    {
     "data": {
      "text/plain": [
       "4794981"
      ]
     },
     "execution_count": 24,
     "metadata": {},
     "output_type": "execute_result"
    }
   ],
   "source": [
    "# Part 2 - I'm sure there's an O(n) solution but I'm not going to find it now\n",
    "target = 32321523\n",
    "\n",
    "def find_range(data, target):\n",
    "    size = len(data)\n",
    "    left = 0\n",
    "    right = 0\n",
    "    total = 0\n",
    "    while left < size:\n",
    "        current = sum(data[left:right])\n",
    "        if current == target:\n",
    "            answer_range = data[left:right]\n",
    "            return min(answer_range) + max(answer_range)\n",
    "\n",
    "        elif current < target and right < size:\n",
    "            right += 1\n",
    "               \n",
    "        else:\n",
    "            left += 1\n",
    "\n",
    "find_range(data, target)"
   ]
  },
  {
   "cell_type": "code",
   "execution_count": null,
   "metadata": {},
   "outputs": [],
   "source": []
  }
 ],
 "metadata": {
  "kernelspec": {
   "display_name": "scrapbook",
   "language": "python",
   "name": "scrapbook"
  },
  "language_info": {
   "codemirror_mode": {
    "name": "ipython",
    "version": 3
   },
   "file_extension": ".py",
   "mimetype": "text/x-python",
   "name": "python",
   "nbconvert_exporter": "python",
   "pygments_lexer": "ipython3",
   "version": "3.8.5"
  }
 },
 "nbformat": 4,
 "nbformat_minor": 4
}
