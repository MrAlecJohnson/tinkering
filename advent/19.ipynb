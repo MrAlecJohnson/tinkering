{
 "cells": [
  {
   "cell_type": "code",
   "execution_count": 1,
   "metadata": {},
   "outputs": [],
   "source": [
    "import copy\n",
    "import re\n",
    "import utils\n",
    "\n",
    "from itertools import chain\n",
    "\n",
    "utils.get_input(19)"
   ]
  },
  {
   "cell_type": "code",
   "execution_count": 2,
   "metadata": {},
   "outputs": [],
   "source": [
    "data = utils.get_local_input(\"inputs_19.txt\", True)\n",
    "test = [\n",
    "    '0: 4 1 5',\n",
    "    '1: 2 3 | 3 2',\n",
    "    '2: 4 4 | 5 5',\n",
    "    '3: 4 5 | 5 4',\n",
    "    '4: \"a\"',\n",
    "    '5: \"b\"',\n",
    "    '',\n",
    "    'ababbb',\n",
    "    'bababa',\n",
    "    'abbbab',\n",
    "    'aaabbb',\n",
    "    'aaaabbb',\n",
    "]"
   ]
  },
  {
   "cell_type": "code",
   "execution_count": 3,
   "metadata": {},
   "outputs": [],
   "source": [
    "use = test\n",
    "blank = use.index(\"\")\n",
    "rules = {}\n",
    "strings = use[blank + 1:]\n",
    "\n",
    "for u in use[:blank]:\n",
    "    divider = re.search('^(\\d+): (.*)$', u)\n",
    "    num, rule = int(divider.group(1)), divider.group(2).replace('\"', '').strip()\n",
    "    rules[num] = rule"
   ]
  },
  {
   "cell_type": "code",
   "execution_count": 4,
   "metadata": {},
   "outputs": [
    {
     "data": {
      "text/plain": [
       "{0: '4 1 5', 1: '2 3 | 3 2', 2: '4 4 | 5 5', 3: '4 5 | 5 4', 4: 'a', 5: 'b'}"
      ]
     },
     "execution_count": 4,
     "metadata": {},
     "output_type": "execute_result"
    }
   ],
   "source": [
    "rules"
   ]
  },
  {
   "cell_type": "code",
   "execution_count": null,
   "metadata": {},
   "outputs": [],
   "source": [
    "permitted = []\n",
    "\n",
    "def pattern(rules, rule=0, so_far=\"\"):\n",
    "    if \"|\" in rule:\n",
    "        [pattern(rules, int(r.strip()), so_far) for r in rules[rule].split(\"|\")]\n",
    "    elif rules[rule] in [\"a\", \"b\"]:\n",
    "        return so_far + rules[rule]\n",
    "    else:\n",
    "        for step in [int(r) for r in rules[rule].split()]:\n",
    "            return so_far + pattern(rules, rule[step])\n",
    "    \n",
    "\n",
    "    \n",
    "    "
   ]
  },
  {
   "cell_type": "code",
   "execution_count": null,
   "metadata": {},
   "outputs": [],
   "source": [
    "def check_rule(rule, text):\n"
   ]
  },
  {
   "cell_type": "code",
   "execution_count": null,
   "metadata": {},
   "outputs": [],
   "source": []
  }
 ],
 "metadata": {
  "kernelspec": {
   "display_name": "scrapbook",
   "language": "python",
   "name": "scrapbook"
  },
  "language_info": {
   "codemirror_mode": {
    "name": "ipython",
    "version": 3
   },
   "file_extension": ".py",
   "mimetype": "text/x-python",
   "name": "python",
   "nbconvert_exporter": "python",
   "pygments_lexer": "ipython3",
   "version": "3.8.5"
  }
 },
 "nbformat": 4,
 "nbformat_minor": 4
}
