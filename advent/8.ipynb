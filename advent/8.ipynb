{
 "cells": [
  {
   "cell_type": "code",
   "execution_count": 11,
   "metadata": {},
   "outputs": [],
   "source": [
    "import re\n",
    "\n",
    "import utils"
   ]
  },
  {
   "cell_type": "code",
   "execution_count": 2,
   "metadata": {},
   "outputs": [],
   "source": [
    "utils.get_input(8)"
   ]
  },
  {
   "cell_type": "code",
   "execution_count": 132,
   "metadata": {},
   "outputs": [],
   "source": [
    "instructions = utils.get_local_input(\"inputs_8.txt\", True)"
   ]
  },
  {
   "cell_type": "code",
   "execution_count": 79,
   "metadata": {},
   "outputs": [],
   "source": [
    "# Sod it, let's make a binary tree\n",
    "class Repeat(Exception): pass\n",
    "\n",
    "class Node:\n",
    "    def __init__(self, data):\n",
    "        self.left = None\n",
    "        self.right = None\n",
    "        self.data = data\n",
    "        \n",
    "    def find_repeat(self, value):\n",
    "        if self.data is None:\n",
    "            #print(f\"Adding {value}\")\n",
    "            self.data = value\n",
    "        else:\n",
    "            if value > self.data:\n",
    "                #print(f\"Moving right from {self.data} to {value}\")\n",
    "                if self.right is None:\n",
    "                    self.right = Node(value)\n",
    "                else:\n",
    "                    self.right.find_repeat(value)\n",
    "            elif value < self.data:\n",
    "                #print(f\"Moving left from {self.data} to {value}\")\n",
    "                if self.left is None:\n",
    "                    self.left = Node(value)\n",
    "                else:\n",
    "                    self.left.find_repeat(value)\n",
    "            else:  # break loop if node already has that value\n",
    "                raise Repeat(\"Node already in tree - breaking loop\")"
   ]
  },
  {
   "cell_type": "code",
   "execution_count": 80,
   "metadata": {},
   "outputs": [
    {
     "name": "stdout",
     "output_type": "stream",
     "text": [
      "Repeating!\n"
     ]
    }
   ],
   "source": [
    "test = Node(0)\n",
    "test.find_repeat(5)\n",
    "test.find_repeat(10)\n",
    "try:\n",
    "    test.find_repeat(5)\n",
    "except Repeat:\n",
    "    print(\"Repeating!\")"
   ]
  },
  {
   "cell_type": "code",
   "execution_count": 81,
   "metadata": {},
   "outputs": [
    {
     "name": "stdout",
     "output_type": "stream",
     "text": [
      "About to revisit instruction 430\n",
      "Current accumulator = 1331\n"
     ]
    }
   ],
   "source": [
    "tree = Node(0)\n",
    "total = 0\n",
    "position = 0\n",
    "\n",
    "while True:\n",
    "    instruction = instructions[position]\n",
    "    code = instruction[:5]\n",
    "    value = int(instruction[5:])\n",
    "    if code[:3] == \"nop\":\n",
    "        position += 1\n",
    "    elif code == \"acc +\":\n",
    "        total += value\n",
    "        position += 1\n",
    "    elif code == \"acc -\":\n",
    "        total -= value\n",
    "        position += 1\n",
    "    elif code == \"jmp +\":\n",
    "        position += value\n",
    "    elif code == \"jmp -\":\n",
    "        position -= value\n",
    "    else:\n",
    "        print(\"Not a valid instruction. Ending programme.\")\n",
    "        print(f\"Current position = {tree.data}\")\n",
    "        break\n",
    "    try:\n",
    "        tree.find_repeat(position)\n",
    "    except:\n",
    "        break\n",
    "        \n",
    "print(f\"About to revisit instruction {position}\")\n",
    "print(f\"Current accumulator = {total}\")\n"
   ]
  },
  {
   "cell_type": "code",
   "execution_count": 111,
   "metadata": {},
   "outputs": [],
   "source": [
    "test = [\n",
    "    \"nop +0\",\n",
    "    \"acc +1\",\n",
    "    \"jmp +4\",\n",
    "    \"acc +3\",\n",
    "    \"jmp -3\",\n",
    "    \"acc -99\",\n",
    "    \"acc +1\",\n",
    "    \"jmp -4\",\n",
    "    \"acc +6\",\n",
    "]"
   ]
  },
  {
   "cell_type": "code",
   "execution_count": 137,
   "metadata": {},
   "outputs": [],
   "source": [
    "from copy import deepcopy\n",
    "#instructions = test\n",
    "\n",
    "# Part 2\n",
    "goal = len(instructions)\n",
    "\n",
    "def run(total, position, tree, alt=False):\n",
    "    instruction = instructions[position]\n",
    "    #print(instruction)\n",
    "    code = instruction[:5]\n",
    "    value = int(instruction[5:])\n",
    "\n",
    "    position_alt = None\n",
    "    if code == \"nop +\":\n",
    "        position_alt = position + value\n",
    "        position += 1\n",
    "    elif code == \"nop -\":\n",
    "        position_alt = position - value\n",
    "        position += 1\n",
    "    elif code == \"acc +\":\n",
    "        total += int(instruction[5:])\n",
    "        position += 1\n",
    "    elif code == \"acc -\":\n",
    "        total -= int(instruction[5:])\n",
    "        position += 1\n",
    "    elif code == \"jmp +\":\n",
    "        position_alt = position + 1\n",
    "        position += int(instruction[5:])\n",
    "    elif code == \"jmp -\":\n",
    "        position_alt = position + 1\n",
    "        position -= int(instruction[5:])\n",
    "    \n",
    "    if position == goal or (not alt and position_alt == goal):\n",
    "        print(f\"About to reach instruction {goal}\")\n",
    "        print(f\"Current accumulator = {total}\")\n",
    "        return total\n",
    "    else:\n",
    "        if not alt and position_alt is not None:\n",
    "            new_tree = deepcopy(tree)\n",
    "            #print(f\"New branch, checking {position_alt}\")\n",
    "            try:\n",
    "                new_tree.find_repeat(position_alt)\n",
    "                run(total, position_alt, new_tree, True)\n",
    "            except Repeat:\n",
    "                #print(f\"Closing branch on {position_alt}\")\n",
    "                pass\n",
    "        try:\n",
    "            #print(f\"Checking {position}\")\n",
    "            tree.find_repeat(position)\n",
    "            run(total, position, tree, alt)\n",
    "        except Repeat:\n",
    "            #print(f\"Closing branch on {position}\")\n",
    "            pass"
   ]
  },
  {
   "cell_type": "code",
   "execution_count": 138,
   "metadata": {},
   "outputs": [
    {
     "name": "stdout",
     "output_type": "stream",
     "text": [
      "About to reach instruction 623\n",
      "Current accumulator = 1121\n"
     ]
    }
   ],
   "source": [
    "start = Node(0)\n",
    "run(0, 0, start)"
   ]
  },
  {
   "cell_type": "code",
   "execution_count": null,
   "metadata": {},
   "outputs": [],
   "source": []
  }
 ],
 "metadata": {
  "kernelspec": {
   "display_name": "scrapbook",
   "language": "python",
   "name": "scrapbook"
  },
  "language_info": {
   "codemirror_mode": {
    "name": "ipython",
    "version": 3
   },
   "file_extension": ".py",
   "mimetype": "text/x-python",
   "name": "python",
   "nbconvert_exporter": "python",
   "pygments_lexer": "ipython3",
   "version": "3.8.5"
  }
 },
 "nbformat": 4,
 "nbformat_minor": 4
}
