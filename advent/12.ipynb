{
 "cells": [
  {
   "cell_type": "code",
   "execution_count": 59,
   "metadata": {},
   "outputs": [],
   "source": [
    "import re\n",
    "import numpy as np\n",
    "import utils\n",
    "\n",
    "import copy\n",
    "\n",
    "utils.get_input(12)"
   ]
  },
  {
   "cell_type": "code",
   "execution_count": 66,
   "metadata": {},
   "outputs": [],
   "source": [
    "data = [(x[0],int(x[1:])) for x in utils.get_local_input(\"inputs_12.txt\", True)]\n",
    "test = [(x[0],int(x[1:])) for x in utils.get_local_input(\"test_12.txt\", True)]"
   ]
  },
  {
   "cell_type": "code",
   "execution_count": 69,
   "metadata": {},
   "outputs": [
    {
     "name": "stdout",
     "output_type": "stream",
     "text": [
      "1424\n"
     ]
    }
   ],
   "source": [
    "x = 0\n",
    "y = 0\n",
    "direction = 90\n",
    "for i in data:\n",
    "    if i[0] == \"N\":\n",
    "        y += i[1]\n",
    "    elif i[0] == \"E\":\n",
    "        x += i[1]\n",
    "    elif i[0] == \"S\":\n",
    "        y -= i[1]\n",
    "    elif i[0] == \"W\":\n",
    "        x -= i[1]\n",
    "    elif i[0] == \"F\":\n",
    "        if direction == 0:\n",
    "            y += i[1]\n",
    "        elif direction == 90:\n",
    "            x += i[1]\n",
    "        elif direction == 180:\n",
    "            y -= i[1]\n",
    "        elif direction == 270:\n",
    "            x -= i[1]\n",
    "    elif i[0] == \"L\":\n",
    "        direction = (direction - i[1]) % 360\n",
    "    elif i[0] == \"R\":\n",
    "        direction = (direction + i[1]) % 360\n",
    "        \n",
    "print(abs(x) + abs(y))"
   ]
  },
  {
   "cell_type": "code",
   "execution_count": 74,
   "metadata": {},
   "outputs": [
    {
     "name": "stdout",
     "output_type": "stream",
     "text": [
      "63447\n"
     ]
    }
   ],
   "source": [
    "# start = 10, 1\n",
    "x = 10\n",
    "y = 1\n",
    "moved_x = 0\n",
    "moved_y = 0\n",
    "direction = 90\n",
    "for i in data:\n",
    "    if i[0] == \"N\":\n",
    "        y += i[1]\n",
    "    elif i[0] == \"E\":\n",
    "        x += i[1]\n",
    "    elif i[0] == \"S\":\n",
    "        y -= i[1]\n",
    "    elif i[0] == \"W\":\n",
    "        x -= i[1]\n",
    "    elif i[0] == \"F\":\n",
    "        moved_x += x * i[1]\n",
    "        moved_y += y * i[1]\n",
    "    elif i[0] == \"R\":\n",
    "        times = int(i[1] / 90)\n",
    "        for t in range(times):\n",
    "            y, x = -x, y\n",
    "    elif i[0] == \"L\":\n",
    "        times = int(i[1] / 90)\n",
    "        for t in range(times):\n",
    "            y, x = x, -y\n",
    "\n",
    "print(abs(moved_x) + abs(moved_y))\n"
   ]
  },
  {
   "cell_type": "code",
   "execution_count": null,
   "metadata": {},
   "outputs": [],
   "source": []
  }
 ],
 "metadata": {
  "kernelspec": {
   "display_name": "scrapbook",
   "language": "python",
   "name": "scrapbook"
  },
  "language_info": {
   "codemirror_mode": {
    "name": "ipython",
    "version": 3
   },
   "file_extension": ".py",
   "mimetype": "text/x-python",
   "name": "python",
   "nbconvert_exporter": "python",
   "pygments_lexer": "ipython3",
   "version": "3.8.5"
  }
 },
 "nbformat": 4,
 "nbformat_minor": 4
}
