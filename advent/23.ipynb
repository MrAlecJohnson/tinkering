{
 "cells": [
  {
   "cell_type": "code",
   "execution_count": 1,
   "metadata": {},
   "outputs": [],
   "source": [
    "import copy\n",
    "import re\n",
    "import utils\n",
    "\n",
    "from itertools import chain\n",
    "\n",
    "utils.get_input(23)"
   ]
  },
  {
   "cell_type": "code",
   "execution_count": 2,
   "metadata": {},
   "outputs": [],
   "source": [
    "data = [int(d.strip()) for d in utils.get_local_input(\"inputs_23.txt\", False).strip()]"
   ]
  },
  {
   "cell_type": "code",
   "execution_count": 10,
   "metadata": {},
   "outputs": [
    {
     "data": {
      "text/plain": [
       "[2, 1, 9, 3, 4, 7, 8, 6, 5]"
      ]
     },
     "execution_count": 10,
     "metadata": {},
     "output_type": "execute_result"
    }
   ],
   "source": [
    "# 100 moves\n",
    "# pick up the three after current\n",
    "# target = current label - 1; if just removed, continue to sub 1 until finding a target\n",
    "# if value below min, wrap around\n",
    "# place 3 lifted cups after target, in same order\n",
    "# repeat with current as next one along\n",
    "# start answer after the one labelled 1\n",
    "current = 0\n",
    "\n",
    "def rearrange(cups, current=0):\n",
    "    new = copy.copy(cups)\n",
    "    movers = [\n",
    "        cups.pop(current + 1 % len(cups))\n",
    "        cups.pop(current + 1 % len(cups))\n",
    "        cups.pop(current + 1 % len(cups))\n",
    "    ]\n",
    "    lowest = min(current)\n",
    "    target = current - 1 \n",
    "    while target in movers:\n",
    "        target -= 1 % max(current)\n",
    "\n",
    "#((x-1) + k) % k"
   ]
  },
  {
   "cell_type": "code",
   "execution_count": 24,
   "metadata": {},
   "outputs": [],
   "source": [
    "test = [1, 2, 3, 4]\n",
    "new = 2"
   ]
  },
  {
   "cell_type": "code",
   "execution_count": 31,
   "metadata": {},
   "outputs": [
    {
     "data": {
      "text/plain": [
       "0"
      ]
     },
     "execution_count": 31,
     "metadata": {},
     "output_type": "execute_result"
    }
   ],
   "source": [
    "new = (new - 1) % min(test)\n",
    "new"
   ]
  },
  {
   "cell_type": "code",
   "execution_count": null,
   "metadata": {},
   "outputs": [],
   "source": []
  }
 ],
 "metadata": {
  "kernelspec": {
   "display_name": "scrapbook",
   "language": "python",
   "name": "scrapbook"
  },
  "language_info": {
   "codemirror_mode": {
    "name": "ipython",
    "version": 3
   },
   "file_extension": ".py",
   "mimetype": "text/x-python",
   "name": "python",
   "nbconvert_exporter": "python",
   "pygments_lexer": "ipython3",
   "version": "3.8.5"
  }
 },
 "nbformat": 4,
 "nbformat_minor": 4
}
