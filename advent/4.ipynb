{
 "cells": [
  {
   "cell_type": "markdown",
   "metadata": {},
   "source": [
    "byr (Birth Year)\n",
    "iyr (Issue Year)\n",
    "eyr (Expiration Year)\n",
    "hgt (Height)\n",
    "hcl (Hair Color)\n",
    "ecl (Eye Color)\n",
    "pid (Passport ID)\n",
    "cid (Country ID) (ignore)\n",
    "\n",
    "ecl:gry pid:860033327 eyr:2020 hcl:#fffffd\n",
    "byr:1937 iyr:2017 cid:147 hgt:183cm\n",
    "\n",
    "iyr:2013 ecl:amb cid:350 eyr:2023 pid:028048884\n",
    "hcl:#cfa07d byr:1929\n",
    "\n",
    "hcl:#ae17e1 iyr:2013\n",
    "eyr:2024\n",
    "ecl:brn pid:760753108 byr:1931\n",
    "hgt:179cm\n",
    "\n",
    "hcl:#cfa07d eyr:2025 pid:166559648\n",
    "iyr:2011 ecl:brn hgt:59in"
   ]
  },
  {
   "cell_type": "code",
   "execution_count": 1,
   "metadata": {},
   "outputs": [],
   "source": [
    "import utils"
   ]
  },
  {
   "cell_type": "code",
   "execution_count": null,
   "metadata": {},
   "outputs": [],
   "source": [
    "utils.get_online_input(\"https://adventofcode.com/2020/day/4/input\", \"inputs_4.txt\")"
   ]
  },
  {
   "cell_type": "code",
   "execution_count": 2,
   "metadata": {},
   "outputs": [],
   "source": [
    "data = utils.get_local_input(\"inputs_4.txt\", False)\n",
    "single_line = \"\".join(data)\n",
    "passports = [{line[0:3] for line in p.replace(\"\\n\", \" \").split()} \n",
    "              for p in single_line.split(\"\\n\\n\")]"
   ]
  },
  {
   "cell_type": "code",
   "execution_count": 3,
   "metadata": {},
   "outputs": [
    {
     "name": "stdout",
     "output_type": "stream",
     "text": [
      "239\n"
     ]
    }
   ],
   "source": [
    "needed = {\"byr\", \"iyr\", \"eyr\", \"hgt\", \"hcl\", \"ecl\", \"pid\", \"cid\"}\n",
    "\n",
    "def is_valid(passport, needed):\n",
    "    return (needed - passport) in [{\"cid\"}, set()]\n",
    "\n",
    "print(sum([is_valid(p, needed) for p in passports]))"
   ]
  },
  {
   "cell_type": "markdown",
   "metadata": {},
   "source": [
    "byr (Birth Year) - four digits; at least 1920 and at most 2002.\n",
    "\n",
    "iyr (Issue Year) - four digits; at least 2010 and at most 2020.\n",
    "\n",
    "eyr (Expiration Year) - four digits; at least 2020 and at most 2030.\n",
    "\n",
    "hgt (Height) - a number followed by either cm or in:\n",
    "\n",
    "If cm, the number must be at least 150 and at most 193.\n",
    "\n",
    "If in, the number must be at least 59 and at most 76.\n",
    "\n",
    "hcl (Hair Color) - a # followed by exactly six characters 0-9 or a-f.\n",
    "\n",
    "ecl (Eye Color) - exactly one of: amb blu brn gry grn hzl oth.\n",
    "\n",
    "pid (Passport ID) - a nine-digit number, including leading zeroes."
   ]
  },
  {
   "cell_type": "code",
   "execution_count": 4,
   "metadata": {},
   "outputs": [],
   "source": [
    "passports = [{line[0:3]:line[4:] for line in p.replace(\"\\n\", \" \").split()} \n",
    "              for p in single_line.split(\"\\n\\n\")]"
   ]
  },
  {
   "cell_type": "code",
   "execution_count": 33,
   "metadata": {},
   "outputs": [],
   "source": [
    "import re\n",
    "\n",
    "def between(number, low, high):\n",
    "    return low <= int(number) <= high\n",
    "\n",
    "checks = {\n",
    "    \"byr\": lambda x: between(x, 1920, 2002),\n",
    "    \"iyr\": lambda x: between(x, 2010, 2020),\\\n",
    "    \"eyr\": lambda x: between(x, 2020, 2030),\n",
    "    \"hgt\": lambda x: (x[-2:] == \"cm\" and between(x[:-2], 150, 193)) or (x[-2:] == \"in\" and between(x[:-2], 59, 76)),\n",
    "    \"hcl\": lambda x: re.match(r\"^#[0-9abcdef]{6}$\", str(x)),\n",
    "    \"ecl\": lambda x: x in [\"amb\", \"blu\", \"brn\", \"gry\", \"grn\", \"hzl\", \"oth\"],\n",
    "    \"pid\": lambda x: re.match(r\"^\\d{9}$\", str(x)),\n",
    "    \"cid\": lambda x: True,\n",
    "}\n",
    "\n",
    "def full_check(passport, needed):\n",
    "    if is_valid(passport.keys(), needed):\n",
    "        return all([checks[k](v) for k, v in passport.items()])\n",
    "    else:\n",
    "        return False"
   ]
  },
  {
   "cell_type": "code",
   "execution_count": 34,
   "metadata": {},
   "outputs": [
    {
     "name": "stdout",
     "output_type": "stream",
     "text": [
      "188\n"
     ]
    }
   ],
   "source": [
    "print(sum([full_check(p, needed) for p in passports]))"
   ]
  },
  {
   "cell_type": "code",
   "execution_count": 35,
   "metadata": {},
   "outputs": [],
   "source": [
    "data = utils.get_local_input(\"test_4.txt\", False)\n",
    "single_line = \"\".join(data)\n",
    "tests = [{line[0:3]:line[4:] for line in p.replace(\"\\n\", \" \").split()} \n",
    "              for p in single_line.split(\"\\n\\n\")]"
   ]
  },
  {
   "cell_type": "code",
   "execution_count": 36,
   "metadata": {},
   "outputs": [
    {
     "name": "stdout",
     "output_type": "stream",
     "text": [
      "[False, False, False, False, True, True, True, True]\n"
     ]
    }
   ],
   "source": [
    "print([full_check(t, needed) for t in tests])"
   ]
  },
  {
   "cell_type": "code",
   "execution_count": null,
   "metadata": {},
   "outputs": [],
   "source": []
  }
 ],
 "metadata": {
  "kernelspec": {
   "display_name": "scrapbook",
   "language": "python",
   "name": "scrapbook"
  },
  "language_info": {
   "codemirror_mode": {
    "name": "ipython",
    "version": 3
   },
   "file_extension": ".py",
   "mimetype": "text/x-python",
   "name": "python",
   "nbconvert_exporter": "python",
   "pygments_lexer": "ipython3",
   "version": "3.8.5"
  }
 },
 "nbformat": 4,
 "nbformat_minor": 4
}
