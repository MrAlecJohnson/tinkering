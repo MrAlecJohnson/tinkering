{
 "cells": [
  {
   "cell_type": "code",
   "execution_count": 1,
   "metadata": {},
   "outputs": [],
   "source": [
    "import copy\n",
    "import re\n",
    "import utils\n",
    "\n",
    "from itertools import chain\n",
    "\n",
    "utils.get_input(18)"
   ]
  },
  {
   "cell_type": "code",
   "execution_count": 3,
   "metadata": {},
   "outputs": [],
   "source": [
    "data = utils.get_local_input(\"inputs_18.txt\", True)\n",
    "questions = [list(d.replace(\" \", \"\")) for d in data]"
   ]
  },
  {
   "cell_type": "code",
   "execution_count": 7,
   "metadata": {},
   "outputs": [
    {
     "data": {
      "text/plain": [
       "12240"
      ]
     },
     "execution_count": 7,
     "metadata": {},
     "output_type": "execute_result"
    }
   ],
   "source": [
    "# Perhaps a moving window?\n",
    "# Just do it simply - don't try to be clever\n",
    "import operator\n",
    "\n",
    "def calculate(question, window):\n",
    "    total = None\n",
    "    current_operator = None\n",
    "    \n",
    "    while window < len(question):\n",
    "        current = question[window]\n",
    "        if current == \"+\":\n",
    "            current_operator = operator.add\n",
    "            window += 1\n",
    "        elif current == \"*\":\n",
    "            current_operator = operator.mul\n",
    "            window += 1\n",
    "        elif current == \"(\":\n",
    "            subtotal, new_window = calculate(question, window + 1)\n",
    "            if current_operator:\n",
    "                total = current_operator(total, subtotal)\n",
    "            else:\n",
    "                total = subtotal\n",
    "            window = new_window\n",
    "        elif current == \")\":\n",
    "            return total, window + 1\n",
    "        else:\n",
    "            if not total:\n",
    "                total = int(current)\n",
    "            else:\n",
    "                total = current_operator(total, int(current))\n",
    "            window += 1\n",
    "    return total\n",
    "    \n",
    "test = \"2*3+(4*5)\"\n",
    "test2 = \"5 + (8 * 3 + 9 + 3 * 4 * 3)\".replace(\" \", \"\")\n",
    "test3 = \"5 * 9 * (7 * 3 * 3 + 9 * 3 + (8 + 6 * 4))\".replace(\" \", \"\")\n",
    "calculate(test3, 0)"
   ]
  },
  {
   "cell_type": "code",
   "execution_count": 8,
   "metadata": {},
   "outputs": [
    {
     "data": {
      "text/plain": [
       "75592527415659"
      ]
     },
     "execution_count": 8,
     "metadata": {},
     "output_type": "execute_result"
    }
   ],
   "source": [
    "sum([calculate(q, 0) for q in questions])"
   ]
  },
  {
   "cell_type": "code",
   "execution_count": null,
   "metadata": {},
   "outputs": [],
   "source": [
    "import operator\n",
    "\n",
    "def calculate(question, window):\n",
    "    total = None\n",
    "    multiplying = False\n",
    "    current_operator = None\n",
    "    \n",
    "# something to do with opening a virtual bracket when you hit a *"
   ]
  }
 ],
 "metadata": {
  "kernelspec": {
   "display_name": "scrapbook",
   "language": "python",
   "name": "scrapbook"
  },
  "language_info": {
   "codemirror_mode": {
    "name": "ipython",
    "version": 3
   },
   "file_extension": ".py",
   "mimetype": "text/x-python",
   "name": "python",
   "nbconvert_exporter": "python",
   "pygments_lexer": "ipython3",
   "version": "3.8.5"
  }
 },
 "nbformat": 4,
 "nbformat_minor": 4
}
