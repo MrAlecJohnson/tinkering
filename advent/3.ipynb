{
 "cells": [
  {
   "cell_type": "code",
   "execution_count": 2,
   "metadata": {},
   "outputs": [],
   "source": [
    "import utils"
   ]
  },
  {
   "cell_type": "code",
   "execution_count": null,
   "metadata": {},
   "outputs": [],
   "source": [
    "utils.get_online_input(\"https://adventofcode.com/2020/day/3/input\", \"inputs_3.txt\")"
   ]
  },
  {
   "cell_type": "code",
   "execution_count": 15,
   "metadata": {},
   "outputs": [],
   "source": [
    "slope = utils.get_local_input(\"inputs_3.txt\")\n",
    "test = utils.get_local_input(\"test.txt\")"
   ]
  },
  {
   "cell_type": "code",
   "execution_count": 27,
   "metadata": {},
   "outputs": [
    {
     "name": "stdout",
     "output_type": "stream",
     "text": [
      "299\n"
     ]
    }
   ],
   "source": [
    "def ski(route, right, down):\n",
    "    across = 0\n",
    "    trees = 0\n",
    "    length = len(route)\n",
    "    width = len(route[0])\n",
    "    for r in range(0, length - down, down):\n",
    "        across = (across + right) % width\n",
    "        if route[r + down][across] == \"#\":\n",
    "            trees += 1\n",
    "    return trees\n",
    "    \n",
    "print(ski(slope, 3, 1))"
   ]
  },
  {
   "cell_type": "code",
   "execution_count": 29,
   "metadata": {},
   "outputs": [
    {
     "name": "stdout",
     "output_type": "stream",
     "text": [
      "2\n",
      "7\n",
      "3\n",
      "4\n",
      "2\n",
      "336\n"
     ]
    }
   ],
   "source": [
    "runs = [(1, 1), (3, 1), (5, 1), (7, 1), (1, 2)]\n",
    "\n",
    "total = 1\n",
    "for run in runs: \n",
    "    trees = ski(test, run[0], run[1])\n",
    "    print(trees)\n",
    "    total *= trees\n",
    "\n",
    "print(total)"
   ]
  },
  {
   "cell_type": "code",
   "execution_count": 28,
   "metadata": {},
   "outputs": [
    {
     "name": "stdout",
     "output_type": "stream",
     "text": [
      "3621285278\n"
     ]
    }
   ],
   "source": [
    "total = 1\n",
    "for run in runs: \n",
    "    trees = ski(slope, run[0], run[1])\n",
    "    total *= trees\n",
    "\n",
    "print(total)"
   ]
  },
  {
   "cell_type": "code",
   "execution_count": null,
   "metadata": {},
   "outputs": [],
   "source": []
  }
 ],
 "metadata": {
  "kernelspec": {
   "display_name": "scrapbook",
   "language": "python",
   "name": "scrapbook"
  },
  "language_info": {
   "codemirror_mode": {
    "name": "ipython",
    "version": 3
   },
   "file_extension": ".py",
   "mimetype": "text/x-python",
   "name": "python",
   "nbconvert_exporter": "python",
   "pygments_lexer": "ipython3",
   "version": "3.8.5"
  }
 },
 "nbformat": 4,
 "nbformat_minor": 4
}
