{
 "cells": [
  {
   "cell_type": "code",
   "execution_count": 1,
   "metadata": {},
   "outputs": [],
   "source": [
    "import utils"
   ]
  },
  {
   "cell_type": "code",
   "execution_count": 2,
   "metadata": {},
   "outputs": [],
   "source": [
    "data = utils.get_local_input(\"inputs_2.txt\")"
   ]
  },
  {
   "cell_type": "code",
   "execution_count": 10,
   "metadata": {},
   "outputs": [],
   "source": [
    "def split_row(row):\n",
    "    rule, password = row.rsplit(\": \", 1)\n",
    "    counts, letter = rule.split(\" \", 1)\n",
    "    min_count, max_count = (int(c) for c in counts.split(\"-\"))\n",
    "    return (min_count, max_count, letter, password)\n",
    "\n",
    "def is_valid(row):\n",
    "    min_count, max_count, letter, password = split_row(row)\n",
    "    result = password.count(letter)\n",
    "    if min_count <= result <= max_count:\n",
    "        return True\n",
    "    else:\n",
    "        return False\n",
    "    \n",
    "def is_valid_part_two(row):\n",
    "    first, second, letter, password = split_row(row)\n",
    "    return (password[first-1] == letter) ^ (password[second-1] == letter)"
   ]
  },
  {
   "cell_type": "code",
   "execution_count": 8,
   "metadata": {},
   "outputs": [
    {
     "name": "stdout",
     "output_type": "stream",
     "text": [
      "There are 519 valid passwords\n"
     ]
    }
   ],
   "source": [
    "# part one\n",
    "total = sum([is_valid(d) for d in data])\n",
    "print(f\"There are {total} valid passwords\")"
   ]
  },
  {
   "cell_type": "code",
   "execution_count": 12,
   "metadata": {},
   "outputs": [
    {
     "name": "stdout",
     "output_type": "stream",
     "text": [
      "There are 708 valid passwords\n"
     ]
    }
   ],
   "source": [
    "# part two\n",
    "total = sum([is_valid_part_two(d) for d in data])\n",
    "print(f\"There are {total} valid passwords\")"
   ]
  },
  {
   "cell_type": "code",
   "execution_count": null,
   "metadata": {},
   "outputs": [],
   "source": []
  }
 ],
 "metadata": {
  "kernelspec": {
   "display_name": "scrapbook",
   "language": "python",
   "name": "scrapbook"
  },
  "language_info": {
   "codemirror_mode": {
    "name": "ipython",
    "version": 3
   },
   "file_extension": ".py",
   "mimetype": "text/x-python",
   "name": "python",
   "nbconvert_exporter": "python",
   "pygments_lexer": "ipython3",
   "version": "3.8.5"
  }
 },
 "nbformat": 4,
 "nbformat_minor": 4
}
