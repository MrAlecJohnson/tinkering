{
 "cells": [
  {
   "cell_type": "code",
   "execution_count": 2,
   "metadata": {},
   "outputs": [],
   "source": [
    "with open(\"inputs_1.txt\") as f:\n",
    "    numbers = [int(num.strip()) for num in f.readlines()]"
   ]
  },
  {
   "cell_type": "code",
   "execution_count": 5,
   "metadata": {},
   "outputs": [
    {
     "name": "stdout",
     "output_type": "stream",
     "text": [
      "Answer: 928896\n",
      "Made up of 1312 and 708\n"
     ]
    }
   ],
   "source": [
    "# puzzle 1\n",
    "for i in range(len(numbers)):\n",
    "    for j in numbers[i+1:]:\n",
    "        if numbers[i] + j == 2020:\n",
    "            print(\"Answer:\", numbers[i]*j)\n",
    "            print(f\"Made up of {numbers[i]} and {j}\")\n",
    "            break"
   ]
  },
  {
   "cell_type": "code",
   "execution_count": 8,
   "metadata": {},
   "outputs": [
    {
     "name": "stdout",
     "output_type": "stream",
     "text": [
      "Numbers are 798, 664, 558\n",
      "Result is 295668576\n"
     ]
    }
   ],
   "source": [
    "# puzzle 2\n",
    "size = len(numbers)\n",
    "for i in range(size):\n",
    "    current = numbers[i]\n",
    "    for j in range(i+1, size):\n",
    "        subtotal = current + numbers[j]\n",
    "        if subtotal < 2020:\n",
    "            for k in range(j+1, size):\n",
    "                if subtotal + numbers[k] == 2020:\n",
    "                    print(f\"Numbers are {current}, {numbers[j]}, {numbers[k]}\")\n",
    "                    print(f\"Result is {current * numbers[j] * numbers[k]}\")\n",
    "                    break"
   ]
  },
  {
   "cell_type": "code",
   "execution_count": null,
   "metadata": {},
   "outputs": [],
   "source": []
  }
 ],
 "metadata": {
  "kernelspec": {
   "display_name": "scrapbook",
   "language": "python",
   "name": "scrapbook"
  },
  "language_info": {
   "codemirror_mode": {
    "name": "ipython",
    "version": 3
   },
   "file_extension": ".py",
   "mimetype": "text/x-python",
   "name": "python",
   "nbconvert_exporter": "python",
   "pygments_lexer": "ipython3",
   "version": "3.8.5"
  }
 },
 "nbformat": 4,
 "nbformat_minor": 4
}
